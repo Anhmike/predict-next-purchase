{
 "cells": [
  {
   "cell_type": "markdown",
   "metadata": {},
   "source": [
    "# Predicting a customer's next purchase using automated feature engineering\n",
    "\n",
    "<p style=\"margin:30px\">\n",
    "    <img width=50% src=\"https://www.featuretools.com/wp-content/uploads/2017/12/FeatureLabs-Logo-Tangerine-800.png\" alt=\"Featuretools\" />\n",
    "</p>\n",
    "\n",
    "**As customers use your product, they leave behind a trail of behaviors that indicate how they will act in the future. Through automated feature engineering we can identify the predictive patterns in granular customer behavioral data that can be used to improve the customer's experience and generate additional revenue for your business.**\n",
    "\n",
    "In this tutorial, we show how [Featuretools](http://www.featuretools.com) can be used to perform feature engineering on a multi-table dataset of 3 million online grocery orders provided by Instacart. We will generate a feature matrix that can be used to train a machine learning model to predict what product a customer buys next.\n",
    "\n",
    "*Note: This notebook requires a dataset from Instacart. You can download the dataset [here](https://www.instacart.com/datasets/grocery-shopping-2017). Once you have downloaded the data, be sure to place the CSV files contained in the archive in a directory called `data`. If you use a different directory name, you will need to update the code below to point to the proper location.*\n",
    "\n",
    "## Highlights\n",
    "\n",
    "* We automatically generate features using Deep Feature Synthesis and select the 20 most important features for predictive modeling\n",
    "* We demonstrate how to generate features in a scalable manner using [Dask](http://dask.pydata.org/en/latest/)\n",
    "* We automatically generate label times using [Compose](https://github.com/FeatureLabs/compose) which can be reused for numerous prediction problems\n",
    "* We develop a model for predicting what a customer will buy next, starting with a sample of data and then scaling to the full dataset"
   ]
  },
  {
   "cell_type": "markdown",
   "metadata": {},
   "source": [
    "## You must have Featuretools version 0.16.0 or greater installed to run this notebook"
   ]
  },
  {
   "cell_type": "code",
   "execution_count": 1,
   "metadata": {},
   "outputs": [
    {
     "data": {
      "text/plain": [
       "'0.17.0'"
      ]
     },
     "execution_count": 1,
     "metadata": {},
     "output_type": "execute_result"
    }
   ],
   "source": [
    "import os\n",
    "import composeml as cp\n",
    "import featuretools as ft\n",
    "import dask.dataframe as dd\n",
    "import numpy as np\n",
    "import pandas as pd\n",
    "import utils\n",
    "from sklearn.ensemble import RandomForestClassifier\n",
    "from sklearn.model_selection import cross_val_score\n",
    "\n",
    "from dask.distributed import Client\n",
    "ft.__version__"
   ]
  },
  {
   "cell_type": "markdown",
   "metadata": {},
   "source": [
    "## Step 1. Load and preprocess data\n",
    "\n",
    "First, we will create a Dask distributed client so we can track the progress of our computation on the Dask dashboard that is created when the client is initialized."
   ]
  },
  {
   "cell_type": "code",
   "execution_count": 2,
   "metadata": {},
   "outputs": [
    {
     "data": {
      "text/html": [
       "<table style=\"border: 2px solid white;\">\n",
       "<tr>\n",
       "<td style=\"vertical-align: top; border: 0px solid white\">\n",
       "<h3 style=\"text-align: left;\">Client</h3>\n",
       "<ul style=\"text-align: left; list-style: none; margin: 0; padding: 0;\">\n",
       "  <li><b>Scheduler: </b>tcp://127.0.0.1:52605</li>\n",
       "  <li><b>Dashboard: </b><a href='http://127.0.0.1:8787/status' target='_blank'>http://127.0.0.1:8787/status</a></li>\n",
       "</ul>\n",
       "</td>\n",
       "<td style=\"vertical-align: top; border: 0px solid white\">\n",
       "<h3 style=\"text-align: left;\">Cluster</h3>\n",
       "<ul style=\"text-align: left; list-style:none; margin: 0; padding: 0;\">\n",
       "  <li><b>Workers: </b>2</li>\n",
       "  <li><b>Cores: </b>16</li>\n",
       "  <li><b>Memory: </b>17.18 GB</li>\n",
       "</ul>\n",
       "</td>\n",
       "</tr>\n",
       "</table>"
      ],
      "text/plain": [
       "<Client: 'tcp://127.0.0.1:52605' processes=2 threads=16, memory=17.18 GB>"
      ]
     },
     "execution_count": 2,
     "metadata": {},
     "output_type": "execute_result"
    }
   ],
   "source": [
    "client = Client(n_workers=2)\n",
    "client"
   ]
  },
  {
   "cell_type": "markdown",
   "metadata": {},
   "source": [
    "Next, we will specify our input and output directories and set the blocksize we will be using to read the raw CSV files into Dask dataframes. When running on a machine with 16GB of memory available for two Dask workers, a `100MB` blocksize has worked well. This number may need to be adjusted based on your specific environment. Refer to the [Dask documentation](https://docs.dask.org/en/latest/best-practices.html) for additional info."
   ]
  },
  {
   "cell_type": "code",
   "execution_count": 3,
   "metadata": {},
   "outputs": [],
   "source": [
    "data_dir = os.path.join(\"data\")\n",
    "output_dir = os.path.join(\"data\", \"dask_data\")\n",
    "blocksize = \"100MB\""
   ]
  },
  {
   "cell_type": "markdown",
   "metadata": {},
   "source": [
    "Now we will read our data into Dask dataframes. This operation will complete quite fast as we are not actually bringing the data into memory at this stage."
   ]
  },
  {
   "cell_type": "code",
   "execution_count": 4,
   "metadata": {},
   "outputs": [],
   "source": [
    "order_products = dd.concat([dd.read_csv(os.path.join(data_dir, \"order_products__prior.csv\"), blocksize=blocksize),\n",
    "                            dd.read_csv(os.path.join(data_dir, \"order_products__train.csv\"), blocksize=blocksize)])\n",
    "orders = dd.read_csv(os.path.join(data_dir, \"orders.csv\"), blocksize=blocksize)\n",
    "departments = dd.read_csv(os.path.join(data_dir, \"departments.csv\"), blocksize=blocksize)\n",
    "products = dd.read_csv(os.path.join(data_dir, \"products.csv\"), blocksize=blocksize)"
   ]
  },
  {
   "cell_type": "markdown",
   "metadata": {},
   "source": [
    "In the next few cells, we will perform some required preprocessing to clean up our data. We will merge together some of the raw dataframes and add absolute order time information from the relative times used in the raw data. This will allow us to use cutoff times as part of the Deep Feature Synthesis process."
   ]
  },
  {
   "cell_type": "code",
   "execution_count": 5,
   "metadata": {},
   "outputs": [],
   "source": [
    "order_products = order_products.merge(products).merge(departments)"
   ]
  },
  {
   "cell_type": "code",
   "execution_count": 6,
   "metadata": {},
   "outputs": [],
   "source": [
    "def add_time(df):\n",
    "    df.reset_index(drop=True)\n",
    "    df[\"order_time\"] = np.nan\n",
    "    days_since = df.columns.tolist().index(\"days_since_prior_order\")\n",
    "    hour_of_day = df.columns.tolist().index(\"order_hour_of_day\")\n",
    "    order_time = df.columns.tolist().index(\"order_time\")\n",
    "\n",
    "    df.iloc[0, order_time] = pd.Timestamp('Jan 1, 2015') +  pd.Timedelta(df.iloc[0, hour_of_day], \"h\")\n",
    "    for i in range(1, df.shape[0]):\n",
    "        df.iloc[i, order_time] = df.iloc[i - 1, order_time] \\\n",
    "            + pd.Timedelta(df.iloc[i, days_since], \"d\") \\\n",
    "                                    + pd.Timedelta(df.iloc[i, hour_of_day], \"h\")\n",
    "\n",
    "    to_drop = [\"order_number\", \"order_dow\", \"order_hour_of_day\", \"days_since_prior_order\", \"eval_set\"]\n",
    "    df.drop(to_drop, axis=1, inplace=True)\n",
    "\n",
    "    return df"
   ]
  },
  {
   "cell_type": "code",
   "execution_count": 7,
   "metadata": {},
   "outputs": [],
   "source": [
    "orders = orders.groupby(\"user_id\").apply(add_time, meta={\n",
    "    \"order_id\": int,\n",
    "    \"user_id\": int,\n",
    "    \"order_time\": np.datetime64(0, 'ns').dtype})\n",
    "order_products = order_products.merge(orders[[\"order_id\", \"order_time\"]])\n",
    "order_products[\"order_product_id\"] = order_products[\"order_id\"] * 1000 + order_products[\"add_to_cart_order\"]\n",
    "order_products = order_products.drop([\"product_id\", \"department_id\", \"add_to_cart_order\"], axis=1)"
   ]
  },
  {
   "cell_type": "markdown",
   "metadata": {},
   "source": [
    "Now that the preprocessing work is complete, we will save the results to disk. This will allow us to start from this point in the process in the future, without having to repeat all of the preprocessing steps. If you have already saved the results to disk previously, you can skip the cell below.\n",
    "\n",
    "#### Note: The process of saving to CSV is computationally intensive and may take 45 minutes or more, depending on the system you are using. You can use the Dask dashboard to monitor the progress."
   ]
  },
  {
   "cell_type": "code",
   "execution_count": 8,
   "metadata": {},
   "outputs": [
    {
     "data": {
      "text/plain": [
       "['/Users/nate.parsons/dev/featuretools-demos/predict-next-purchase/data/dask_data/order_products-0.csv',\n",
       " '/Users/nate.parsons/dev/featuretools-demos/predict-next-purchase/data/dask_data/order_products-1.csv',\n",
       " '/Users/nate.parsons/dev/featuretools-demos/predict-next-purchase/data/dask_data/order_products-2.csv',\n",
       " '/Users/nate.parsons/dev/featuretools-demos/predict-next-purchase/data/dask_data/order_products-3.csv',\n",
       " '/Users/nate.parsons/dev/featuretools-demos/predict-next-purchase/data/dask_data/order_products-4.csv',\n",
       " '/Users/nate.parsons/dev/featuretools-demos/predict-next-purchase/data/dask_data/order_products-5.csv',\n",
       " '/Users/nate.parsons/dev/featuretools-demos/predict-next-purchase/data/dask_data/order_products-6.csv']"
      ]
     },
     "execution_count": 8,
     "metadata": {},
     "output_type": "execute_result"
    }
   ],
   "source": [
    "# Save preprocessed data to disk\n",
    "orders.to_csv(os.path.join(output_dir, \"orders-*.csv\"), index=False)\n",
    "order_products.to_csv(os.path.join(output_dir, \"order_products-*.csv\"), index=False)"
   ]
  },
  {
   "cell_type": "markdown",
   "metadata": {},
   "source": [
    "If you have already performed the preprocessing steps and saved the processed files to disk, you can read them in with the commands in the following cell."
   ]
  },
  {
   "cell_type": "code",
   "execution_count": 9,
   "metadata": {},
   "outputs": [],
   "source": [
    "# Read preprocessed data from disk\n",
    "orders = dd.read_csv(os.path.join(output_dir, \"orders-*.csv\"), blocksize=blocksize)\n",
    "order_products = dd.read_csv(os.path.join(output_dir, \"order_products-*.csv\"), blocksize=blocksize)"
   ]
  },
  {
   "cell_type": "code",
   "execution_count": 10,
   "metadata": {},
   "outputs": [
    {
     "data": {
      "text/html": [
       "<div>\n",
       "<style scoped>\n",
       "    .dataframe tbody tr th:only-of-type {\n",
       "        vertical-align: middle;\n",
       "    }\n",
       "\n",
       "    .dataframe tbody tr th {\n",
       "        vertical-align: top;\n",
       "    }\n",
       "\n",
       "    .dataframe thead th {\n",
       "        text-align: right;\n",
       "    }\n",
       "</style>\n",
       "<table border=\"1\" class=\"dataframe\">\n",
       "  <thead>\n",
       "    <tr style=\"text-align: right;\">\n",
       "      <th></th>\n",
       "      <th>order_id</th>\n",
       "      <th>user_id</th>\n",
       "      <th>order_time</th>\n",
       "    </tr>\n",
       "  </thead>\n",
       "  <tbody>\n",
       "    <tr>\n",
       "      <th>0</th>\n",
       "      <td>2539329</td>\n",
       "      <td>1</td>\n",
       "      <td>2015-01-01 08:00:00</td>\n",
       "    </tr>\n",
       "    <tr>\n",
       "      <th>1</th>\n",
       "      <td>2398795</td>\n",
       "      <td>1</td>\n",
       "      <td>2015-01-16 15:00:00</td>\n",
       "    </tr>\n",
       "    <tr>\n",
       "      <th>2</th>\n",
       "      <td>473747</td>\n",
       "      <td>1</td>\n",
       "      <td>2015-02-07 03:00:00</td>\n",
       "    </tr>\n",
       "    <tr>\n",
       "      <th>3</th>\n",
       "      <td>2254736</td>\n",
       "      <td>1</td>\n",
       "      <td>2015-03-08 10:00:00</td>\n",
       "    </tr>\n",
       "    <tr>\n",
       "      <th>4</th>\n",
       "      <td>431534</td>\n",
       "      <td>1</td>\n",
       "      <td>2015-04-06 01:00:00</td>\n",
       "    </tr>\n",
       "  </tbody>\n",
       "</table>\n",
       "</div>"
      ],
      "text/plain": [
       "   order_id  user_id           order_time\n",
       "0   2539329        1  2015-01-01 08:00:00\n",
       "1   2398795        1  2015-01-16 15:00:00\n",
       "2    473747        1  2015-02-07 03:00:00\n",
       "3   2254736        1  2015-03-08 10:00:00\n",
       "4    431534        1  2015-04-06 01:00:00"
      ]
     },
     "execution_count": 10,
     "metadata": {},
     "output_type": "execute_result"
    }
   ],
   "source": [
    "orders.head()"
   ]
  },
  {
   "cell_type": "code",
   "execution_count": 11,
   "metadata": {},
   "outputs": [
    {
     "data": {
      "text/html": [
       "<div>\n",
       "<style scoped>\n",
       "    .dataframe tbody tr th:only-of-type {\n",
       "        vertical-align: middle;\n",
       "    }\n",
       "\n",
       "    .dataframe tbody tr th {\n",
       "        vertical-align: top;\n",
       "    }\n",
       "\n",
       "    .dataframe thead th {\n",
       "        text-align: right;\n",
       "    }\n",
       "</style>\n",
       "<table border=\"1\" class=\"dataframe\">\n",
       "  <thead>\n",
       "    <tr style=\"text-align: right;\">\n",
       "      <th></th>\n",
       "      <th>order_id</th>\n",
       "      <th>reordered</th>\n",
       "      <th>product_name</th>\n",
       "      <th>aisle_id</th>\n",
       "      <th>department</th>\n",
       "      <th>order_time</th>\n",
       "      <th>order_product_id</th>\n",
       "    </tr>\n",
       "  </thead>\n",
       "  <tbody>\n",
       "    <tr>\n",
       "      <th>0</th>\n",
       "      <td>800</td>\n",
       "      <td>1</td>\n",
       "      <td>Organic Egg Whites</td>\n",
       "      <td>86</td>\n",
       "      <td>dairy eggs</td>\n",
       "      <td>2015-01-11 10:00:00</td>\n",
       "      <td>800003</td>\n",
       "    </tr>\n",
       "    <tr>\n",
       "      <th>1</th>\n",
       "      <td>800</td>\n",
       "      <td>0</td>\n",
       "      <td>Grilled Chicken Breast Strips</td>\n",
       "      <td>49</td>\n",
       "      <td>meat seafood</td>\n",
       "      <td>2015-01-11 10:00:00</td>\n",
       "      <td>800004</td>\n",
       "    </tr>\n",
       "    <tr>\n",
       "      <th>2</th>\n",
       "      <td>800</td>\n",
       "      <td>0</td>\n",
       "      <td>Nux Vomica 6C Homeopathic Pellets</td>\n",
       "      <td>47</td>\n",
       "      <td>personal care</td>\n",
       "      <td>2015-01-11 10:00:00</td>\n",
       "      <td>800005</td>\n",
       "    </tr>\n",
       "    <tr>\n",
       "      <th>3</th>\n",
       "      <td>800</td>\n",
       "      <td>0</td>\n",
       "      <td>Kava Kava Root, Liquid Herbal Extract</td>\n",
       "      <td>47</td>\n",
       "      <td>personal care</td>\n",
       "      <td>2015-01-11 10:00:00</td>\n",
       "      <td>800006</td>\n",
       "    </tr>\n",
       "    <tr>\n",
       "      <th>4</th>\n",
       "      <td>800</td>\n",
       "      <td>0</td>\n",
       "      <td>Sedalia Homeopathic Medicine Stress Relief Qui...</td>\n",
       "      <td>47</td>\n",
       "      <td>personal care</td>\n",
       "      <td>2015-01-11 10:00:00</td>\n",
       "      <td>800011</td>\n",
       "    </tr>\n",
       "  </tbody>\n",
       "</table>\n",
       "</div>"
      ],
      "text/plain": [
       "   order_id  reordered                                       product_name  \\\n",
       "0       800          1                                 Organic Egg Whites   \n",
       "1       800          0                      Grilled Chicken Breast Strips   \n",
       "2       800          0                  Nux Vomica 6C Homeopathic Pellets   \n",
       "3       800          0              Kava Kava Root, Liquid Herbal Extract   \n",
       "4       800          0  Sedalia Homeopathic Medicine Stress Relief Qui...   \n",
       "\n",
       "   aisle_id     department           order_time  order_product_id  \n",
       "0        86     dairy eggs  2015-01-11 10:00:00            800003  \n",
       "1        49   meat seafood  2015-01-11 10:00:00            800004  \n",
       "2        47  personal care  2015-01-11 10:00:00            800005  \n",
       "3        47  personal care  2015-01-11 10:00:00            800006  \n",
       "4        47  personal care  2015-01-11 10:00:00            800011  "
      ]
     },
     "execution_count": 11,
     "metadata": {},
     "output_type": "execute_result"
    }
   ],
   "source": [
    "order_products.head()"
   ]
  },
  {
   "cell_type": "markdown",
   "metadata": {},
   "source": [
    "## Step 2: Create a Featuretools entityset\n",
    "\n",
    "When using Dask dataframes to create an entityset, variable type inference is not performed as it is with entitysets created from pandas dataframes. As a result, users must specify the Featuretools variable types for all of the columns in the dataframes that make up the entityset when using Dask. In the following cell we define the data types for the `order_products` and `orders` entities."
   ]
  },
  {
   "cell_type": "code",
   "execution_count": 12,
   "metadata": {},
   "outputs": [],
   "source": [
    "order_products_vtypes = {\n",
    "    \"order_id\": ft.variable_types.Id,\n",
    "    \"reordered\": ft.variable_types.Boolean,\n",
    "    \"product_name\": ft.variable_types.Categorical,\n",
    "    \"aisle_id\": ft.variable_types.Categorical,\n",
    "    \"department\": ft.variable_types.Categorical,\n",
    "    \"order_time\": ft.variable_types.Datetime,\n",
    "    \"order_product_id\": ft.variable_types.Index,\n",
    "}\n",
    "\n",
    "order_vtypes = {\n",
    "    \"order_id\": ft.variable_types.Index,\n",
    "    \"user_id\": ft.variable_types.Id,\n",
    "    \"order_time\": ft.variable_types.DatetimeTimeIndex,\n",
    "}"
   ]
  },
  {
   "cell_type": "markdown",
   "metadata": {},
   "source": [
    "Now that we have defined the data types, we can create the entityset and establish the relationship between the two entities. For our initial run we will use a sample of the full data to determine what features are the best predictors. Once we have the feature importances established we will rerun on the full dataset using only the most important features.\n",
    "\n",
    "First we will sample our data - grabbing the orders for 1000 different customers. Because we cannot pass a Dask series to `.isin()` we must call `.compute()` on the ids to convert this into a pandas series."
   ]
  },
  {
   "cell_type": "code",
   "execution_count": 13,
   "metadata": {},
   "outputs": [],
   "source": [
    "ids = orders['user_id'].unique().compute()[0:1000]\n",
    "orders_sample = orders[orders['user_id'].isin(ids)]"
   ]
  },
  {
   "cell_type": "markdown",
   "metadata": {},
   "source": [
    "Next we will get the order products associated with the orders we sampled. "
   ]
  },
  {
   "cell_type": "code",
   "execution_count": 14,
   "metadata": {},
   "outputs": [],
   "source": [
    "order_products_sample = order_products[order_products['order_id'].isin(orders_sample['order_id'].compute())]"
   ]
  },
  {
   "cell_type": "markdown",
   "metadata": {},
   "source": [
    "Now that we have sampled our data, we can create an entityset from these sampled dataframes."
   ]
  },
  {
   "cell_type": "code",
   "execution_count": 15,
   "metadata": {},
   "outputs": [
    {
     "data": {
      "text/plain": [
       "Entityset: instacart_sample\n",
       "  Entities:\n",
       "    order_products [Rows: Delayed('int-3490d85b-0c34-4f41-b177-122b9f13d0c8'), Columns: 7]\n",
       "    orders [Rows: Delayed('int-7054b524-0f76-491d-8c6d-1a96407ec407'), Columns: 3]\n",
       "  Relationships:\n",
       "    order_products.order_id -> orders.order_id"
      ]
     },
     "execution_count": 15,
     "metadata": {},
     "output_type": "execute_result"
    }
   ],
   "source": [
    "es = ft.EntitySet(\"instacart_sample\")\n",
    "es.entity_from_dataframe(entity_id=\"order_products\",\n",
    "                         dataframe=order_products_sample,\n",
    "                         index=\"order_product_id\",\n",
    "                         variable_types=order_products_vtypes,\n",
    "                         time_index=\"order_time\")\n",
    "\n",
    "es.entity_from_dataframe(entity_id=\"orders\",\n",
    "                         dataframe=orders_sample,\n",
    "                         index=\"order_id\",\n",
    "                         variable_types=order_vtypes,\n",
    "                         time_index=\"order_time\")\n",
    "\n",
    "es.add_relationship(ft.Relationship(es[\"orders\"][\"order_id\"], es[\"order_products\"][\"order_id\"]))"
   ]
  },
  {
   "cell_type": "markdown",
   "metadata": {},
   "source": [
    "Next, we will normalize the `orders` entity to create a new `users` entity that we will later use as the target entity during the deep feature synthesis process."
   ]
  },
  {
   "cell_type": "code",
   "execution_count": 16,
   "metadata": {},
   "outputs": [
    {
     "data": {
      "text/plain": [
       "Entityset: instacart_sample\n",
       "  Entities:\n",
       "    order_products [Rows: Delayed('int-3dd667f0-1311-45f4-8166-5ed5a0436947'), Columns: 7]\n",
       "    orders [Rows: Delayed('int-b5a044d3-6b9f-43e1-ae1a-6b4ac9acccc6'), Columns: 3]\n",
       "    users [Rows: Delayed('int-1d320c24-d094-46ed-9d48-e6ad56797b47'), Columns: 2]\n",
       "  Relationships:\n",
       "    order_products.order_id -> orders.order_id\n",
       "    orders.user_id -> users.user_id"
      ]
     },
     "execution_count": 16,
     "metadata": {},
     "output_type": "execute_result"
    }
   ],
   "source": [
    "es.normalize_entity(base_entity_id=\"orders\", new_entity_id=\"users\", index=\"user_id\")"
   ]
  },
  {
   "cell_type": "markdown",
   "metadata": {},
   "source": [
    "To finish up creation of the entity set we will add last time indexes and set some interesting values."
   ]
  },
  {
   "cell_type": "code",
   "execution_count": 17,
   "metadata": {},
   "outputs": [],
   "source": [
    "es.add_last_time_indexes()"
   ]
  },
  {
   "cell_type": "code",
   "execution_count": 18,
   "metadata": {},
   "outputs": [],
   "source": [
    "es[\"order_products\"][\"department\"].interesting_values = ['produce', 'dairy eggs', 'snacks', 'beverages', 'frozen', 'pantry', 'bakery', 'canned goods', 'deli', 'dry goods pasta']\n",
    "es[\"order_products\"][\"product_name\"].interesting_values = ['Banana', 'Bag of Organic Bananas', 'Organic Baby Spinach', 'Organic Strawberries', 'Organic Hass Avocado', 'Organic Avocado', 'Large Lemon', 'Limes', 'Strawberries', 'Organic Whole Milk']"
   ]
  },
  {
   "cell_type": "markdown",
   "metadata": {},
   "source": [
    "## Step 3. Use Compose to generate our cutoff times dataframe\n",
    "\n",
    "In the cells that follow we will demonstrate how [Compose](https://github.com/FeatureLabs/compose) can be used to generate the label times dataframe that will be used as cutoff times for deep feature synthesis.\n",
    "\n",
    "First we define a labeling function to add a label if a user has bought a specific product or not, and then we will create our `LabelMaker` using this function."
   ]
  },
  {
   "cell_type": "code",
   "execution_count": 19,
   "metadata": {},
   "outputs": [],
   "source": [
    "def bought_product(df, product_name):\n",
    "    purchased = df.product_name.str.contains(product_name).any()\n",
    "    return purchased"
   ]
  },
  {
   "cell_type": "code",
   "execution_count": 20,
   "metadata": {},
   "outputs": [],
   "source": [
    "lm = cp.LabelMaker(\n",
    "    target_entity='user_id',\n",
    "    time_index='order_time',\n",
    "    labeling_function=bought_product,\n",
    "    window_size='4w',\n",
    ")"
   ]
  },
  {
   "cell_type": "code",
   "execution_count": 21,
   "metadata": {},
   "outputs": [],
   "source": [
    "def denormalize(es):\n",
    "    df = es['order_products'].df.merge(es['orders'].df).merge(es['users'].df)\n",
    "    return df"
   ]
  },
  {
   "cell_type": "markdown",
   "metadata": {},
   "source": [
    "Compose does not currently work on Dask dataframes, so we must first run `.compute()` on the denormalized entityset to switch to pandas."
   ]
  },
  {
   "cell_type": "code",
   "execution_count": 22,
   "metadata": {},
   "outputs": [],
   "source": [
    "df = denormalize(es).compute()"
   ]
  },
  {
   "cell_type": "markdown",
   "metadata": {},
   "source": [
    "Now we can create our labels, indicating whether or not a user has purchased Bananas."
   ]
  },
  {
   "cell_type": "code",
   "execution_count": 23,
   "metadata": {},
   "outputs": [
    {
     "name": "stdout",
     "output_type": "stream",
     "text": [
      "Elapsed: 00:02 | Remaining: 00:00 | Progress: 100%|██████████| user_id: 2000/2000 \n"
     ]
    }
   ],
   "source": [
    "label_times = lm.search(\n",
    "    df.sort_values('order_time'),\n",
    "    minimum_data='2015-03-15',\n",
    "    num_examples_per_instance=2,\n",
    "    product_name='Banana',\n",
    "    verbose=True,\n",
    ")"
   ]
  },
  {
   "cell_type": "code",
   "execution_count": 24,
   "metadata": {},
   "outputs": [
    {
     "data": {
      "text/html": [
       "<div>\n",
       "<style scoped>\n",
       "    .dataframe tbody tr th:only-of-type {\n",
       "        vertical-align: middle;\n",
       "    }\n",
       "\n",
       "    .dataframe tbody tr th {\n",
       "        vertical-align: top;\n",
       "    }\n",
       "\n",
       "    .dataframe thead th {\n",
       "        text-align: right;\n",
       "    }\n",
       "</style>\n",
       "<table border=\"1\" class=\"dataframe\">\n",
       "  <thead>\n",
       "    <tr style=\"text-align: right;\">\n",
       "      <th></th>\n",
       "      <th>user_id</th>\n",
       "      <th>time</th>\n",
       "      <th>bought_product</th>\n",
       "    </tr>\n",
       "    <tr>\n",
       "      <th>id</th>\n",
       "      <th></th>\n",
       "      <th></th>\n",
       "      <th></th>\n",
       "    </tr>\n",
       "  </thead>\n",
       "  <tbody>\n",
       "    <tr>\n",
       "      <th>0</th>\n",
       "      <td>1</td>\n",
       "      <td>2015-03-15</td>\n",
       "      <td>True</td>\n",
       "    </tr>\n",
       "    <tr>\n",
       "      <th>1</th>\n",
       "      <td>1</td>\n",
       "      <td>2015-04-12</td>\n",
       "      <td>False</td>\n",
       "    </tr>\n",
       "    <tr>\n",
       "      <th>2</th>\n",
       "      <td>10</td>\n",
       "      <td>2015-03-15</td>\n",
       "      <td>False</td>\n",
       "    </tr>\n",
       "    <tr>\n",
       "      <th>3</th>\n",
       "      <td>10</td>\n",
       "      <td>2015-04-12</td>\n",
       "      <td>False</td>\n",
       "    </tr>\n",
       "    <tr>\n",
       "      <th>4</th>\n",
       "      <td>11</td>\n",
       "      <td>2015-03-15</td>\n",
       "      <td>False</td>\n",
       "    </tr>\n",
       "  </tbody>\n",
       "</table>\n",
       "</div>"
      ],
      "text/plain": [
       "    user_id       time  bought_product\n",
       "id                                    \n",
       "0         1 2015-03-15            True\n",
       "1         1 2015-04-12           False\n",
       "2        10 2015-03-15           False\n",
       "3        10 2015-04-12           False\n",
       "4        11 2015-03-15           False"
      ]
     },
     "execution_count": 24,
     "metadata": {},
     "output_type": "execute_result"
    }
   ],
   "source": [
    "label_times.head()"
   ]
  },
  {
   "cell_type": "markdown",
   "metadata": {},
   "source": [
    "## Step 4. Run Deep Feature Synthesis\n",
    "\n",
    "With our label times created, we are ready to run deep feature synthesis to generate our feature matrix. This will execute quickly and the resulting feature matrix will be returned as a Dask dataframe. This process does not cause the feature matrix to be computed or brought into memory.\n",
    "\n",
    "When we use DFS, we specify\n",
    "- `target_entity` - the table to build features for - `users` in this case\n",
    "- `cutoff_time` - the point in time to calculate the features\n",
    "\n",
    "A good way to think of the `cutoff_time` is that it let's us \"pretend\" we are at an earlier point in time when generating our features so we can simulate making predictions. We get this time for each customer from the label times we generated above.\n",
    "\n",
    "For this initial run we will not specify any primitives, which will result in all the default primitives being used to create features."
   ]
  },
  {
   "cell_type": "code",
   "execution_count": 25,
   "metadata": {},
   "outputs": [
    {
     "name": "stdout",
     "output_type": "stream",
     "text": [
      "Built 59 features\n",
      "Elapsed: 00:06 | Progress: 100%|██████████\n"
     ]
    }
   ],
   "source": [
    "feature_matrix, features = ft.dfs(target_entity=\"users\",\n",
    "                                  cutoff_time=label_times,\n",
    "                                  entityset=es,\n",
    "                                  verbose=True)"
   ]
  },
  {
   "cell_type": "markdown",
   "metadata": {},
   "source": [
    "Now that we have a Dask feature matrix, we can save it to disk for future use along with the features we generated. This process could take some time, but you can monitor the progress using the Dask dashboard."
   ]
  },
  {
   "cell_type": "code",
   "execution_count": 26,
   "metadata": {},
   "outputs": [
    {
     "data": {
      "text/plain": [
       "['/Users/nate.parsons/dev/featuretools-demos/predict-next-purchase/data/dask_data/initial_feature_matrix-0.csv',\n",
       " '/Users/nate.parsons/dev/featuretools-demos/predict-next-purchase/data/dask_data/initial_feature_matrix-1.csv',\n",
       " '/Users/nate.parsons/dev/featuretools-demos/predict-next-purchase/data/dask_data/initial_feature_matrix-2.csv']"
      ]
     },
     "execution_count": 26,
     "metadata": {},
     "output_type": "execute_result"
    }
   ],
   "source": [
    "ft.save_features(features, os.path.join(output_dir, \"initial_features.txt\"))\n",
    "feature_matrix.to_csv(os.path.join(output_dir, \"initial_feature_matrix-*.csv\"), index=False)"
   ]
  },
  {
   "cell_type": "markdown",
   "metadata": {},
   "source": [
    "Next, let's read back in the feature matrix we just saved, compute it and take a look at what we created."
   ]
  },
  {
   "cell_type": "code",
   "execution_count": 27,
   "metadata": {},
   "outputs": [
    {
     "data": {
      "text/html": [
       "<div>\n",
       "<style scoped>\n",
       "    .dataframe tbody tr th:only-of-type {\n",
       "        vertical-align: middle;\n",
       "    }\n",
       "\n",
       "    .dataframe tbody tr th {\n",
       "        vertical-align: top;\n",
       "    }\n",
       "\n",
       "    .dataframe thead th {\n",
       "        text-align: right;\n",
       "    }\n",
       "</style>\n",
       "<table border=\"1\" class=\"dataframe\">\n",
       "  <thead>\n",
       "    <tr style=\"text-align: right;\">\n",
       "      <th></th>\n",
       "      <th>COUNT(orders)</th>\n",
       "      <th>COUNT(order_products)</th>\n",
       "      <th>PERCENT_TRUE(order_products.reordered)</th>\n",
       "      <th>NUM_UNIQUE(order_products.aisle_id)</th>\n",
       "      <th>NUM_UNIQUE(order_products.department)</th>\n",
       "      <th>NUM_UNIQUE(order_products.product_name)</th>\n",
       "      <th>DAY(first_orders_time)</th>\n",
       "      <th>YEAR(first_orders_time)</th>\n",
       "      <th>MONTH(first_orders_time)</th>\n",
       "      <th>WEEKDAY(first_orders_time)</th>\n",
       "      <th>...</th>\n",
       "      <th>COUNT(order_products WHERE product_name = Organic Hass Avocado)</th>\n",
       "      <th>COUNT(order_products WHERE department = canned goods)</th>\n",
       "      <th>COUNT(order_products WHERE department = frozen)</th>\n",
       "      <th>COUNT(order_products WHERE product_name = Bag of Organic Bananas)</th>\n",
       "      <th>COUNT(order_products WHERE department = dry goods pasta)</th>\n",
       "      <th>COUNT(order_products WHERE department = produce)</th>\n",
       "      <th>COUNT(order_products WHERE product_name = Organic Avocado)</th>\n",
       "      <th>NUM_UNIQUE(order_products.orders.user_id)</th>\n",
       "      <th>user_id</th>\n",
       "      <th>bought_product</th>\n",
       "    </tr>\n",
       "  </thead>\n",
       "  <tbody>\n",
       "    <tr>\n",
       "      <th>0</th>\n",
       "      <td>8.0</td>\n",
       "      <td>168.0</td>\n",
       "      <td>0.523810</td>\n",
       "      <td>9.0</td>\n",
       "      <td>7.0</td>\n",
       "      <td>10.0</td>\n",
       "      <td>1.0</td>\n",
       "      <td>2015.0</td>\n",
       "      <td>1.0</td>\n",
       "      <td>3.0</td>\n",
       "      <td>...</td>\n",
       "      <td>0.0</td>\n",
       "      <td>0.0</td>\n",
       "      <td>0.0</td>\n",
       "      <td>8.0</td>\n",
       "      <td>0.0</td>\n",
       "      <td>8.0</td>\n",
       "      <td>0.0</td>\n",
       "      <td>1.0</td>\n",
       "      <td>1.0</td>\n",
       "      <td>True</td>\n",
       "    </tr>\n",
       "    <tr>\n",
       "      <th>1</th>\n",
       "      <td>4.0</td>\n",
       "      <td>228.0</td>\n",
       "      <td>0.175439</td>\n",
       "      <td>26.0</td>\n",
       "      <td>9.0</td>\n",
       "      <td>94.0</td>\n",
       "      <td>1.0</td>\n",
       "      <td>2015.0</td>\n",
       "      <td>1.0</td>\n",
       "      <td>3.0</td>\n",
       "      <td>...</td>\n",
       "      <td>0.0</td>\n",
       "      <td>4.0</td>\n",
       "      <td>2.0</td>\n",
       "      <td>0.0</td>\n",
       "      <td>0.0</td>\n",
       "      <td>118.0</td>\n",
       "      <td>0.0</td>\n",
       "      <td>1.0</td>\n",
       "      <td>10.0</td>\n",
       "      <td>False</td>\n",
       "    </tr>\n",
       "    <tr>\n",
       "      <th>2</th>\n",
       "      <td>8.0</td>\n",
       "      <td>408.0</td>\n",
       "      <td>0.392157</td>\n",
       "      <td>21.0</td>\n",
       "      <td>11.0</td>\n",
       "      <td>31.0</td>\n",
       "      <td>1.0</td>\n",
       "      <td>2015.0</td>\n",
       "      <td>1.0</td>\n",
       "      <td>3.0</td>\n",
       "      <td>...</td>\n",
       "      <td>0.0</td>\n",
       "      <td>32.0</td>\n",
       "      <td>8.0</td>\n",
       "      <td>0.0</td>\n",
       "      <td>0.0</td>\n",
       "      <td>40.0</td>\n",
       "      <td>0.0</td>\n",
       "      <td>1.0</td>\n",
       "      <td>11.0</td>\n",
       "      <td>False</td>\n",
       "    </tr>\n",
       "    <tr>\n",
       "      <th>3</th>\n",
       "      <td>18.0</td>\n",
       "      <td>448.0</td>\n",
       "      <td>0.589286</td>\n",
       "      <td>15.0</td>\n",
       "      <td>10.0</td>\n",
       "      <td>23.0</td>\n",
       "      <td>1.0</td>\n",
       "      <td>2015.0</td>\n",
       "      <td>1.0</td>\n",
       "      <td>3.0</td>\n",
       "      <td>...</td>\n",
       "      <td>0.0</td>\n",
       "      <td>40.0</td>\n",
       "      <td>0.0</td>\n",
       "      <td>0.0</td>\n",
       "      <td>16.0</td>\n",
       "      <td>72.0</td>\n",
       "      <td>0.0</td>\n",
       "      <td>1.0</td>\n",
       "      <td>13.0</td>\n",
       "      <td>False</td>\n",
       "    </tr>\n",
       "    <tr>\n",
       "      <th>4</th>\n",
       "      <td>4.0</td>\n",
       "      <td>80.0</td>\n",
       "      <td>0.175000</td>\n",
       "      <td>25.0</td>\n",
       "      <td>14.0</td>\n",
       "      <td>33.0</td>\n",
       "      <td>1.0</td>\n",
       "      <td>2015.0</td>\n",
       "      <td>1.0</td>\n",
       "      <td>3.0</td>\n",
       "      <td>...</td>\n",
       "      <td>0.0</td>\n",
       "      <td>12.0</td>\n",
       "      <td>6.0</td>\n",
       "      <td>0.0</td>\n",
       "      <td>4.0</td>\n",
       "      <td>16.0</td>\n",
       "      <td>0.0</td>\n",
       "      <td>1.0</td>\n",
       "      <td>14.0</td>\n",
       "      <td>False</td>\n",
       "    </tr>\n",
       "  </tbody>\n",
       "</table>\n",
       "<p>5 rows × 61 columns</p>\n",
       "</div>"
      ],
      "text/plain": [
       "   COUNT(orders)  COUNT(order_products)  \\\n",
       "0            8.0                  168.0   \n",
       "1            4.0                  228.0   \n",
       "2            8.0                  408.0   \n",
       "3           18.0                  448.0   \n",
       "4            4.0                   80.0   \n",
       "\n",
       "   PERCENT_TRUE(order_products.reordered)  \\\n",
       "0                                0.523810   \n",
       "1                                0.175439   \n",
       "2                                0.392157   \n",
       "3                                0.589286   \n",
       "4                                0.175000   \n",
       "\n",
       "   NUM_UNIQUE(order_products.aisle_id)  NUM_UNIQUE(order_products.department)  \\\n",
       "0                                  9.0                                    7.0   \n",
       "1                                 26.0                                    9.0   \n",
       "2                                 21.0                                   11.0   \n",
       "3                                 15.0                                   10.0   \n",
       "4                                 25.0                                   14.0   \n",
       "\n",
       "   NUM_UNIQUE(order_products.product_name)  DAY(first_orders_time)  \\\n",
       "0                                     10.0                     1.0   \n",
       "1                                     94.0                     1.0   \n",
       "2                                     31.0                     1.0   \n",
       "3                                     23.0                     1.0   \n",
       "4                                     33.0                     1.0   \n",
       "\n",
       "   YEAR(first_orders_time)  MONTH(first_orders_time)  \\\n",
       "0                   2015.0                       1.0   \n",
       "1                   2015.0                       1.0   \n",
       "2                   2015.0                       1.0   \n",
       "3                   2015.0                       1.0   \n",
       "4                   2015.0                       1.0   \n",
       "\n",
       "   WEEKDAY(first_orders_time)  ...  \\\n",
       "0                         3.0  ...   \n",
       "1                         3.0  ...   \n",
       "2                         3.0  ...   \n",
       "3                         3.0  ...   \n",
       "4                         3.0  ...   \n",
       "\n",
       "   COUNT(order_products WHERE product_name = Organic Hass Avocado)  \\\n",
       "0                                                0.0                 \n",
       "1                                                0.0                 \n",
       "2                                                0.0                 \n",
       "3                                                0.0                 \n",
       "4                                                0.0                 \n",
       "\n",
       "   COUNT(order_products WHERE department = canned goods)  \\\n",
       "0                                                0.0       \n",
       "1                                                4.0       \n",
       "2                                               32.0       \n",
       "3                                               40.0       \n",
       "4                                               12.0       \n",
       "\n",
       "   COUNT(order_products WHERE department = frozen)  \\\n",
       "0                                              0.0   \n",
       "1                                              2.0   \n",
       "2                                              8.0   \n",
       "3                                              0.0   \n",
       "4                                              6.0   \n",
       "\n",
       "   COUNT(order_products WHERE product_name = Bag of Organic Bananas)  \\\n",
       "0                                                8.0                   \n",
       "1                                                0.0                   \n",
       "2                                                0.0                   \n",
       "3                                                0.0                   \n",
       "4                                                0.0                   \n",
       "\n",
       "   COUNT(order_products WHERE department = dry goods pasta)  \\\n",
       "0                                                0.0          \n",
       "1                                                0.0          \n",
       "2                                                0.0          \n",
       "3                                               16.0          \n",
       "4                                                4.0          \n",
       "\n",
       "   COUNT(order_products WHERE department = produce)  \\\n",
       "0                                               8.0   \n",
       "1                                             118.0   \n",
       "2                                              40.0   \n",
       "3                                              72.0   \n",
       "4                                              16.0   \n",
       "\n",
       "   COUNT(order_products WHERE product_name = Organic Avocado)  \\\n",
       "0                                                0.0            \n",
       "1                                                0.0            \n",
       "2                                                0.0            \n",
       "3                                                0.0            \n",
       "4                                                0.0            \n",
       "\n",
       "   NUM_UNIQUE(order_products.orders.user_id)  user_id  bought_product  \n",
       "0                                        1.0      1.0            True  \n",
       "1                                        1.0     10.0           False  \n",
       "2                                        1.0     11.0           False  \n",
       "3                                        1.0     13.0           False  \n",
       "4                                        1.0     14.0           False  \n",
       "\n",
       "[5 rows x 61 columns]"
      ]
     },
     "execution_count": 27,
     "metadata": {},
     "output_type": "execute_result"
    }
   ],
   "source": [
    "features = ft.load_features(os.path.join(output_dir, \"initial_features.txt\"))\n",
    "fm = dd.read_csv(os.path.join(output_dir, \"initial_feature_matrix-*.csv\"), assume_missing=True).compute()\n",
    "fm.head()"
   ]
  },
  {
   "cell_type": "markdown",
   "metadata": {},
   "source": [
    "Before we use this feature matrix to build a predictive model, we will first encode any categorical features using `ft.encode_features()`. Note, at this time `ft.encode_features()` does not work with a Dask feature matrix, so we will use the pandas version we read from disk and computed above."
   ]
  },
  {
   "cell_type": "code",
   "execution_count": 28,
   "metadata": {},
   "outputs": [
    {
     "name": "stdout",
     "output_type": "stream",
     "text": [
      "Number of features 88\n"
     ]
    },
    {
     "data": {
      "text/html": [
       "<div>\n",
       "<style scoped>\n",
       "    .dataframe tbody tr th:only-of-type {\n",
       "        vertical-align: middle;\n",
       "    }\n",
       "\n",
       "    .dataframe tbody tr th {\n",
       "        vertical-align: top;\n",
       "    }\n",
       "\n",
       "    .dataframe thead th {\n",
       "        text-align: right;\n",
       "    }\n",
       "</style>\n",
       "<table border=\"1\" class=\"dataframe\">\n",
       "  <thead>\n",
       "    <tr style=\"text-align: right;\">\n",
       "      <th></th>\n",
       "      <th>COUNT(orders)</th>\n",
       "      <th>COUNT(order_products)</th>\n",
       "      <th>PERCENT_TRUE(order_products.reordered)</th>\n",
       "      <th>NUM_UNIQUE(order_products.aisle_id)</th>\n",
       "      <th>NUM_UNIQUE(order_products.department)</th>\n",
       "      <th>NUM_UNIQUE(order_products.product_name)</th>\n",
       "      <th>DAY(first_orders_time) = 1.0</th>\n",
       "      <th>DAY(first_orders_time) = 8.0</th>\n",
       "      <th>DAY(first_orders_time) = 9.0</th>\n",
       "      <th>DAY(first_orders_time) = 3.0</th>\n",
       "      <th>...</th>\n",
       "      <th>COUNT(order_products WHERE product_name = Organic Hass Avocado)</th>\n",
       "      <th>COUNT(order_products WHERE department = canned goods)</th>\n",
       "      <th>COUNT(order_products WHERE department = frozen)</th>\n",
       "      <th>COUNT(order_products WHERE product_name = Bag of Organic Bananas)</th>\n",
       "      <th>COUNT(order_products WHERE department = dry goods pasta)</th>\n",
       "      <th>COUNT(order_products WHERE department = produce)</th>\n",
       "      <th>COUNT(order_products WHERE product_name = Organic Avocado)</th>\n",
       "      <th>NUM_UNIQUE(order_products.orders.user_id)</th>\n",
       "      <th>user_id</th>\n",
       "      <th>bought_product</th>\n",
       "    </tr>\n",
       "  </thead>\n",
       "  <tbody>\n",
       "    <tr>\n",
       "      <th>0</th>\n",
       "      <td>8.0</td>\n",
       "      <td>168.0</td>\n",
       "      <td>0.523810</td>\n",
       "      <td>9.0</td>\n",
       "      <td>7.0</td>\n",
       "      <td>10.0</td>\n",
       "      <td>1</td>\n",
       "      <td>0</td>\n",
       "      <td>0</td>\n",
       "      <td>0</td>\n",
       "      <td>...</td>\n",
       "      <td>0.0</td>\n",
       "      <td>0.0</td>\n",
       "      <td>0.0</td>\n",
       "      <td>8.0</td>\n",
       "      <td>0.0</td>\n",
       "      <td>8.0</td>\n",
       "      <td>0.0</td>\n",
       "      <td>1.0</td>\n",
       "      <td>1.0</td>\n",
       "      <td>True</td>\n",
       "    </tr>\n",
       "    <tr>\n",
       "      <th>1</th>\n",
       "      <td>4.0</td>\n",
       "      <td>228.0</td>\n",
       "      <td>0.175439</td>\n",
       "      <td>26.0</td>\n",
       "      <td>9.0</td>\n",
       "      <td>94.0</td>\n",
       "      <td>1</td>\n",
       "      <td>0</td>\n",
       "      <td>0</td>\n",
       "      <td>0</td>\n",
       "      <td>...</td>\n",
       "      <td>0.0</td>\n",
       "      <td>4.0</td>\n",
       "      <td>2.0</td>\n",
       "      <td>0.0</td>\n",
       "      <td>0.0</td>\n",
       "      <td>118.0</td>\n",
       "      <td>0.0</td>\n",
       "      <td>1.0</td>\n",
       "      <td>10.0</td>\n",
       "      <td>False</td>\n",
       "    </tr>\n",
       "    <tr>\n",
       "      <th>2</th>\n",
       "      <td>8.0</td>\n",
       "      <td>408.0</td>\n",
       "      <td>0.392157</td>\n",
       "      <td>21.0</td>\n",
       "      <td>11.0</td>\n",
       "      <td>31.0</td>\n",
       "      <td>1</td>\n",
       "      <td>0</td>\n",
       "      <td>0</td>\n",
       "      <td>0</td>\n",
       "      <td>...</td>\n",
       "      <td>0.0</td>\n",
       "      <td>32.0</td>\n",
       "      <td>8.0</td>\n",
       "      <td>0.0</td>\n",
       "      <td>0.0</td>\n",
       "      <td>40.0</td>\n",
       "      <td>0.0</td>\n",
       "      <td>1.0</td>\n",
       "      <td>11.0</td>\n",
       "      <td>False</td>\n",
       "    </tr>\n",
       "    <tr>\n",
       "      <th>3</th>\n",
       "      <td>18.0</td>\n",
       "      <td>448.0</td>\n",
       "      <td>0.589286</td>\n",
       "      <td>15.0</td>\n",
       "      <td>10.0</td>\n",
       "      <td>23.0</td>\n",
       "      <td>1</td>\n",
       "      <td>0</td>\n",
       "      <td>0</td>\n",
       "      <td>0</td>\n",
       "      <td>...</td>\n",
       "      <td>0.0</td>\n",
       "      <td>40.0</td>\n",
       "      <td>0.0</td>\n",
       "      <td>0.0</td>\n",
       "      <td>16.0</td>\n",
       "      <td>72.0</td>\n",
       "      <td>0.0</td>\n",
       "      <td>1.0</td>\n",
       "      <td>13.0</td>\n",
       "      <td>False</td>\n",
       "    </tr>\n",
       "    <tr>\n",
       "      <th>4</th>\n",
       "      <td>4.0</td>\n",
       "      <td>80.0</td>\n",
       "      <td>0.175000</td>\n",
       "      <td>25.0</td>\n",
       "      <td>14.0</td>\n",
       "      <td>33.0</td>\n",
       "      <td>1</td>\n",
       "      <td>0</td>\n",
       "      <td>0</td>\n",
       "      <td>0</td>\n",
       "      <td>...</td>\n",
       "      <td>0.0</td>\n",
       "      <td>12.0</td>\n",
       "      <td>6.0</td>\n",
       "      <td>0.0</td>\n",
       "      <td>4.0</td>\n",
       "      <td>16.0</td>\n",
       "      <td>0.0</td>\n",
       "      <td>1.0</td>\n",
       "      <td>14.0</td>\n",
       "      <td>False</td>\n",
       "    </tr>\n",
       "  </tbody>\n",
       "</table>\n",
       "<p>5 rows × 90 columns</p>\n",
       "</div>"
      ],
      "text/plain": [
       "   COUNT(orders)  COUNT(order_products)  \\\n",
       "0            8.0                  168.0   \n",
       "1            4.0                  228.0   \n",
       "2            8.0                  408.0   \n",
       "3           18.0                  448.0   \n",
       "4            4.0                   80.0   \n",
       "\n",
       "   PERCENT_TRUE(order_products.reordered)  \\\n",
       "0                                0.523810   \n",
       "1                                0.175439   \n",
       "2                                0.392157   \n",
       "3                                0.589286   \n",
       "4                                0.175000   \n",
       "\n",
       "   NUM_UNIQUE(order_products.aisle_id)  NUM_UNIQUE(order_products.department)  \\\n",
       "0                                  9.0                                    7.0   \n",
       "1                                 26.0                                    9.0   \n",
       "2                                 21.0                                   11.0   \n",
       "3                                 15.0                                   10.0   \n",
       "4                                 25.0                                   14.0   \n",
       "\n",
       "   NUM_UNIQUE(order_products.product_name)  DAY(first_orders_time) = 1.0  \\\n",
       "0                                     10.0                             1   \n",
       "1                                     94.0                             1   \n",
       "2                                     31.0                             1   \n",
       "3                                     23.0                             1   \n",
       "4                                     33.0                             1   \n",
       "\n",
       "   DAY(first_orders_time) = 8.0  DAY(first_orders_time) = 9.0  \\\n",
       "0                             0                             0   \n",
       "1                             0                             0   \n",
       "2                             0                             0   \n",
       "3                             0                             0   \n",
       "4                             0                             0   \n",
       "\n",
       "   DAY(first_orders_time) = 3.0  ...  \\\n",
       "0                             0  ...   \n",
       "1                             0  ...   \n",
       "2                             0  ...   \n",
       "3                             0  ...   \n",
       "4                             0  ...   \n",
       "\n",
       "   COUNT(order_products WHERE product_name = Organic Hass Avocado)  \\\n",
       "0                                                0.0                 \n",
       "1                                                0.0                 \n",
       "2                                                0.0                 \n",
       "3                                                0.0                 \n",
       "4                                                0.0                 \n",
       "\n",
       "   COUNT(order_products WHERE department = canned goods)  \\\n",
       "0                                                0.0       \n",
       "1                                                4.0       \n",
       "2                                               32.0       \n",
       "3                                               40.0       \n",
       "4                                               12.0       \n",
       "\n",
       "   COUNT(order_products WHERE department = frozen)  \\\n",
       "0                                              0.0   \n",
       "1                                              2.0   \n",
       "2                                              8.0   \n",
       "3                                              0.0   \n",
       "4                                              6.0   \n",
       "\n",
       "   COUNT(order_products WHERE product_name = Bag of Organic Bananas)  \\\n",
       "0                                                8.0                   \n",
       "1                                                0.0                   \n",
       "2                                                0.0                   \n",
       "3                                                0.0                   \n",
       "4                                                0.0                   \n",
       "\n",
       "   COUNT(order_products WHERE department = dry goods pasta)  \\\n",
       "0                                                0.0          \n",
       "1                                                0.0          \n",
       "2                                                0.0          \n",
       "3                                               16.0          \n",
       "4                                                4.0          \n",
       "\n",
       "   COUNT(order_products WHERE department = produce)  \\\n",
       "0                                               8.0   \n",
       "1                                             118.0   \n",
       "2                                              40.0   \n",
       "3                                              72.0   \n",
       "4                                              16.0   \n",
       "\n",
       "   COUNT(order_products WHERE product_name = Organic Avocado)  \\\n",
       "0                                                0.0            \n",
       "1                                                0.0            \n",
       "2                                                0.0            \n",
       "3                                                0.0            \n",
       "4                                                0.0            \n",
       "\n",
       "   NUM_UNIQUE(order_products.orders.user_id)  user_id  bought_product  \n",
       "0                                        1.0      1.0            True  \n",
       "1                                        1.0     10.0           False  \n",
       "2                                        1.0     11.0           False  \n",
       "3                                        1.0     13.0           False  \n",
       "4                                        1.0     14.0           False  \n",
       "\n",
       "[5 rows x 90 columns]"
      ]
     },
     "execution_count": 28,
     "metadata": {},
     "output_type": "execute_result"
    }
   ],
   "source": [
    "fm_encoded, features_encoded = ft.encode_features(fm,\n",
    "                                                  features)\n",
    "\n",
    "print(\"Number of features %s\" % len(features_encoded))\n",
    "fm_encoded.head()"
   ]
  },
  {
   "cell_type": "markdown",
   "metadata": {},
   "source": [
    "## Step 5. Machine Learning\n",
    "\n",
    "Using the default parameters, we generated dozens of potential features for our prediction problem. With a few simple commands, this feature matrix can be used for machine learning"
   ]
  },
  {
   "cell_type": "code",
   "execution_count": 29,
   "metadata": {},
   "outputs": [],
   "source": [
    "X = fm_encoded.merge(label_times)\n",
    "X.drop([\"user_id\", \"time\"], axis=1, inplace=True)\n",
    "X = X.fillna(0)\n",
    "y = X.pop(\"bought_product\").astype('bool')"
   ]
  },
  {
   "cell_type": "code",
   "execution_count": 30,
   "metadata": {},
   "outputs": [
    {
     "data": {
      "text/html": [
       "<div>\n",
       "<style scoped>\n",
       "    .dataframe tbody tr th:only-of-type {\n",
       "        vertical-align: middle;\n",
       "    }\n",
       "\n",
       "    .dataframe tbody tr th {\n",
       "        vertical-align: top;\n",
       "    }\n",
       "\n",
       "    .dataframe thead th {\n",
       "        text-align: right;\n",
       "    }\n",
       "</style>\n",
       "<table border=\"1\" class=\"dataframe\">\n",
       "  <thead>\n",
       "    <tr style=\"text-align: right;\">\n",
       "      <th></th>\n",
       "      <th>COUNT(orders)</th>\n",
       "      <th>COUNT(order_products)</th>\n",
       "      <th>PERCENT_TRUE(order_products.reordered)</th>\n",
       "      <th>NUM_UNIQUE(order_products.aisle_id)</th>\n",
       "      <th>NUM_UNIQUE(order_products.department)</th>\n",
       "      <th>NUM_UNIQUE(order_products.product_name)</th>\n",
       "      <th>DAY(first_orders_time) = 1.0</th>\n",
       "      <th>DAY(first_orders_time) = 8.0</th>\n",
       "      <th>DAY(first_orders_time) = 9.0</th>\n",
       "      <th>DAY(first_orders_time) = 3.0</th>\n",
       "      <th>...</th>\n",
       "      <th>COUNT(order_products WHERE product_name = Strawberries)</th>\n",
       "      <th>COUNT(order_products WHERE department = bakery)</th>\n",
       "      <th>COUNT(order_products WHERE product_name = Organic Hass Avocado)</th>\n",
       "      <th>COUNT(order_products WHERE department = canned goods)</th>\n",
       "      <th>COUNT(order_products WHERE department = frozen)</th>\n",
       "      <th>COUNT(order_products WHERE product_name = Bag of Organic Bananas)</th>\n",
       "      <th>COUNT(order_products WHERE department = dry goods pasta)</th>\n",
       "      <th>COUNT(order_products WHERE department = produce)</th>\n",
       "      <th>COUNT(order_products WHERE product_name = Organic Avocado)</th>\n",
       "      <th>NUM_UNIQUE(order_products.orders.user_id)</th>\n",
       "    </tr>\n",
       "  </thead>\n",
       "  <tbody>\n",
       "    <tr>\n",
       "      <th>0</th>\n",
       "      <td>8.0</td>\n",
       "      <td>168.0</td>\n",
       "      <td>0.523810</td>\n",
       "      <td>9.0</td>\n",
       "      <td>7.0</td>\n",
       "      <td>10.0</td>\n",
       "      <td>1</td>\n",
       "      <td>0</td>\n",
       "      <td>0</td>\n",
       "      <td>0</td>\n",
       "      <td>...</td>\n",
       "      <td>0.0</td>\n",
       "      <td>0.0</td>\n",
       "      <td>0.0</td>\n",
       "      <td>0.0</td>\n",
       "      <td>0.0</td>\n",
       "      <td>8.0</td>\n",
       "      <td>0.0</td>\n",
       "      <td>8.0</td>\n",
       "      <td>0.0</td>\n",
       "      <td>1.0</td>\n",
       "    </tr>\n",
       "    <tr>\n",
       "      <th>1</th>\n",
       "      <td>4.0</td>\n",
       "      <td>228.0</td>\n",
       "      <td>0.175439</td>\n",
       "      <td>26.0</td>\n",
       "      <td>9.0</td>\n",
       "      <td>94.0</td>\n",
       "      <td>1</td>\n",
       "      <td>0</td>\n",
       "      <td>0</td>\n",
       "      <td>0</td>\n",
       "      <td>...</td>\n",
       "      <td>6.0</td>\n",
       "      <td>0.0</td>\n",
       "      <td>0.0</td>\n",
       "      <td>4.0</td>\n",
       "      <td>2.0</td>\n",
       "      <td>0.0</td>\n",
       "      <td>0.0</td>\n",
       "      <td>118.0</td>\n",
       "      <td>0.0</td>\n",
       "      <td>1.0</td>\n",
       "    </tr>\n",
       "    <tr>\n",
       "      <th>2</th>\n",
       "      <td>4.0</td>\n",
       "      <td>228.0</td>\n",
       "      <td>0.175439</td>\n",
       "      <td>26.0</td>\n",
       "      <td>9.0</td>\n",
       "      <td>94.0</td>\n",
       "      <td>1</td>\n",
       "      <td>0</td>\n",
       "      <td>0</td>\n",
       "      <td>0</td>\n",
       "      <td>...</td>\n",
       "      <td>6.0</td>\n",
       "      <td>0.0</td>\n",
       "      <td>0.0</td>\n",
       "      <td>4.0</td>\n",
       "      <td>2.0</td>\n",
       "      <td>0.0</td>\n",
       "      <td>0.0</td>\n",
       "      <td>118.0</td>\n",
       "      <td>0.0</td>\n",
       "      <td>1.0</td>\n",
       "    </tr>\n",
       "    <tr>\n",
       "      <th>3</th>\n",
       "      <td>5.0</td>\n",
       "      <td>286.0</td>\n",
       "      <td>0.342657</td>\n",
       "      <td>26.0</td>\n",
       "      <td>9.0</td>\n",
       "      <td>94.0</td>\n",
       "      <td>1</td>\n",
       "      <td>0</td>\n",
       "      <td>0</td>\n",
       "      <td>0</td>\n",
       "      <td>...</td>\n",
       "      <td>8.0</td>\n",
       "      <td>0.0</td>\n",
       "      <td>0.0</td>\n",
       "      <td>4.0</td>\n",
       "      <td>2.0</td>\n",
       "      <td>0.0</td>\n",
       "      <td>0.0</td>\n",
       "      <td>144.0</td>\n",
       "      <td>0.0</td>\n",
       "      <td>1.0</td>\n",
       "    </tr>\n",
       "    <tr>\n",
       "      <th>4</th>\n",
       "      <td>5.0</td>\n",
       "      <td>286.0</td>\n",
       "      <td>0.342657</td>\n",
       "      <td>26.0</td>\n",
       "      <td>9.0</td>\n",
       "      <td>94.0</td>\n",
       "      <td>1</td>\n",
       "      <td>0</td>\n",
       "      <td>0</td>\n",
       "      <td>0</td>\n",
       "      <td>...</td>\n",
       "      <td>8.0</td>\n",
       "      <td>0.0</td>\n",
       "      <td>0.0</td>\n",
       "      <td>4.0</td>\n",
       "      <td>2.0</td>\n",
       "      <td>0.0</td>\n",
       "      <td>0.0</td>\n",
       "      <td>144.0</td>\n",
       "      <td>0.0</td>\n",
       "      <td>1.0</td>\n",
       "    </tr>\n",
       "  </tbody>\n",
       "</table>\n",
       "<p>5 rows × 88 columns</p>\n",
       "</div>"
      ],
      "text/plain": [
       "   COUNT(orders)  COUNT(order_products)  \\\n",
       "0            8.0                  168.0   \n",
       "1            4.0                  228.0   \n",
       "2            4.0                  228.0   \n",
       "3            5.0                  286.0   \n",
       "4            5.0                  286.0   \n",
       "\n",
       "   PERCENT_TRUE(order_products.reordered)  \\\n",
       "0                                0.523810   \n",
       "1                                0.175439   \n",
       "2                                0.175439   \n",
       "3                                0.342657   \n",
       "4                                0.342657   \n",
       "\n",
       "   NUM_UNIQUE(order_products.aisle_id)  NUM_UNIQUE(order_products.department)  \\\n",
       "0                                  9.0                                    7.0   \n",
       "1                                 26.0                                    9.0   \n",
       "2                                 26.0                                    9.0   \n",
       "3                                 26.0                                    9.0   \n",
       "4                                 26.0                                    9.0   \n",
       "\n",
       "   NUM_UNIQUE(order_products.product_name)  DAY(first_orders_time) = 1.0  \\\n",
       "0                                     10.0                             1   \n",
       "1                                     94.0                             1   \n",
       "2                                     94.0                             1   \n",
       "3                                     94.0                             1   \n",
       "4                                     94.0                             1   \n",
       "\n",
       "   DAY(first_orders_time) = 8.0  DAY(first_orders_time) = 9.0  \\\n",
       "0                             0                             0   \n",
       "1                             0                             0   \n",
       "2                             0                             0   \n",
       "3                             0                             0   \n",
       "4                             0                             0   \n",
       "\n",
       "   DAY(first_orders_time) = 3.0  ...  \\\n",
       "0                             0  ...   \n",
       "1                             0  ...   \n",
       "2                             0  ...   \n",
       "3                             0  ...   \n",
       "4                             0  ...   \n",
       "\n",
       "   COUNT(order_products WHERE product_name = Strawberries)  \\\n",
       "0                                                0.0         \n",
       "1                                                6.0         \n",
       "2                                                6.0         \n",
       "3                                                8.0         \n",
       "4                                                8.0         \n",
       "\n",
       "   COUNT(order_products WHERE department = bakery)  \\\n",
       "0                                              0.0   \n",
       "1                                              0.0   \n",
       "2                                              0.0   \n",
       "3                                              0.0   \n",
       "4                                              0.0   \n",
       "\n",
       "   COUNT(order_products WHERE product_name = Organic Hass Avocado)  \\\n",
       "0                                                0.0                 \n",
       "1                                                0.0                 \n",
       "2                                                0.0                 \n",
       "3                                                0.0                 \n",
       "4                                                0.0                 \n",
       "\n",
       "   COUNT(order_products WHERE department = canned goods)  \\\n",
       "0                                                0.0       \n",
       "1                                                4.0       \n",
       "2                                                4.0       \n",
       "3                                                4.0       \n",
       "4                                                4.0       \n",
       "\n",
       "   COUNT(order_products WHERE department = frozen)  \\\n",
       "0                                              0.0   \n",
       "1                                              2.0   \n",
       "2                                              2.0   \n",
       "3                                              2.0   \n",
       "4                                              2.0   \n",
       "\n",
       "   COUNT(order_products WHERE product_name = Bag of Organic Bananas)  \\\n",
       "0                                                8.0                   \n",
       "1                                                0.0                   \n",
       "2                                                0.0                   \n",
       "3                                                0.0                   \n",
       "4                                                0.0                   \n",
       "\n",
       "   COUNT(order_products WHERE department = dry goods pasta)  \\\n",
       "0                                                0.0          \n",
       "1                                                0.0          \n",
       "2                                                0.0          \n",
       "3                                                0.0          \n",
       "4                                                0.0          \n",
       "\n",
       "   COUNT(order_products WHERE department = produce)  \\\n",
       "0                                               8.0   \n",
       "1                                             118.0   \n",
       "2                                             118.0   \n",
       "3                                             144.0   \n",
       "4                                             144.0   \n",
       "\n",
       "   COUNT(order_products WHERE product_name = Organic Avocado)  \\\n",
       "0                                                0.0            \n",
       "1                                                0.0            \n",
       "2                                                0.0            \n",
       "3                                                0.0            \n",
       "4                                                0.0            \n",
       "\n",
       "   NUM_UNIQUE(order_products.orders.user_id)  \n",
       "0                                        1.0  \n",
       "1                                        1.0  \n",
       "2                                        1.0  \n",
       "3                                        1.0  \n",
       "4                                        1.0  \n",
       "\n",
       "[5 rows x 88 columns]"
      ]
     },
     "execution_count": 30,
     "metadata": {},
     "output_type": "execute_result"
    }
   ],
   "source": [
    "X.head()"
   ]
  },
  {
   "cell_type": "code",
   "execution_count": 31,
   "metadata": {},
   "outputs": [
    {
     "data": {
      "text/plain": [
       "3408    False\n",
       "3409    False\n",
       "3410    False\n",
       "3411    False\n",
       "3412    False\n",
       "Name: bought_product, dtype: bool"
      ]
     },
     "execution_count": 31,
     "metadata": {},
     "output_type": "execute_result"
    }
   ],
   "source": [
    "y.tail()"
   ]
  },
  {
   "cell_type": "markdown",
   "metadata": {},
   "source": [
    "Let's train a Random Forest and validate using 3-fold cross validation"
   ]
  },
  {
   "cell_type": "code",
   "execution_count": 32,
   "metadata": {},
   "outputs": [
    {
     "name": "stderr",
     "output_type": "stream",
     "text": [
      "[Parallel(n_jobs=1)]: Using backend SequentialBackend with 1 concurrent workers.\n",
      "[Parallel(n_jobs=1)]: Done   3 out of   3 | elapsed:    3.7s finished\n"
     ]
    },
    {
     "data": {
      "text/plain": [
       "'AUC 0.74 +/- 0.02'"
      ]
     },
     "execution_count": 32,
     "metadata": {},
     "output_type": "execute_result"
    }
   ],
   "source": [
    "clf = RandomForestClassifier(n_estimators=400, n_jobs=-1)\n",
    "scores = cross_val_score(estimator=clf,X=X, y=y, cv=3,\n",
    "                         scoring=\"roc_auc\", verbose=True)\n",
    "\n",
    "\"AUC %.2f +/- %.2f\" % (scores.mean(), scores.std())"
   ]
  },
  {
   "cell_type": "markdown",
   "metadata": {},
   "source": [
    "As you can see this model predicts the next purchase much better than guessing. \n",
    "\n",
    "Next we will identify the top 20 features so we can use them to later perform machine learning on the whole dataset."
   ]
  },
  {
   "cell_type": "code",
   "execution_count": 33,
   "metadata": {},
   "outputs": [
    {
     "name": "stdout",
     "output_type": "stream",
     "text": [
      "1: Feature: COUNT(order_products WHERE product_name = Banana), 0.084\n",
      "2: Feature: COUNT(order_products WHERE product_name = Bag of Organic Bananas), 0.067\n",
      "3: Feature: COUNT(order_products WHERE department = produce), 0.032\n",
      "4: Feature: MEAN(orders.NUM_UNIQUE(order_products.product_name)), 0.031\n",
      "5: Feature: MEAN(orders.NUM_UNIQUE(order_products.aisle_id)), 0.027\n",
      "6: Feature: SUM(orders.NUM_UNIQUE(order_products.product_name)), 0.025\n",
      "7: Feature: STD(orders.PERCENT_TRUE(order_products.reordered)), 0.025\n",
      "8: Feature: MAX(orders.NUM_UNIQUE(order_products.product_name)), 0.025\n",
      "9: Feature: COUNT(order_products WHERE department = dairy eggs), 0.025\n",
      "10: Feature: NUM_UNIQUE(order_products.product_name), 0.024\n",
      "11: Feature: PERCENT_TRUE(order_products.reordered), 0.024\n",
      "12: Feature: MEAN(orders.NUM_UNIQUE(order_products.department)), 0.024\n",
      "13: Feature: MEAN(orders.PERCENT_TRUE(order_products.reordered)), 0.023\n",
      "14: Feature: STD(orders.NUM_UNIQUE(order_products.product_name)), 0.021\n",
      "15: Feature: STD(orders.NUM_UNIQUE(order_products.department)), 0.021\n",
      "16: Feature: STD(orders.COUNT(order_products)), 0.021\n",
      "17: Feature: MEAN(orders.COUNT(order_products)), 0.020\n",
      "18: Feature: STD(orders.NUM_UNIQUE(order_products.aisle_id)), 0.020\n",
      "19: Feature: SUM(orders.NUM_UNIQUE(order_products.aisle_id)), 0.020\n",
      "20: Feature: SUM(orders.PERCENT_TRUE(order_products.reordered)), 0.020\n"
     ]
    }
   ],
   "source": [
    "clf.fit(X, y)\n",
    "top_features = utils.feature_importances(clf, features_encoded, n=20)"
   ]
  },
  {
   "cell_type": "markdown",
   "metadata": {},
   "source": [
    "To persist these features, we can save them to disk."
   ]
  },
  {
   "cell_type": "code",
   "execution_count": 34,
   "metadata": {},
   "outputs": [],
   "source": [
    "ft.save_features(top_features, os.path.join(data_dir, \"top_features.txt\"))"
   ]
  },
  {
   "cell_type": "markdown",
   "metadata": {},
   "source": [
    "### Understanding feature engineering in Featuretools\n",
    "\n",
    "Before moving forward, take a look at the features we created. You will see that they are more than just simple transformations of columns in our raw data. Instead, they perform aggregations (and sometimes stacking of aggregations) across the relationships in our dataset. If you're curious how this works, learn about the Deep Feature Synthesis algorithm in our documentation [here](https://docs.featuretools.com/en/stable/automated_feature_engineering/afe.html).\n",
    "\n",
    "DFS is so powerful because with no manual work, the library figured out that historical purchases of bananas are important for predicting future purchases. Additionally, it surfaces that purchasing dairy or eggs and reordering behavior are important features.\n",
    "\n",
    "Even though these features are intuitive, Deep Feature Synthesis will automatically adapt as we change the prediction problem, saving us the time of manually brainstorming and implementing these data transformation."
   ]
  },
  {
   "cell_type": "markdown",
   "metadata": {},
   "source": [
    "## Step 6. Scale to Full Dataset\n",
    "\n",
    "Now that we have established the most important features, we will repeat the process of creating a feature matrix, using only these features, and then make predictions using our full dataset.\n",
    "\n",
    "To start, we will create a new entityset containing our full dataset."
   ]
  },
  {
   "cell_type": "code",
   "execution_count": 35,
   "metadata": {},
   "outputs": [
    {
     "data": {
      "text/plain": [
       "Entityset: instacart_full\n",
       "  Entities:\n",
       "    order_products [Rows: Delayed('int-cc77f8db-83b8-440b-997c-1a0e6ca90144'), Columns: 7]\n",
       "    orders [Rows: Delayed('int-fcc5374c-2967-4ba2-b147-434a39a1fcfa'), Columns: 3]\n",
       "  Relationships:\n",
       "    order_products.order_id -> orders.order_id"
      ]
     },
     "execution_count": 35,
     "metadata": {},
     "output_type": "execute_result"
    }
   ],
   "source": [
    "es = ft.EntitySet(\"instacart_full\")\n",
    "es.entity_from_dataframe(entity_id=\"order_products\",\n",
    "                         dataframe=order_products,\n",
    "                         index=\"order_product_id\",\n",
    "                         variable_types=order_products_vtypes,\n",
    "                         time_index=\"order_time\")\n",
    "\n",
    "es.entity_from_dataframe(entity_id=\"orders\",\n",
    "                         dataframe=orders,\n",
    "                         index=\"order_id\",\n",
    "                         variable_types=order_vtypes,\n",
    "                         time_index=\"order_time\")\n",
    "\n",
    "es.add_relationship(ft.Relationship(es[\"orders\"][\"order_id\"], es[\"order_products\"][\"order_id\"]))"
   ]
  },
  {
   "cell_type": "code",
   "execution_count": 36,
   "metadata": {},
   "outputs": [
    {
     "data": {
      "text/plain": [
       "Entityset: instacart_full\n",
       "  Entities:\n",
       "    order_products [Rows: Delayed('int-18ca464f-fa93-4175-afb7-e7e83e84a2c4'), Columns: 7]\n",
       "    orders [Rows: Delayed('int-37e4c9ea-de8c-4695-9fd2-34846d3bb367'), Columns: 3]\n",
       "    users [Rows: Delayed('int-fef5506f-b1d8-4d71-a1a3-f7b00b161454'), Columns: 2]\n",
       "  Relationships:\n",
       "    order_products.order_id -> orders.order_id\n",
       "    orders.user_id -> users.user_id"
      ]
     },
     "execution_count": 36,
     "metadata": {},
     "output_type": "execute_result"
    }
   ],
   "source": [
    "es.normalize_entity(base_entity_id=\"orders\", new_entity_id=\"users\", index=\"user_id\")"
   ]
  },
  {
   "cell_type": "code",
   "execution_count": 37,
   "metadata": {},
   "outputs": [],
   "source": [
    "es.add_last_time_indexes()\n",
    "es[\"order_products\"][\"department\"].interesting_values = ['produce', 'dairy eggs', 'snacks', 'beverages', 'frozen', 'pantry', 'bakery', 'canned goods', 'deli', 'dry goods pasta']\n",
    "es[\"order_products\"][\"product_name\"].interesting_values = ['Banana', 'Bag of Organic Bananas', 'Organic Baby Spinach', 'Organic Strawberries', 'Organic Hass Avocado', 'Organic Avocado', 'Large Lemon', 'Limes', 'Strawberries', 'Organic Whole Milk']"
   ]
  },
  {
   "cell_type": "markdown",
   "metadata": {},
   "source": [
    "We will use our previously defined Compose label maker to create cutoff times for the full dataset."
   ]
  },
  {
   "cell_type": "code",
   "execution_count": 38,
   "metadata": {},
   "outputs": [],
   "source": [
    "df = denormalize(es).compute()"
   ]
  },
  {
   "cell_type": "code",
   "execution_count": 39,
   "metadata": {},
   "outputs": [
    {
     "name": "stdout",
     "output_type": "stream",
     "text": [
      "Elapsed: 11:35 | Remaining: 00:00 | Progress: 100%|██████████| user_id: 412418/412418  \n"
     ]
    }
   ],
   "source": [
    "label_times = lm.search(\n",
    "    df.sort_values('order_time'),\n",
    "    minimum_data='2015-03-15',\n",
    "    num_examples_per_instance=2,\n",
    "    product_name='Banana',\n",
    "    verbose=True,\n",
    ")"
   ]
  },
  {
   "cell_type": "code",
   "execution_count": 40,
   "metadata": {},
   "outputs": [
    {
     "data": {
      "text/html": [
       "<div>\n",
       "<style scoped>\n",
       "    .dataframe tbody tr th:only-of-type {\n",
       "        vertical-align: middle;\n",
       "    }\n",
       "\n",
       "    .dataframe tbody tr th {\n",
       "        vertical-align: top;\n",
       "    }\n",
       "\n",
       "    .dataframe thead th {\n",
       "        text-align: right;\n",
       "    }\n",
       "</style>\n",
       "<table border=\"1\" class=\"dataframe\">\n",
       "  <thead>\n",
       "    <tr style=\"text-align: right;\">\n",
       "      <th></th>\n",
       "      <th>user_id</th>\n",
       "      <th>time</th>\n",
       "      <th>bought_product</th>\n",
       "    </tr>\n",
       "    <tr>\n",
       "      <th>id</th>\n",
       "      <th></th>\n",
       "      <th></th>\n",
       "      <th></th>\n",
       "    </tr>\n",
       "  </thead>\n",
       "  <tbody>\n",
       "    <tr>\n",
       "      <th>0</th>\n",
       "      <td>1</td>\n",
       "      <td>2015-03-15</td>\n",
       "      <td>True</td>\n",
       "    </tr>\n",
       "    <tr>\n",
       "      <th>1</th>\n",
       "      <td>1</td>\n",
       "      <td>2015-04-12</td>\n",
       "      <td>False</td>\n",
       "    </tr>\n",
       "    <tr>\n",
       "      <th>2</th>\n",
       "      <td>2</td>\n",
       "      <td>2015-03-15</td>\n",
       "      <td>True</td>\n",
       "    </tr>\n",
       "    <tr>\n",
       "      <th>3</th>\n",
       "      <td>2</td>\n",
       "      <td>2015-04-12</td>\n",
       "      <td>True</td>\n",
       "    </tr>\n",
       "    <tr>\n",
       "      <th>4</th>\n",
       "      <td>3</td>\n",
       "      <td>2015-03-15</td>\n",
       "      <td>False</td>\n",
       "    </tr>\n",
       "  </tbody>\n",
       "</table>\n",
       "</div>"
      ],
      "text/plain": [
       "    user_id       time  bought_product\n",
       "id                                    \n",
       "0         1 2015-03-15            True\n",
       "1         1 2015-04-12           False\n",
       "2         2 2015-03-15            True\n",
       "3         2 2015-04-12            True\n",
       "4         3 2015-03-15           False"
      ]
     },
     "execution_count": 40,
     "metadata": {},
     "output_type": "execute_result"
    }
   ],
   "source": [
    "label_times.head()"
   ]
  },
  {
   "cell_type": "markdown",
   "metadata": {},
   "source": [
    "Next we will read in the top 20 features we identified previously and calculate a feature matrix using only these features."
   ]
  },
  {
   "cell_type": "code",
   "execution_count": 41,
   "metadata": {},
   "outputs": [
    {
     "data": {
      "text/plain": [
       "[<Feature: COUNT(order_products WHERE product_name = Banana)>,\n",
       " <Feature: COUNT(order_products WHERE product_name = Bag of Organic Bananas)>,\n",
       " <Feature: COUNT(order_products WHERE department = produce)>,\n",
       " <Feature: MEAN(orders.NUM_UNIQUE(order_products.product_name))>,\n",
       " <Feature: MEAN(orders.NUM_UNIQUE(order_products.aisle_id))>,\n",
       " <Feature: SUM(orders.NUM_UNIQUE(order_products.product_name))>,\n",
       " <Feature: STD(orders.PERCENT_TRUE(order_products.reordered))>,\n",
       " <Feature: MAX(orders.NUM_UNIQUE(order_products.product_name))>,\n",
       " <Feature: COUNT(order_products WHERE department = dairy eggs)>,\n",
       " <Feature: NUM_UNIQUE(order_products.product_name)>,\n",
       " <Feature: PERCENT_TRUE(order_products.reordered)>,\n",
       " <Feature: MEAN(orders.NUM_UNIQUE(order_products.department))>,\n",
       " <Feature: MEAN(orders.PERCENT_TRUE(order_products.reordered))>,\n",
       " <Feature: STD(orders.NUM_UNIQUE(order_products.product_name))>,\n",
       " <Feature: STD(orders.NUM_UNIQUE(order_products.department))>,\n",
       " <Feature: STD(orders.COUNT(order_products))>,\n",
       " <Feature: MEAN(orders.COUNT(order_products))>,\n",
       " <Feature: STD(orders.NUM_UNIQUE(order_products.aisle_id))>,\n",
       " <Feature: SUM(orders.NUM_UNIQUE(order_products.aisle_id))>,\n",
       " <Feature: SUM(orders.PERCENT_TRUE(order_products.reordered))>]"
      ]
     },
     "execution_count": 41,
     "metadata": {},
     "output_type": "execute_result"
    }
   ],
   "source": [
    "top_features= ft.load_features(os.path.join(data_dir, \"top_features.txt\"))\n",
    "top_features"
   ]
  },
  {
   "cell_type": "markdown",
   "metadata": {},
   "source": [
    "Having read in the top features we want to use, we can now create our feature matrix on the full dataset with a call to `ft.calculate_feature_matrix()`."
   ]
  },
  {
   "cell_type": "code",
   "execution_count": 42,
   "metadata": {},
   "outputs": [
    {
     "name": "stdout",
     "output_type": "stream",
     "text": [
      "Elapsed: 00:02 | Progress: 100%|██████████\n"
     ]
    }
   ],
   "source": [
    "fm = ft.calculate_feature_matrix(top_features, entityset=es, cutoff_time=label_times, verbose=True)"
   ]
  },
  {
   "cell_type": "markdown",
   "metadata": {},
   "source": [
    "Next, we will compute our feature matrix to bring the results into memory, allowing us to encode categorical features and make our predictions."
   ]
  },
  {
   "cell_type": "code",
   "execution_count": 43,
   "metadata": {},
   "outputs": [],
   "source": [
    "fm = fm.compute()"
   ]
  },
  {
   "cell_type": "code",
   "execution_count": 44,
   "metadata": {},
   "outputs": [
    {
     "name": "stdout",
     "output_type": "stream",
     "text": [
      "Number of features 20\n"
     ]
    },
    {
     "data": {
      "text/html": [
       "<div>\n",
       "<style scoped>\n",
       "    .dataframe tbody tr th:only-of-type {\n",
       "        vertical-align: middle;\n",
       "    }\n",
       "\n",
       "    .dataframe tbody tr th {\n",
       "        vertical-align: top;\n",
       "    }\n",
       "\n",
       "    .dataframe thead th {\n",
       "        text-align: right;\n",
       "    }\n",
       "</style>\n",
       "<table border=\"1\" class=\"dataframe\">\n",
       "  <thead>\n",
       "    <tr style=\"text-align: right;\">\n",
       "      <th></th>\n",
       "      <th>COUNT(order_products WHERE product_name = Banana)</th>\n",
       "      <th>COUNT(order_products WHERE product_name = Bag of Organic Bananas)</th>\n",
       "      <th>COUNT(order_products WHERE department = produce)</th>\n",
       "      <th>MEAN(orders.NUM_UNIQUE(order_products.product_name))</th>\n",
       "      <th>MEAN(orders.NUM_UNIQUE(order_products.aisle_id))</th>\n",
       "      <th>SUM(orders.NUM_UNIQUE(order_products.product_name))</th>\n",
       "      <th>STD(orders.PERCENT_TRUE(order_products.reordered))</th>\n",
       "      <th>MAX(orders.NUM_UNIQUE(order_products.product_name))</th>\n",
       "      <th>COUNT(order_products WHERE department = dairy eggs)</th>\n",
       "      <th>NUM_UNIQUE(order_products.product_name)</th>\n",
       "      <th>...</th>\n",
       "      <th>MEAN(orders.PERCENT_TRUE(order_products.reordered))</th>\n",
       "      <th>STD(orders.NUM_UNIQUE(order_products.product_name))</th>\n",
       "      <th>STD(orders.NUM_UNIQUE(order_products.department))</th>\n",
       "      <th>STD(orders.COUNT(order_products))</th>\n",
       "      <th>MEAN(orders.COUNT(order_products))</th>\n",
       "      <th>STD(orders.NUM_UNIQUE(order_products.aisle_id))</th>\n",
       "      <th>SUM(orders.NUM_UNIQUE(order_products.aisle_id))</th>\n",
       "      <th>SUM(orders.PERCENT_TRUE(order_products.reordered))</th>\n",
       "      <th>user_id</th>\n",
       "      <th>bought_product</th>\n",
       "    </tr>\n",
       "  </thead>\n",
       "  <tbody>\n",
       "    <tr>\n",
       "      <th>0</th>\n",
       "      <td>0.0</td>\n",
       "      <td>4.0</td>\n",
       "      <td>4.0</td>\n",
       "      <td>5.250000</td>\n",
       "      <td>4.750000</td>\n",
       "      <td>42</td>\n",
       "      <td>0.380789</td>\n",
       "      <td>6</td>\n",
       "      <td>12.0</td>\n",
       "      <td>10</td>\n",
       "      <td>...</td>\n",
       "      <td>0.525000</td>\n",
       "      <td>0.462910</td>\n",
       "      <td>0.000000</td>\n",
       "      <td>1.851640</td>\n",
       "      <td>21.000000</td>\n",
       "      <td>0.462910</td>\n",
       "      <td>38</td>\n",
       "      <td>4.200000</td>\n",
       "      <td>1</td>\n",
       "      <td>True</td>\n",
       "    </tr>\n",
       "    <tr>\n",
       "      <th>1</th>\n",
       "      <td>2.0</td>\n",
       "      <td>0.0</td>\n",
       "      <td>118.0</td>\n",
       "      <td>28.500000</td>\n",
       "      <td>12.250000</td>\n",
       "      <td>114</td>\n",
       "      <td>0.194873</td>\n",
       "      <td>46</td>\n",
       "      <td>22.0</td>\n",
       "      <td>94</td>\n",
       "      <td>...</td>\n",
       "      <td>0.157082</td>\n",
       "      <td>17.136705</td>\n",
       "      <td>3.304038</td>\n",
       "      <td>34.273410</td>\n",
       "      <td>57.000000</td>\n",
       "      <td>6.701990</td>\n",
       "      <td>49</td>\n",
       "      <td>0.628327</td>\n",
       "      <td>10</td>\n",
       "      <td>False</td>\n",
       "    </tr>\n",
       "    <tr>\n",
       "      <th>2</th>\n",
       "      <td>0.0</td>\n",
       "      <td>0.0</td>\n",
       "      <td>20.0</td>\n",
       "      <td>12.750000</td>\n",
       "      <td>9.750000</td>\n",
       "      <td>102</td>\n",
       "      <td>0.319572</td>\n",
       "      <td>15</td>\n",
       "      <td>48.0</td>\n",
       "      <td>31</td>\n",
       "      <td>...</td>\n",
       "      <td>0.382692</td>\n",
       "      <td>1.908627</td>\n",
       "      <td>0.462910</td>\n",
       "      <td>7.634508</td>\n",
       "      <td>51.000000</td>\n",
       "      <td>1.581139</td>\n",
       "      <td>78</td>\n",
       "      <td>3.061538</td>\n",
       "      <td>11</td>\n",
       "      <td>False</td>\n",
       "    </tr>\n",
       "    <tr>\n",
       "      <th>3</th>\n",
       "      <td>0.0</td>\n",
       "      <td>0.0</td>\n",
       "      <td>36.0</td>\n",
       "      <td>6.222222</td>\n",
       "      <td>5.777778</td>\n",
       "      <td>112</td>\n",
       "      <td>0.243762</td>\n",
       "      <td>10</td>\n",
       "      <td>76.0</td>\n",
       "      <td>23</td>\n",
       "      <td>...</td>\n",
       "      <td>0.584480</td>\n",
       "      <td>1.986885</td>\n",
       "      <td>1.022620</td>\n",
       "      <td>7.947540</td>\n",
       "      <td>24.888889</td>\n",
       "      <td>1.516791</td>\n",
       "      <td>104</td>\n",
       "      <td>10.520635</td>\n",
       "      <td>13</td>\n",
       "      <td>False</td>\n",
       "    </tr>\n",
       "    <tr>\n",
       "      <th>4</th>\n",
       "      <td>0.0</td>\n",
       "      <td>0.0</td>\n",
       "      <td>16.0</td>\n",
       "      <td>10.000000</td>\n",
       "      <td>8.750000</td>\n",
       "      <td>40</td>\n",
       "      <td>0.288057</td>\n",
       "      <td>27</td>\n",
       "      <td>6.0</td>\n",
       "      <td>33</td>\n",
       "      <td>...</td>\n",
       "      <td>0.253704</td>\n",
       "      <td>11.372481</td>\n",
       "      <td>3.947573</td>\n",
       "      <td>22.744963</td>\n",
       "      <td>20.000000</td>\n",
       "      <td>8.883505</td>\n",
       "      <td>35</td>\n",
       "      <td>1.014815</td>\n",
       "      <td>14</td>\n",
       "      <td>False</td>\n",
       "    </tr>\n",
       "  </tbody>\n",
       "</table>\n",
       "<p>5 rows × 22 columns</p>\n",
       "</div>"
      ],
      "text/plain": [
       "   COUNT(order_products WHERE product_name = Banana)  \\\n",
       "0                                                0.0   \n",
       "1                                                2.0   \n",
       "2                                                0.0   \n",
       "3                                                0.0   \n",
       "4                                                0.0   \n",
       "\n",
       "   COUNT(order_products WHERE product_name = Bag of Organic Bananas)  \\\n",
       "0                                                4.0                   \n",
       "1                                                0.0                   \n",
       "2                                                0.0                   \n",
       "3                                                0.0                   \n",
       "4                                                0.0                   \n",
       "\n",
       "   COUNT(order_products WHERE department = produce)  \\\n",
       "0                                               4.0   \n",
       "1                                             118.0   \n",
       "2                                              20.0   \n",
       "3                                              36.0   \n",
       "4                                              16.0   \n",
       "\n",
       "   MEAN(orders.NUM_UNIQUE(order_products.product_name))  \\\n",
       "0                                           5.250000      \n",
       "1                                          28.500000      \n",
       "2                                          12.750000      \n",
       "3                                           6.222222      \n",
       "4                                          10.000000      \n",
       "\n",
       "   MEAN(orders.NUM_UNIQUE(order_products.aisle_id))  \\\n",
       "0                                          4.750000   \n",
       "1                                         12.250000   \n",
       "2                                          9.750000   \n",
       "3                                          5.777778   \n",
       "4                                          8.750000   \n",
       "\n",
       "   SUM(orders.NUM_UNIQUE(order_products.product_name))  \\\n",
       "0                                                 42     \n",
       "1                                                114     \n",
       "2                                                102     \n",
       "3                                                112     \n",
       "4                                                 40     \n",
       "\n",
       "   STD(orders.PERCENT_TRUE(order_products.reordered))  \\\n",
       "0                                           0.380789    \n",
       "1                                           0.194873    \n",
       "2                                           0.319572    \n",
       "3                                           0.243762    \n",
       "4                                           0.288057    \n",
       "\n",
       "   MAX(orders.NUM_UNIQUE(order_products.product_name))  \\\n",
       "0                                                  6     \n",
       "1                                                 46     \n",
       "2                                                 15     \n",
       "3                                                 10     \n",
       "4                                                 27     \n",
       "\n",
       "   COUNT(order_products WHERE department = dairy eggs)  \\\n",
       "0                                               12.0     \n",
       "1                                               22.0     \n",
       "2                                               48.0     \n",
       "3                                               76.0     \n",
       "4                                                6.0     \n",
       "\n",
       "   NUM_UNIQUE(order_products.product_name)  ...  \\\n",
       "0                                       10  ...   \n",
       "1                                       94  ...   \n",
       "2                                       31  ...   \n",
       "3                                       23  ...   \n",
       "4                                       33  ...   \n",
       "\n",
       "   MEAN(orders.PERCENT_TRUE(order_products.reordered))  \\\n",
       "0                                           0.525000     \n",
       "1                                           0.157082     \n",
       "2                                           0.382692     \n",
       "3                                           0.584480     \n",
       "4                                           0.253704     \n",
       "\n",
       "   STD(orders.NUM_UNIQUE(order_products.product_name))  \\\n",
       "0                                           0.462910     \n",
       "1                                          17.136705     \n",
       "2                                           1.908627     \n",
       "3                                           1.986885     \n",
       "4                                          11.372481     \n",
       "\n",
       "   STD(orders.NUM_UNIQUE(order_products.department))  \\\n",
       "0                                           0.000000   \n",
       "1                                           3.304038   \n",
       "2                                           0.462910   \n",
       "3                                           1.022620   \n",
       "4                                           3.947573   \n",
       "\n",
       "   STD(orders.COUNT(order_products))  MEAN(orders.COUNT(order_products))  \\\n",
       "0                           1.851640                           21.000000   \n",
       "1                          34.273410                           57.000000   \n",
       "2                           7.634508                           51.000000   \n",
       "3                           7.947540                           24.888889   \n",
       "4                          22.744963                           20.000000   \n",
       "\n",
       "   STD(orders.NUM_UNIQUE(order_products.aisle_id))  \\\n",
       "0                                         0.462910   \n",
       "1                                         6.701990   \n",
       "2                                         1.581139   \n",
       "3                                         1.516791   \n",
       "4                                         8.883505   \n",
       "\n",
       "   SUM(orders.NUM_UNIQUE(order_products.aisle_id))  \\\n",
       "0                                               38   \n",
       "1                                               49   \n",
       "2                                               78   \n",
       "3                                              104   \n",
       "4                                               35   \n",
       "\n",
       "   SUM(orders.PERCENT_TRUE(order_products.reordered))  user_id  bought_product  \n",
       "0                                           4.200000         1            True  \n",
       "1                                           0.628327        10           False  \n",
       "2                                           3.061538        11           False  \n",
       "3                                          10.520635        13           False  \n",
       "4                                           1.014815        14           False  \n",
       "\n",
       "[5 rows x 22 columns]"
      ]
     },
     "execution_count": 44,
     "metadata": {},
     "output_type": "execute_result"
    }
   ],
   "source": [
    "fm_encoded, features_encoded = ft.encode_features(fm, top_features)\n",
    "\n",
    "print(\"Number of features %s\" % len(features_encoded))\n",
    "fm_encoded.head()"
   ]
  },
  {
   "cell_type": "code",
   "execution_count": 45,
   "metadata": {},
   "outputs": [],
   "source": [
    "X = fm_encoded.merge(label_times)\n",
    "X.drop([\"user_id\", \"time\"], axis=1, inplace=True)\n",
    "X = X.fillna(0)\n",
    "y = X.pop(\"bought_product\").astype('bool')"
   ]
  },
  {
   "cell_type": "code",
   "execution_count": 46,
   "metadata": {},
   "outputs": [
    {
     "name": "stderr",
     "output_type": "stream",
     "text": [
      "[Parallel(n_jobs=1)]: Using backend SequentialBackend with 1 concurrent workers.\n",
      "[Parallel(n_jobs=1)]: Done   3 out of   3 | elapsed:  3.4min finished\n"
     ]
    },
    {
     "data": {
      "text/plain": [
       "'AUC 0.87 +/- 0.04'"
      ]
     },
     "execution_count": 46,
     "metadata": {},
     "output_type": "execute_result"
    }
   ],
   "source": [
    "clf = RandomForestClassifier(n_estimators=400, n_jobs=-1)\n",
    "scores = cross_val_score(estimator=clf,X=X, y=y, cv=3,\n",
    "                         scoring=\"roc_auc\", verbose=True)\n",
    "\n",
    "\"AUC %.2f +/- %.2f\" % (scores.mean(), scores.std())"
   ]
  },
  {
   "cell_type": "code",
   "execution_count": 47,
   "metadata": {},
   "outputs": [
    {
     "name": "stdout",
     "output_type": "stream",
     "text": [
      "1: Feature: COUNT(order_products WHERE product_name = Banana), 0.184\n",
      "2: Feature: COUNT(order_products WHERE product_name = Bag of Organic Bananas), 0.131\n",
      "3: Feature: COUNT(order_products WHERE department = produce), 0.063\n",
      "4: Feature: MEAN(orders.NUM_UNIQUE(order_products.product_name)), 0.043\n",
      "5: Feature: SUM(orders.NUM_UNIQUE(order_products.product_name)), 0.042\n",
      "6: Feature: PERCENT_TRUE(order_products.reordered), 0.041\n",
      "7: Feature: MEAN(orders.PERCENT_TRUE(order_products.reordered)), 0.039\n",
      "8: Feature: STD(orders.PERCENT_TRUE(order_products.reordered)), 0.039\n",
      "9: Feature: STD(orders.NUM_UNIQUE(order_products.aisle_id)), 0.037\n",
      "10: Feature: SUM(orders.PERCENT_TRUE(order_products.reordered)), 0.037\n",
      "11: Feature: STD(orders.NUM_UNIQUE(order_products.department)), 0.036\n",
      "12: Feature: STD(orders.NUM_UNIQUE(order_products.product_name)), 0.036\n",
      "13: Feature: NUM_UNIQUE(order_products.product_name), 0.036\n",
      "14: Feature: MEAN(orders.NUM_UNIQUE(order_products.aisle_id)), 0.036\n",
      "15: Feature: COUNT(order_products WHERE department = dairy eggs), 0.036\n",
      "16: Feature: STD(orders.COUNT(order_products)), 0.035\n",
      "17: Feature: MEAN(orders.NUM_UNIQUE(order_products.department)), 0.034\n",
      "18: Feature: MAX(orders.NUM_UNIQUE(order_products.product_name)), 0.033\n",
      "19: Feature: SUM(orders.NUM_UNIQUE(order_products.aisle_id)), 0.032\n",
      "20: Feature: MEAN(orders.COUNT(order_products)), 0.032\n"
     ]
    }
   ],
   "source": [
    "clf.fit(X, y)\n",
    "top_features = utils.feature_importances(clf, top_features, n=20)"
   ]
  },
  {
   "cell_type": "markdown",
   "metadata": {},
   "source": [
    "We can see the top features have shifted around some, but the most important features have remained the same."
   ]
  },
  {
   "cell_type": "markdown",
   "metadata": {},
   "source": [
    "Now that we have finished, we can close our Dask client."
   ]
  },
  {
   "cell_type": "code",
   "execution_count": 48,
   "metadata": {},
   "outputs": [],
   "source": [
    "client.close()"
   ]
  },
  {
   "cell_type": "markdown",
   "metadata": {},
   "source": [
    "## Next Steps\n",
    "\n",
    "While this is an end-to-end example of going from raw data to a trained machine learning model, it is necessary to do further exploration before claiming we've built something impactful.\n",
    "\n",
    "Fortunately, Featuretools makes it easy to build structured data science pipeline. As a next steps, you could\n",
    "\n",
    "- Further validate these results by creating feature vectors at different cutoff times\n",
    "- Perform feature selection on a larger subset of the original data to improve results\n",
    "- Define other prediction problems for this dataset (you can even change the entity you are making predictions on!)\n",
    "- Save feature matrices to disk as CSVs so they can be reused with different problems without recalculating\n",
    "- Experiment with parameters to Deep Feature Synthesis"
   ]
  },
  {
   "cell_type": "code",
   "execution_count": null,
   "metadata": {},
   "outputs": [],
   "source": []
  }
 ],
 "metadata": {
  "kernelspec": {
   "display_name": "Python 3.7.4 64-bit ('env': venv)",
   "language": "python",
   "name": "python37464bitenvvenvb0576f6089f14bba82265783ef39e793"
  },
  "language_info": {
   "codemirror_mode": {
    "name": "ipython",
    "version": 3
   },
   "file_extension": ".py",
   "mimetype": "text/x-python",
   "name": "python",
   "nbconvert_exporter": "python",
   "pygments_lexer": "ipython3",
   "version": "3.7.4"
  }
 },
 "nbformat": 4,
 "nbformat_minor": 4
}
