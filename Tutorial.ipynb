{
 "cells": [
  {
   "cell_type": "markdown",
   "metadata": {},
   "source": [
    "# Predicting a customer's next purchase using automated feature engineering\n",
    "\n",
    "<p style=\"margin:30px\">\n",
    "    <img width=50% src=\"https://www.featuretools.com/wp-content/uploads/2017/12/FeatureLabs-Logo-Tangerine-800.png\" alt=\"Featuretools\" />\n",
    "</p>\n",
    "\n",
    "**As customers use your product, they leave behind a trail of behaviors that indicate how they will act in the future. Through automated feature engineering we can identify the predictive patterns in granular customer behavioral data that can be used to improve the customer's experience and generate additional revenue for your business.**\n",
    "\n",
    "In this tutorial, we show how [Featuretools](http://www.featuretools.com) can be used to perform feature engineering on a multi-table dataset of 3 million online grocery orders provided by Instacart. We will generate a feature matrix that can be used to train a machine learning model to predict what product a customer buys next.\n",
    "\n",
    "*Note: This notebook requires a dataset from Instacart. You can download the dataset [here](https://www.instacart.com/datasets/grocery-shopping-2017). Once you have downloaded the data, be sure to place the CSV files contained in the archive in a directory called `data`. If you use a different directory name, you will need to update the code below to point to the proper location.*\n",
    "\n",
    "## Highlights\n",
    "\n",
    "* We automatically generate features using Deep Feature Synthesis and select the 20 most important features for predictive modeling\n",
    "* We demonstrate how to generate features in a scalable manner using [Dask](http://dask.pydata.org/en/latest/)\n",
    "* We automatically generate label times using [Compose](https://github.com/FeatureLabs/compose) which can be reused for numerous prediction problems\n",
    "* We develop a model for predicting what a customer will buy next, starting with a sample of data and then scaling to the full dataset"
   ]
  },
  {
   "cell_type": "markdown",
   "metadata": {},
   "source": [
    "## You must have Featuretools version 0.16.0 or greater installed to run this notebook"
   ]
  },
  {
   "cell_type": "code",
   "execution_count": 1,
   "metadata": {},
   "outputs": [
    {
     "data": {
      "text/plain": [
       "'0.18.0'"
      ]
     },
     "execution_count": 1,
     "metadata": {},
     "output_type": "execute_result"
    }
   ],
   "source": [
    "import os\n",
    "import composeml as cp\n",
    "import featuretools as ft\n",
    "import dask.dataframe as dd\n",
    "import numpy as np\n",
    "import pandas as pd\n",
    "import utils\n",
    "from sklearn.ensemble import RandomForestClassifier\n",
    "from sklearn.model_selection import cross_val_score\n",
    "\n",
    "from dask.distributed import Client\n",
    "ft.__version__"
   ]
  },
  {
   "cell_type": "markdown",
   "metadata": {},
   "source": [
    "## Step 1. Load and preprocess data\n",
    "\n",
    "First, we will create a Dask distributed client so we can track the progress of our computation on the Dask dashboard that is created when the client is initialized."
   ]
  },
  {
   "cell_type": "code",
   "execution_count": 2,
   "metadata": {},
   "outputs": [
    {
     "data": {
      "text/html": [
       "<table style=\"border: 2px solid white;\">\n",
       "<tr>\n",
       "<td style=\"vertical-align: top; border: 0px solid white\">\n",
       "<h3 style=\"text-align: left;\">Client</h3>\n",
       "<ul style=\"text-align: left; list-style: none; margin: 0; padding: 0;\">\n",
       "  <li><b>Scheduler: </b>tcp://127.0.0.1:63263</li>\n",
       "  <li><b>Dashboard: </b><a href='http://127.0.0.1:8787/status' target='_blank'>http://127.0.0.1:8787/status</a></li>\n",
       "</ul>\n",
       "</td>\n",
       "<td style=\"vertical-align: top; border: 0px solid white\">\n",
       "<h3 style=\"text-align: left;\">Cluster</h3>\n",
       "<ul style=\"text-align: left; list-style:none; margin: 0; padding: 0;\">\n",
       "  <li><b>Workers: </b>2</li>\n",
       "  <li><b>Cores: </b>16</li>\n",
       "  <li><b>Memory: </b>17.18 GB</li>\n",
       "</ul>\n",
       "</td>\n",
       "</tr>\n",
       "</table>"
      ],
      "text/plain": [
       "<Client: 'tcp://127.0.0.1:63263' processes=2 threads=16, memory=17.18 GB>"
      ]
     },
     "execution_count": 2,
     "metadata": {},
     "output_type": "execute_result"
    }
   ],
   "source": [
    "client = Client(n_workers=2)\n",
    "client"
   ]
  },
  {
   "cell_type": "markdown",
   "metadata": {},
   "source": [
    "Next, we will specify our input and output directories and set the blocksize we will be using to read the raw CSV files into Dask dataframes. When running on a machine with 16GB of memory available for two Dask workers, a `100MB` blocksize has worked well. This number may need to be adjusted based on your specific environment. Refer to the [Dask documentation](https://docs.dask.org/en/latest/best-practices.html) for additional info."
   ]
  },
  {
   "cell_type": "code",
   "execution_count": 3,
   "metadata": {},
   "outputs": [],
   "source": [
    "data_dir = os.path.join(\"data\")\n",
    "output_dir = os.path.join(\"data\", \"dask_data\")\n",
    "blocksize = \"100MB\""
   ]
  },
  {
   "cell_type": "markdown",
   "metadata": {},
   "source": [
    "Now we will read our data into Dask dataframes. This operation will complete quite fast as we are not actually bringing the data into memory at this stage."
   ]
  },
  {
   "cell_type": "code",
   "execution_count": 4,
   "metadata": {},
   "outputs": [],
   "source": [
    "order_products = dd.concat([dd.read_csv(os.path.join(data_dir, \"order_products__prior.csv\"), blocksize=blocksize),\n",
    "                            dd.read_csv(os.path.join(data_dir, \"order_products__train.csv\"), blocksize=blocksize)])\n",
    "orders = dd.read_csv(os.path.join(data_dir, \"orders.csv\"), blocksize=blocksize)\n",
    "departments = dd.read_csv(os.path.join(data_dir, \"departments.csv\"), blocksize=blocksize)\n",
    "products = dd.read_csv(os.path.join(data_dir, \"products.csv\"), blocksize=blocksize)"
   ]
  },
  {
   "cell_type": "markdown",
   "metadata": {},
   "source": [
    "In the next few cells, we will perform some required preprocessing to clean up our data. We will merge together some of the raw dataframes and add absolute order time information from the relative times used in the raw data. This will allow us to use cutoff times as part of the Deep Feature Synthesis process."
   ]
  },
  {
   "cell_type": "code",
   "execution_count": 5,
   "metadata": {},
   "outputs": [],
   "source": [
    "order_products = order_products.merge(products).merge(departments)"
   ]
  },
  {
   "cell_type": "code",
   "execution_count": 6,
   "metadata": {},
   "outputs": [],
   "source": [
    "def add_time(df):\n",
    "    df.reset_index(drop=True)\n",
    "    df[\"order_time\"] = np.nan\n",
    "    days_since = df.columns.tolist().index(\"days_since_prior_order\")\n",
    "    hour_of_day = df.columns.tolist().index(\"order_hour_of_day\")\n",
    "    order_time = df.columns.tolist().index(\"order_time\")\n",
    "\n",
    "    df.iloc[0, order_time] = pd.Timestamp('Jan 1, 2015') +  pd.Timedelta(df.iloc[0, hour_of_day], \"h\")\n",
    "    for i in range(1, df.shape[0]):\n",
    "        df.iloc[i, order_time] = df.iloc[i - 1, order_time] \\\n",
    "            + pd.Timedelta(df.iloc[i, days_since], \"d\") \\\n",
    "                                    + pd.Timedelta(df.iloc[i, hour_of_day], \"h\")\n",
    "\n",
    "    to_drop = [\"order_number\", \"order_dow\", \"order_hour_of_day\", \"days_since_prior_order\", \"eval_set\"]\n",
    "    df.drop(to_drop, axis=1, inplace=True)\n",
    "\n",
    "    return df"
   ]
  },
  {
   "cell_type": "code",
   "execution_count": 7,
   "metadata": {},
   "outputs": [],
   "source": [
    "orders = orders.groupby(\"user_id\").apply(add_time, meta={\n",
    "    \"order_id\": int,\n",
    "    \"user_id\": int,\n",
    "    \"order_time\": np.datetime64(0, 'ns').dtype})\n",
    "order_products = order_products.merge(orders[[\"order_id\", \"order_time\"]])\n",
    "order_products[\"order_product_id\"] = order_products[\"order_id\"] * 1000 + order_products[\"add_to_cart_order\"]\n",
    "order_products = order_products.drop([\"product_id\", \"department_id\", \"add_to_cart_order\"], axis=1)"
   ]
  },
  {
   "cell_type": "markdown",
   "metadata": {},
   "source": [
    "Now that the preprocessing work is complete, we will save the results to disk. This will allow us to start from this point in the process in the future, without having to repeat all of the preprocessing steps. If you have already saved the results to disk previously, you can skip the cell below.\n",
    "\n",
    "#### Note: The process of saving to CSV is computationally intensive and may take 45 minutes or more, depending on the system you are using. You can use the Dask dashboard to monitor the progress."
   ]
  },
  {
   "cell_type": "code",
   "execution_count": 8,
   "metadata": {},
   "outputs": [
    {
     "data": {
      "text/plain": [
       "['/Users/nate.parsons/dev/featuretools-demos/predict-next-purchase/data/dask_data/order_products-0.csv',\n",
       " '/Users/nate.parsons/dev/featuretools-demos/predict-next-purchase/data/dask_data/order_products-1.csv',\n",
       " '/Users/nate.parsons/dev/featuretools-demos/predict-next-purchase/data/dask_data/order_products-2.csv',\n",
       " '/Users/nate.parsons/dev/featuretools-demos/predict-next-purchase/data/dask_data/order_products-3.csv',\n",
       " '/Users/nate.parsons/dev/featuretools-demos/predict-next-purchase/data/dask_data/order_products-4.csv',\n",
       " '/Users/nate.parsons/dev/featuretools-demos/predict-next-purchase/data/dask_data/order_products-5.csv',\n",
       " '/Users/nate.parsons/dev/featuretools-demos/predict-next-purchase/data/dask_data/order_products-6.csv']"
      ]
     },
     "execution_count": 8,
     "metadata": {},
     "output_type": "execute_result"
    }
   ],
   "source": [
    "# Save preprocessed data to disk\n",
    "orders.to_csv(os.path.join(output_dir, \"orders-*.csv\"), index=False)\n",
    "order_products.to_csv(os.path.join(output_dir, \"order_products-*.csv\"), index=False)"
   ]
  },
  {
   "cell_type": "markdown",
   "metadata": {},
   "source": [
    "If you have already performed the preprocessing steps and saved the processed files to disk, you can read them in with the commands in the following cell."
   ]
  },
  {
   "cell_type": "code",
   "execution_count": 9,
   "metadata": {},
   "outputs": [],
   "source": [
    "# Read preprocessed data from disk\n",
    "orders = dd.read_csv(os.path.join(output_dir, \"orders-*.csv\"), blocksize=blocksize)\n",
    "order_products = dd.read_csv(os.path.join(output_dir, \"order_products-*.csv\"), blocksize=blocksize)"
   ]
  },
  {
   "cell_type": "code",
   "execution_count": 10,
   "metadata": {},
   "outputs": [
    {
     "data": {
      "text/html": [
       "<div>\n",
       "<style scoped>\n",
       "    .dataframe tbody tr th:only-of-type {\n",
       "        vertical-align: middle;\n",
       "    }\n",
       "\n",
       "    .dataframe tbody tr th {\n",
       "        vertical-align: top;\n",
       "    }\n",
       "\n",
       "    .dataframe thead th {\n",
       "        text-align: right;\n",
       "    }\n",
       "</style>\n",
       "<table border=\"1\" class=\"dataframe\">\n",
       "  <thead>\n",
       "    <tr style=\"text-align: right;\">\n",
       "      <th></th>\n",
       "      <th>order_id</th>\n",
       "      <th>user_id</th>\n",
       "      <th>order_time</th>\n",
       "    </tr>\n",
       "  </thead>\n",
       "  <tbody>\n",
       "    <tr>\n",
       "      <th>0</th>\n",
       "      <td>2539329</td>\n",
       "      <td>1</td>\n",
       "      <td>2015-01-01 08:00:00</td>\n",
       "    </tr>\n",
       "    <tr>\n",
       "      <th>1</th>\n",
       "      <td>2398795</td>\n",
       "      <td>1</td>\n",
       "      <td>2015-01-16 15:00:00</td>\n",
       "    </tr>\n",
       "    <tr>\n",
       "      <th>2</th>\n",
       "      <td>473747</td>\n",
       "      <td>1</td>\n",
       "      <td>2015-02-07 03:00:00</td>\n",
       "    </tr>\n",
       "    <tr>\n",
       "      <th>3</th>\n",
       "      <td>2254736</td>\n",
       "      <td>1</td>\n",
       "      <td>2015-03-08 10:00:00</td>\n",
       "    </tr>\n",
       "    <tr>\n",
       "      <th>4</th>\n",
       "      <td>431534</td>\n",
       "      <td>1</td>\n",
       "      <td>2015-04-06 01:00:00</td>\n",
       "    </tr>\n",
       "  </tbody>\n",
       "</table>\n",
       "</div>"
      ],
      "text/plain": [
       "   order_id  user_id           order_time\n",
       "0   2539329        1  2015-01-01 08:00:00\n",
       "1   2398795        1  2015-01-16 15:00:00\n",
       "2    473747        1  2015-02-07 03:00:00\n",
       "3   2254736        1  2015-03-08 10:00:00\n",
       "4    431534        1  2015-04-06 01:00:00"
      ]
     },
     "execution_count": 10,
     "metadata": {},
     "output_type": "execute_result"
    }
   ],
   "source": [
    "orders.head()"
   ]
  },
  {
   "cell_type": "code",
   "execution_count": 11,
   "metadata": {},
   "outputs": [
    {
     "data": {
      "text/html": [
       "<div>\n",
       "<style scoped>\n",
       "    .dataframe tbody tr th:only-of-type {\n",
       "        vertical-align: middle;\n",
       "    }\n",
       "\n",
       "    .dataframe tbody tr th {\n",
       "        vertical-align: top;\n",
       "    }\n",
       "\n",
       "    .dataframe thead th {\n",
       "        text-align: right;\n",
       "    }\n",
       "</style>\n",
       "<table border=\"1\" class=\"dataframe\">\n",
       "  <thead>\n",
       "    <tr style=\"text-align: right;\">\n",
       "      <th></th>\n",
       "      <th>order_id</th>\n",
       "      <th>reordered</th>\n",
       "      <th>product_name</th>\n",
       "      <th>aisle_id</th>\n",
       "      <th>department</th>\n",
       "      <th>order_time</th>\n",
       "      <th>order_product_id</th>\n",
       "    </tr>\n",
       "  </thead>\n",
       "  <tbody>\n",
       "    <tr>\n",
       "      <th>0</th>\n",
       "      <td>800</td>\n",
       "      <td>1</td>\n",
       "      <td>Organic Egg Whites</td>\n",
       "      <td>86</td>\n",
       "      <td>dairy eggs</td>\n",
       "      <td>2015-01-11 10:00:00</td>\n",
       "      <td>800003</td>\n",
       "    </tr>\n",
       "    <tr>\n",
       "      <th>1</th>\n",
       "      <td>800</td>\n",
       "      <td>0</td>\n",
       "      <td>Grilled Chicken Breast Strips</td>\n",
       "      <td>49</td>\n",
       "      <td>meat seafood</td>\n",
       "      <td>2015-01-11 10:00:00</td>\n",
       "      <td>800004</td>\n",
       "    </tr>\n",
       "    <tr>\n",
       "      <th>2</th>\n",
       "      <td>800</td>\n",
       "      <td>0</td>\n",
       "      <td>Nux Vomica 6C Homeopathic Pellets</td>\n",
       "      <td>47</td>\n",
       "      <td>personal care</td>\n",
       "      <td>2015-01-11 10:00:00</td>\n",
       "      <td>800005</td>\n",
       "    </tr>\n",
       "    <tr>\n",
       "      <th>3</th>\n",
       "      <td>800</td>\n",
       "      <td>0</td>\n",
       "      <td>Kava Kava Root, Liquid Herbal Extract</td>\n",
       "      <td>47</td>\n",
       "      <td>personal care</td>\n",
       "      <td>2015-01-11 10:00:00</td>\n",
       "      <td>800006</td>\n",
       "    </tr>\n",
       "    <tr>\n",
       "      <th>4</th>\n",
       "      <td>800</td>\n",
       "      <td>0</td>\n",
       "      <td>Sedalia Homeopathic Medicine Stress Relief Qui...</td>\n",
       "      <td>47</td>\n",
       "      <td>personal care</td>\n",
       "      <td>2015-01-11 10:00:00</td>\n",
       "      <td>800011</td>\n",
       "    </tr>\n",
       "  </tbody>\n",
       "</table>\n",
       "</div>"
      ],
      "text/plain": [
       "   order_id  reordered                                       product_name  \\\n",
       "0       800          1                                 Organic Egg Whites   \n",
       "1       800          0                      Grilled Chicken Breast Strips   \n",
       "2       800          0                  Nux Vomica 6C Homeopathic Pellets   \n",
       "3       800          0              Kava Kava Root, Liquid Herbal Extract   \n",
       "4       800          0  Sedalia Homeopathic Medicine Stress Relief Qui...   \n",
       "\n",
       "   aisle_id     department           order_time  order_product_id  \n",
       "0        86     dairy eggs  2015-01-11 10:00:00            800003  \n",
       "1        49   meat seafood  2015-01-11 10:00:00            800004  \n",
       "2        47  personal care  2015-01-11 10:00:00            800005  \n",
       "3        47  personal care  2015-01-11 10:00:00            800006  \n",
       "4        47  personal care  2015-01-11 10:00:00            800011  "
      ]
     },
     "execution_count": 11,
     "metadata": {},
     "output_type": "execute_result"
    }
   ],
   "source": [
    "order_products.head()"
   ]
  },
  {
   "cell_type": "markdown",
   "metadata": {},
   "source": [
    "## Step 2: Create a Featuretools entityset\n",
    "\n",
    "When using Dask dataframes to create an entityset, variable type inference is not performed as it is with entitysets created from pandas dataframes. As a result, users must specify the Featuretools variable types for all of the columns in the dataframes that make up the entityset when using Dask. In the following cell we define the data types for the `order_products` and `orders` entities."
   ]
  },
  {
   "cell_type": "code",
   "execution_count": 12,
   "metadata": {},
   "outputs": [],
   "source": [
    "order_products_vtypes = {\n",
    "    \"order_id\": ft.variable_types.Id,\n",
    "    \"reordered\": ft.variable_types.Boolean,\n",
    "    \"product_name\": ft.variable_types.Categorical,\n",
    "    \"aisle_id\": ft.variable_types.Categorical,\n",
    "    \"department\": ft.variable_types.Categorical,\n",
    "    \"order_time\": ft.variable_types.Datetime,\n",
    "    \"order_product_id\": ft.variable_types.Index,\n",
    "}\n",
    "\n",
    "order_vtypes = {\n",
    "    \"order_id\": ft.variable_types.Index,\n",
    "    \"user_id\": ft.variable_types.Id,\n",
    "    \"order_time\": ft.variable_types.DatetimeTimeIndex,\n",
    "}"
   ]
  },
  {
   "cell_type": "markdown",
   "metadata": {},
   "source": [
    "Now that we have defined the data types, we can create the entityset and establish the relationship between the two entities. For our initial run we will use a sample of the full data to determine what features are the best predictors. Once we have the feature importances established we will rerun on the full dataset using only the most important features.\n",
    "\n",
    "First we will sample our data - grabbing the orders for 1000 different customers. Because we cannot pass a Dask series to `.isin()` we must call `.compute()` on the ids to convert this into a pandas series."
   ]
  },
  {
   "cell_type": "code",
   "execution_count": 13,
   "metadata": {},
   "outputs": [],
   "source": [
    "orders_sample = orders[orders['user_id'].isin(range(1001,2001))]"
   ]
  },
  {
   "cell_type": "markdown",
   "metadata": {},
   "source": [
    "Next we will get the order products associated with the orders we sampled. "
   ]
  },
  {
   "cell_type": "code",
   "execution_count": 14,
   "metadata": {},
   "outputs": [],
   "source": [
    "order_products_sample = order_products[order_products['order_id'].isin(orders_sample['order_id'].compute())]"
   ]
  },
  {
   "cell_type": "markdown",
   "metadata": {},
   "source": [
    "Now that we have sampled our data, we can create an entityset from these sampled dataframes."
   ]
  },
  {
   "cell_type": "code",
   "execution_count": 15,
   "metadata": {},
   "outputs": [
    {
     "data": {
      "text/plain": [
       "Entityset: instacart_sample\n",
       "  Entities:\n",
       "    order_products [Rows: Delayed('int-59de63b6-4eb5-4202-8f98-c2131840b43b'), Columns: 7]\n",
       "    orders [Rows: Delayed('int-fce6495b-b968-410d-97b7-9fa3e91d972c'), Columns: 3]\n",
       "  Relationships:\n",
       "    order_products.order_id -> orders.order_id"
      ]
     },
     "execution_count": 15,
     "metadata": {},
     "output_type": "execute_result"
    }
   ],
   "source": [
    "es = ft.EntitySet(\"instacart_sample\")\n",
    "es.entity_from_dataframe(entity_id=\"order_products\",\n",
    "                         dataframe=order_products_sample,\n",
    "                         index=\"order_product_id\",\n",
    "                         variable_types=order_products_vtypes,\n",
    "                         time_index=\"order_time\")\n",
    "\n",
    "es.entity_from_dataframe(entity_id=\"orders\",\n",
    "                         dataframe=orders_sample,\n",
    "                         index=\"order_id\",\n",
    "                         variable_types=order_vtypes,\n",
    "                         time_index=\"order_time\")\n",
    "\n",
    "es.add_relationship(ft.Relationship(es[\"orders\"][\"order_id\"], es[\"order_products\"][\"order_id\"]))"
   ]
  },
  {
   "cell_type": "markdown",
   "metadata": {},
   "source": [
    "Next, we will normalize the `orders` entity to create a new `users` entity that we will later use as the target entity during the deep feature synthesis process."
   ]
  },
  {
   "cell_type": "code",
   "execution_count": 16,
   "metadata": {},
   "outputs": [
    {
     "data": {
      "image/svg+xml": [
       "<?xml version=\"1.0\" encoding=\"UTF-8\" standalone=\"no\"?>\n",
       "<!DOCTYPE svg PUBLIC \"-//W3C//DTD SVG 1.1//EN\"\n",
       " \"http://www.w3.org/Graphics/SVG/1.1/DTD/svg11.dtd\">\n",
       "<!-- Generated by graphviz version 2.44.1 (20200629.0846)\n",
       " -->\n",
       "<!-- Title: instacart_sample Pages: 1 -->\n",
       "<svg width=\"244pt\" height=\"356pt\"\n",
       " viewBox=\"0.00 0.00 244.00 356.00\" xmlns=\"http://www.w3.org/2000/svg\" xmlns:xlink=\"http://www.w3.org/1999/xlink\">\n",
       "<g id=\"graph0\" class=\"graph\" transform=\"scale(1 1) rotate(0) translate(4 352)\">\n",
       "<title>instacart_sample</title>\n",
       "<polygon fill=\"white\" stroke=\"transparent\" points=\"-4,4 -4,-352 240,-352 240,4 -4,4\"/>\n",
       "<!-- order_products -->\n",
       "<g id=\"node1\" class=\"node\">\n",
       "<title>order_products</title>\n",
       "<polygon fill=\"none\" stroke=\"black\" points=\"16.5,-211.5 16.5,-347.5 219.5,-347.5 219.5,-211.5 16.5,-211.5\"/>\n",
       "<text text-anchor=\"middle\" x=\"118\" y=\"-332.3\" font-family=\"Times,serif\" font-size=\"14.00\">order_products</text>\n",
       "<polyline fill=\"none\" stroke=\"black\" points=\"16.5,-324.5 219.5,-324.5 \"/>\n",
       "<text text-anchor=\"start\" x=\"24.5\" y=\"-309.3\" font-family=\"Times,serif\" font-size=\"14.00\">order_product_id : index</text>\n",
       "<text text-anchor=\"start\" x=\"24.5\" y=\"-294.3\" font-family=\"Times,serif\" font-size=\"14.00\">order_id : id</text>\n",
       "<text text-anchor=\"start\" x=\"24.5\" y=\"-279.3\" font-family=\"Times,serif\" font-size=\"14.00\">reordered : boolean</text>\n",
       "<text text-anchor=\"start\" x=\"24.5\" y=\"-264.3\" font-family=\"Times,serif\" font-size=\"14.00\">product_name : categorical</text>\n",
       "<text text-anchor=\"start\" x=\"24.5\" y=\"-249.3\" font-family=\"Times,serif\" font-size=\"14.00\">aisle_id : categorical</text>\n",
       "<text text-anchor=\"start\" x=\"24.5\" y=\"-234.3\" font-family=\"Times,serif\" font-size=\"14.00\">department : categorical</text>\n",
       "<text text-anchor=\"start\" x=\"24.5\" y=\"-219.3\" font-family=\"Times,serif\" font-size=\"14.00\">order_time : datetime_time_index</text>\n",
       "</g>\n",
       "<!-- orders -->\n",
       "<g id=\"node2\" class=\"node\">\n",
       "<title>orders</title>\n",
       "<polygon fill=\"none\" stroke=\"black\" points=\"16.5,-98.5 16.5,-174.5 219.5,-174.5 219.5,-98.5 16.5,-98.5\"/>\n",
       "<text text-anchor=\"middle\" x=\"118\" y=\"-159.3\" font-family=\"Times,serif\" font-size=\"14.00\">orders</text>\n",
       "<polyline fill=\"none\" stroke=\"black\" points=\"16.5,-151.5 219.5,-151.5 \"/>\n",
       "<text text-anchor=\"start\" x=\"24.5\" y=\"-136.3\" font-family=\"Times,serif\" font-size=\"14.00\">order_id : index</text>\n",
       "<text text-anchor=\"start\" x=\"24.5\" y=\"-121.3\" font-family=\"Times,serif\" font-size=\"14.00\">user_id : id</text>\n",
       "<text text-anchor=\"start\" x=\"24.5\" y=\"-106.3\" font-family=\"Times,serif\" font-size=\"14.00\">order_time : datetime_time_index</text>\n",
       "</g>\n",
       "<!-- order_products&#45;&gt;orders -->\n",
       "<g id=\"edge1\" class=\"edge\">\n",
       "<title>order_products&#45;&gt;orders</title>\n",
       "<path fill=\"none\" stroke=\"black\" d=\"M118,-211.35C118,-211.35 118,-184.54 118,-184.54\"/>\n",
       "<polygon fill=\"black\" stroke=\"black\" points=\"121.5,-184.54 118,-174.54 114.5,-184.54 121.5,-184.54\"/>\n",
       "<text text-anchor=\"middle\" x=\"95\" y=\"-186.75\" font-family=\"Times,serif\" font-size=\"14.00\">order_id</text>\n",
       "</g>\n",
       "<!-- users -->\n",
       "<g id=\"node3\" class=\"node\">\n",
       "<title>users</title>\n",
       "<polygon fill=\"none\" stroke=\"black\" points=\"0,-0.5 0,-61.5 236,-61.5 236,-0.5 0,-0.5\"/>\n",
       "<text text-anchor=\"middle\" x=\"118\" y=\"-46.3\" font-family=\"Times,serif\" font-size=\"14.00\">users</text>\n",
       "<polyline fill=\"none\" stroke=\"black\" points=\"0,-38.5 236,-38.5 \"/>\n",
       "<text text-anchor=\"start\" x=\"8\" y=\"-23.3\" font-family=\"Times,serif\" font-size=\"14.00\">user_id : index</text>\n",
       "<text text-anchor=\"start\" x=\"8\" y=\"-8.3\" font-family=\"Times,serif\" font-size=\"14.00\">first_orders_time : datetime_time_index</text>\n",
       "</g>\n",
       "<!-- orders&#45;&gt;users -->\n",
       "<g id=\"edge2\" class=\"edge\">\n",
       "<title>orders&#45;&gt;users</title>\n",
       "<path fill=\"none\" stroke=\"black\" d=\"M118,-98.41C118,-98.41 118,-71.76 118,-71.76\"/>\n",
       "<polygon fill=\"black\" stroke=\"black\" points=\"121.5,-71.76 118,-61.76 114.5,-71.76 121.5,-71.76\"/>\n",
       "<text text-anchor=\"middle\" x=\"98\" y=\"-73.89\" font-family=\"Times,serif\" font-size=\"14.00\">user_id</text>\n",
       "</g>\n",
       "</g>\n",
       "</svg>\n"
      ],
      "text/plain": [
       "<graphviz.dot.Digraph at 0x126130190>"
      ]
     },
     "execution_count": 16,
     "metadata": {},
     "output_type": "execute_result"
    }
   ],
   "source": [
    "es.normalize_entity(base_entity_id=\"orders\", new_entity_id=\"users\", index=\"user_id\")\n",
    "es.plot()"
   ]
  },
  {
   "cell_type": "markdown",
   "metadata": {},
   "source": [
    "To finish up creation of the entity set we will add last time indexes and set some interesting values."
   ]
  },
  {
   "cell_type": "code",
   "execution_count": 17,
   "metadata": {},
   "outputs": [],
   "source": [
    "es.add_last_time_indexes()"
   ]
  },
  {
   "cell_type": "code",
   "execution_count": 18,
   "metadata": {},
   "outputs": [],
   "source": [
    "es[\"order_products\"][\"department\"].interesting_values = ['produce', 'dairy eggs', 'snacks', 'beverages', 'frozen', 'pantry', 'bakery', 'canned goods', 'deli', 'dry goods pasta']\n",
    "es[\"order_products\"][\"product_name\"].interesting_values = ['Banana', 'Bag of Organic Bananas', 'Organic Baby Spinach', 'Organic Strawberries', 'Organic Hass Avocado', 'Organic Avocado', 'Large Lemon', 'Limes', 'Strawberries', 'Organic Whole Milk']"
   ]
  },
  {
   "cell_type": "markdown",
   "metadata": {},
   "source": [
    "## Step 3. Use Compose to generate our cutoff times dataframe\n",
    "\n",
    "In the cells that follow we will demonstrate how [Compose](https://github.com/FeatureLabs/compose) can be used to generate the label times dataframe that will be used as cutoff times for deep feature synthesis.\n",
    "\n",
    "First we define a labeling function to add a label if a user has bought a specific product or not, and then we will create our `LabelMaker` using this function."
   ]
  },
  {
   "cell_type": "code",
   "execution_count": 19,
   "metadata": {},
   "outputs": [],
   "source": [
    "def bought_product(df, product_name):\n",
    "    purchased = df.product_name.str.contains(product_name).any()\n",
    "    return purchased"
   ]
  },
  {
   "cell_type": "code",
   "execution_count": 20,
   "metadata": {},
   "outputs": [],
   "source": [
    "lm = cp.LabelMaker(\n",
    "    target_entity='user_id',\n",
    "    time_index='order_time',\n",
    "    labeling_function=bought_product,\n",
    "    window_size='4w',\n",
    ")"
   ]
  },
  {
   "cell_type": "code",
   "execution_count": 21,
   "metadata": {},
   "outputs": [],
   "source": [
    "def denormalize(es):\n",
    "    df = es['order_products'].df.merge(es['orders'].df).merge(es['users'].df)\n",
    "    return df"
   ]
  },
  {
   "cell_type": "markdown",
   "metadata": {},
   "source": [
    "Compose does not currently work on Dask dataframes, so we must first run `.compute()` on the denormalized entityset to switch to pandas."
   ]
  },
  {
   "cell_type": "code",
   "execution_count": 22,
   "metadata": {},
   "outputs": [],
   "source": [
    "df = denormalize(es).compute()"
   ]
  },
  {
   "cell_type": "markdown",
   "metadata": {},
   "source": [
    "Now we can create our labels, indicating whether or not a user has purchased Bananas."
   ]
  },
  {
   "cell_type": "code",
   "execution_count": 23,
   "metadata": {},
   "outputs": [
    {
     "name": "stdout",
     "output_type": "stream",
     "text": [
      "Elapsed: 00:02 | Remaining: 00:00 | Progress: 100%|██████████| user_id: 2000/2000 \n"
     ]
    }
   ],
   "source": [
    "label_times = lm.search(\n",
    "    df.sort_values('order_time'),\n",
    "    minimum_data='2015-03-15',\n",
    "    num_examples_per_instance=2,\n",
    "    product_name='Banana',\n",
    "    verbose=True,\n",
    ")"
   ]
  },
  {
   "cell_type": "code",
   "execution_count": 24,
   "metadata": {},
   "outputs": [
    {
     "data": {
      "text/html": [
       "<div>\n",
       "<style scoped>\n",
       "    .dataframe tbody tr th:only-of-type {\n",
       "        vertical-align: middle;\n",
       "    }\n",
       "\n",
       "    .dataframe tbody tr th {\n",
       "        vertical-align: top;\n",
       "    }\n",
       "\n",
       "    .dataframe thead th {\n",
       "        text-align: right;\n",
       "    }\n",
       "</style>\n",
       "<table border=\"1\" class=\"dataframe\">\n",
       "  <thead>\n",
       "    <tr style=\"text-align: right;\">\n",
       "      <th></th>\n",
       "      <th>user_id</th>\n",
       "      <th>time</th>\n",
       "      <th>bought_product</th>\n",
       "    </tr>\n",
       "  </thead>\n",
       "  <tbody>\n",
       "    <tr>\n",
       "      <th>0</th>\n",
       "      <td>1001</td>\n",
       "      <td>2015-03-15</td>\n",
       "      <td>False</td>\n",
       "    </tr>\n",
       "    <tr>\n",
       "      <th>1</th>\n",
       "      <td>1001</td>\n",
       "      <td>2015-04-12</td>\n",
       "      <td>False</td>\n",
       "    </tr>\n",
       "    <tr>\n",
       "      <th>2</th>\n",
       "      <td>1002</td>\n",
       "      <td>2015-03-15</td>\n",
       "      <td>False</td>\n",
       "    </tr>\n",
       "    <tr>\n",
       "      <th>3</th>\n",
       "      <td>1002</td>\n",
       "      <td>2015-04-12</td>\n",
       "      <td>False</td>\n",
       "    </tr>\n",
       "    <tr>\n",
       "      <th>4</th>\n",
       "      <td>1003</td>\n",
       "      <td>2015-03-15</td>\n",
       "      <td>False</td>\n",
       "    </tr>\n",
       "  </tbody>\n",
       "</table>\n",
       "</div>"
      ],
      "text/plain": [
       "   user_id       time  bought_product\n",
       "0     1001 2015-03-15           False\n",
       "1     1001 2015-04-12           False\n",
       "2     1002 2015-03-15           False\n",
       "3     1002 2015-04-12           False\n",
       "4     1003 2015-03-15           False"
      ]
     },
     "execution_count": 24,
     "metadata": {},
     "output_type": "execute_result"
    }
   ],
   "source": [
    "label_times.head()"
   ]
  },
  {
   "cell_type": "markdown",
   "metadata": {},
   "source": [
    "We can see above the our training examples contain three pieces of information: a user id, the last time we can use data before feature engineering (called the \"cutoff time\"), and the label to predict. These are called our \"label times\"."
   ]
  },
  {
   "cell_type": "markdown",
   "metadata": {},
   "source": [
    "We can use `describe` to print out the distribution with the settings and transforms that were used to make these labels. This is useful as a reference for understanding how the labels were generated from raw data. Also, the label distribution is helpful for determining if we have imbalanced labels."
   ]
  },
  {
   "cell_type": "code",
   "execution_count": 25,
   "metadata": {},
   "outputs": [
    {
     "name": "stdout",
     "output_type": "stream",
     "text": [
      "Label Distribution\n",
      "------------------\n",
      "False      951\n",
      "True       499\n",
      "Total:    1450\n",
      "\n",
      "\n",
      "Settings\n",
      "--------\n",
      "gap                          <4 * Weeks: weekday=6>\n",
      "minimum_data                             2015-03-15\n",
      "num_examples_per_instance                         2\n",
      "target_column                        bought_product\n",
      "target_entity                               user_id\n",
      "target_type                                discrete\n",
      "window_size                  <4 * Weeks: weekday=6>\n",
      "\n",
      "\n",
      "Transforms\n",
      "----------\n",
      "No transforms applied\n",
      "\n"
     ]
    }
   ],
   "source": [
    "label_times.describe()"
   ]
  },
  {
   "cell_type": "markdown",
   "metadata": {},
   "source": [
    "## Step 4. Run Deep Feature Synthesis\n",
    "\n",
    "With our label times created, we are ready to run deep feature synthesis to generate our feature matrix. This will execute quickly and the resulting feature matrix will be returned as a Dask dataframe. This process does not cause the feature matrix to be computed or brought into memory.\n",
    "\n",
    "When we use DFS, we specify\n",
    "- `target_entity` - the table to build features for - `users` in this case\n",
    "- `cutoff_time` - the point in time to calculate the features\n",
    "\n",
    "A good way to think of the `cutoff_time` is that it let's us \"pretend\" we are at an earlier point in time when generating our features so we can simulate making predictions. We get this time for each customer from the label times we generated above.\n",
    "\n",
    "For this initial run we will not specify any primitives, which will result in all the default primitives being used to create features."
   ]
  },
  {
   "cell_type": "code",
   "execution_count": 26,
   "metadata": {},
   "outputs": [
    {
     "name": "stdout",
     "output_type": "stream",
     "text": [
      "Built 59 features\n",
      "Elapsed: 00:05 | Progress: 100%|██████████\n"
     ]
    }
   ],
   "source": [
    "feature_matrix, features = ft.dfs(target_entity=\"users\",\n",
    "                                  cutoff_time=label_times,\n",
    "                                  entityset=es,\n",
    "                                  verbose=True)"
   ]
  },
  {
   "cell_type": "markdown",
   "metadata": {},
   "source": [
    "Now that we have a Dask feature matrix, we can save it to disk for future use along with the features we generated. This process could take some time, but you can monitor the progress using the Dask dashboard."
   ]
  },
  {
   "cell_type": "code",
   "execution_count": 29,
   "metadata": {},
   "outputs": [
    {
     "data": {
      "text/plain": [
       "['/Users/nate.parsons/dev/featuretools-demos/predict-next-purchase/data/dask_data/initial_feature_matrix-0.csv',\n",
       " '/Users/nate.parsons/dev/featuretools-demos/predict-next-purchase/data/dask_data/initial_feature_matrix-1.csv',\n",
       " '/Users/nate.parsons/dev/featuretools-demos/predict-next-purchase/data/dask_data/initial_feature_matrix-2.csv']"
      ]
     },
     "execution_count": 29,
     "metadata": {},
     "output_type": "execute_result"
    }
   ],
   "source": [
    "ft.save_features(features, os.path.join(output_dir, \"initial_features.txt\"))\n",
    "feature_matrix.to_csv(os.path.join(output_dir, \"initial_feature_matrix-*.csv\"), index=False)"
   ]
  },
  {
   "cell_type": "markdown",
   "metadata": {},
   "source": [
    "Next, let's compute the feature matrix and take a look at what we created."
   ]
  },
  {
   "cell_type": "code",
   "execution_count": 30,
   "metadata": {},
   "outputs": [
    {
     "data": {
      "text/html": [
       "<div>\n",
       "<style scoped>\n",
       "    .dataframe tbody tr th:only-of-type {\n",
       "        vertical-align: middle;\n",
       "    }\n",
       "\n",
       "    .dataframe tbody tr th {\n",
       "        vertical-align: top;\n",
       "    }\n",
       "\n",
       "    .dataframe thead th {\n",
       "        text-align: right;\n",
       "    }\n",
       "</style>\n",
       "<table border=\"1\" class=\"dataframe\">\n",
       "  <thead>\n",
       "    <tr style=\"text-align: right;\">\n",
       "      <th></th>\n",
       "      <th>COUNT(orders)</th>\n",
       "      <th>COUNT(order_products)</th>\n",
       "      <th>PERCENT_TRUE(order_products.reordered)</th>\n",
       "      <th>NUM_UNIQUE(order_products.aisle_id)</th>\n",
       "      <th>NUM_UNIQUE(order_products.department)</th>\n",
       "      <th>NUM_UNIQUE(order_products.product_name)</th>\n",
       "      <th>DAY(first_orders_time)</th>\n",
       "      <th>YEAR(first_orders_time)</th>\n",
       "      <th>MONTH(first_orders_time)</th>\n",
       "      <th>WEEKDAY(first_orders_time)</th>\n",
       "      <th>...</th>\n",
       "      <th>COUNT(order_products WHERE department = frozen)</th>\n",
       "      <th>COUNT(order_products WHERE product_name = Organic Baby Spinach)</th>\n",
       "      <th>COUNT(order_products WHERE department = dairy eggs)</th>\n",
       "      <th>COUNT(order_products WHERE product_name = Banana)</th>\n",
       "      <th>COUNT(order_products WHERE department = pantry)</th>\n",
       "      <th>COUNT(order_products WHERE department = snacks)</th>\n",
       "      <th>COUNT(order_products WHERE product_name = Organic Hass Avocado)</th>\n",
       "      <th>NUM_UNIQUE(order_products.orders.user_id)</th>\n",
       "      <th>user_id</th>\n",
       "      <th>bought_product</th>\n",
       "    </tr>\n",
       "  </thead>\n",
       "  <tbody>\n",
       "    <tr>\n",
       "      <th>0</th>\n",
       "      <td>6</td>\n",
       "      <td>400</td>\n",
       "      <td>0.280000</td>\n",
       "      <td>25</td>\n",
       "      <td>13</td>\n",
       "      <td>36</td>\n",
       "      <td>1</td>\n",
       "      <td>2015</td>\n",
       "      <td>1</td>\n",
       "      <td>3</td>\n",
       "      <td>...</td>\n",
       "      <td>32.0</td>\n",
       "      <td>0.0</td>\n",
       "      <td>32.0</td>\n",
       "      <td>0.0</td>\n",
       "      <td>0.0</td>\n",
       "      <td>104.0</td>\n",
       "      <td>0.0</td>\n",
       "      <td>1</td>\n",
       "      <td>1001</td>\n",
       "      <td>False</td>\n",
       "    </tr>\n",
       "    <tr>\n",
       "      <th>1</th>\n",
       "      <td>6</td>\n",
       "      <td>118</td>\n",
       "      <td>0.203390</td>\n",
       "      <td>19</td>\n",
       "      <td>10</td>\n",
       "      <td>47</td>\n",
       "      <td>1</td>\n",
       "      <td>2015</td>\n",
       "      <td>1</td>\n",
       "      <td>3</td>\n",
       "      <td>...</td>\n",
       "      <td>0.0</td>\n",
       "      <td>0.0</td>\n",
       "      <td>4.0</td>\n",
       "      <td>2.0</td>\n",
       "      <td>18.0</td>\n",
       "      <td>54.0</td>\n",
       "      <td>0.0</td>\n",
       "      <td>1</td>\n",
       "      <td>1002</td>\n",
       "      <td>False</td>\n",
       "    </tr>\n",
       "    <tr>\n",
       "      <th>2</th>\n",
       "      <td>20</td>\n",
       "      <td>1608</td>\n",
       "      <td>0.597015</td>\n",
       "      <td>20</td>\n",
       "      <td>12</td>\n",
       "      <td>81</td>\n",
       "      <td>1</td>\n",
       "      <td>2015</td>\n",
       "      <td>1</td>\n",
       "      <td>3</td>\n",
       "      <td>...</td>\n",
       "      <td>32.0</td>\n",
       "      <td>0.0</td>\n",
       "      <td>56.0</td>\n",
       "      <td>0.0</td>\n",
       "      <td>24.0</td>\n",
       "      <td>8.0</td>\n",
       "      <td>0.0</td>\n",
       "      <td>1</td>\n",
       "      <td>1004</td>\n",
       "      <td>True</td>\n",
       "    </tr>\n",
       "    <tr>\n",
       "      <th>3</th>\n",
       "      <td>8</td>\n",
       "      <td>116</td>\n",
       "      <td>0.413793</td>\n",
       "      <td>21</td>\n",
       "      <td>9</td>\n",
       "      <td>34</td>\n",
       "      <td>1</td>\n",
       "      <td>2015</td>\n",
       "      <td>1</td>\n",
       "      <td>3</td>\n",
       "      <td>...</td>\n",
       "      <td>0.0</td>\n",
       "      <td>4.0</td>\n",
       "      <td>18.0</td>\n",
       "      <td>0.0</td>\n",
       "      <td>10.0</td>\n",
       "      <td>12.0</td>\n",
       "      <td>2.0</td>\n",
       "      <td>1</td>\n",
       "      <td>1007</td>\n",
       "      <td>False</td>\n",
       "    </tr>\n",
       "    <tr>\n",
       "      <th>4</th>\n",
       "      <td>4</td>\n",
       "      <td>84</td>\n",
       "      <td>0.047619</td>\n",
       "      <td>22</td>\n",
       "      <td>7</td>\n",
       "      <td>40</td>\n",
       "      <td>1</td>\n",
       "      <td>2015</td>\n",
       "      <td>1</td>\n",
       "      <td>3</td>\n",
       "      <td>...</td>\n",
       "      <td>12.0</td>\n",
       "      <td>0.0</td>\n",
       "      <td>18.0</td>\n",
       "      <td>0.0</td>\n",
       "      <td>4.0</td>\n",
       "      <td>16.0</td>\n",
       "      <td>0.0</td>\n",
       "      <td>1</td>\n",
       "      <td>1008</td>\n",
       "      <td>True</td>\n",
       "    </tr>\n",
       "  </tbody>\n",
       "</table>\n",
       "<p>5 rows × 61 columns</p>\n",
       "</div>"
      ],
      "text/plain": [
       "   COUNT(orders)  COUNT(order_products)  \\\n",
       "0              6                    400   \n",
       "1              6                    118   \n",
       "2             20                   1608   \n",
       "3              8                    116   \n",
       "4              4                     84   \n",
       "\n",
       "   PERCENT_TRUE(order_products.reordered)  \\\n",
       "0                                0.280000   \n",
       "1                                0.203390   \n",
       "2                                0.597015   \n",
       "3                                0.413793   \n",
       "4                                0.047619   \n",
       "\n",
       "   NUM_UNIQUE(order_products.aisle_id)  NUM_UNIQUE(order_products.department)  \\\n",
       "0                                   25                                     13   \n",
       "1                                   19                                     10   \n",
       "2                                   20                                     12   \n",
       "3                                   21                                      9   \n",
       "4                                   22                                      7   \n",
       "\n",
       "   NUM_UNIQUE(order_products.product_name)  DAY(first_orders_time)  \\\n",
       "0                                       36                       1   \n",
       "1                                       47                       1   \n",
       "2                                       81                       1   \n",
       "3                                       34                       1   \n",
       "4                                       40                       1   \n",
       "\n",
       "   YEAR(first_orders_time)  MONTH(first_orders_time)  \\\n",
       "0                     2015                         1   \n",
       "1                     2015                         1   \n",
       "2                     2015                         1   \n",
       "3                     2015                         1   \n",
       "4                     2015                         1   \n",
       "\n",
       "   WEEKDAY(first_orders_time)  ...  \\\n",
       "0                           3  ...   \n",
       "1                           3  ...   \n",
       "2                           3  ...   \n",
       "3                           3  ...   \n",
       "4                           3  ...   \n",
       "\n",
       "   COUNT(order_products WHERE department = frozen)  \\\n",
       "0                                             32.0   \n",
       "1                                              0.0   \n",
       "2                                             32.0   \n",
       "3                                              0.0   \n",
       "4                                             12.0   \n",
       "\n",
       "   COUNT(order_products WHERE product_name = Organic Baby Spinach)  \\\n",
       "0                                                0.0                 \n",
       "1                                                0.0                 \n",
       "2                                                0.0                 \n",
       "3                                                4.0                 \n",
       "4                                                0.0                 \n",
       "\n",
       "   COUNT(order_products WHERE department = dairy eggs)  \\\n",
       "0                                               32.0     \n",
       "1                                                4.0     \n",
       "2                                               56.0     \n",
       "3                                               18.0     \n",
       "4                                               18.0     \n",
       "\n",
       "   COUNT(order_products WHERE product_name = Banana)  \\\n",
       "0                                                0.0   \n",
       "1                                                2.0   \n",
       "2                                                0.0   \n",
       "3                                                0.0   \n",
       "4                                                0.0   \n",
       "\n",
       "   COUNT(order_products WHERE department = pantry)  \\\n",
       "0                                              0.0   \n",
       "1                                             18.0   \n",
       "2                                             24.0   \n",
       "3                                             10.0   \n",
       "4                                              4.0   \n",
       "\n",
       "   COUNT(order_products WHERE department = snacks)  \\\n",
       "0                                            104.0   \n",
       "1                                             54.0   \n",
       "2                                              8.0   \n",
       "3                                             12.0   \n",
       "4                                             16.0   \n",
       "\n",
       "   COUNT(order_products WHERE product_name = Organic Hass Avocado)  \\\n",
       "0                                                0.0                 \n",
       "1                                                0.0                 \n",
       "2                                                0.0                 \n",
       "3                                                2.0                 \n",
       "4                                                0.0                 \n",
       "\n",
       "   NUM_UNIQUE(order_products.orders.user_id)  user_id  bought_product  \n",
       "0                                          1     1001           False  \n",
       "1                                          1     1002           False  \n",
       "2                                          1     1004            True  \n",
       "3                                          1     1007           False  \n",
       "4                                          1     1008            True  \n",
       "\n",
       "[5 rows x 61 columns]"
      ]
     },
     "execution_count": 30,
     "metadata": {},
     "output_type": "execute_result"
    }
   ],
   "source": [
    "fm = feature_matrix.compute()\n",
    "fm.head()"
   ]
  },
  {
   "cell_type": "markdown",
   "metadata": {},
   "source": [
    "Before we use this feature matrix to build a predictive model, we will first encode any categorical features using `ft.encode_features()`. Note, at this time `ft.encode_features()` does not work with a Dask feature matrix, so we will use the pandas version we computed above."
   ]
  },
  {
   "cell_type": "code",
   "execution_count": 31,
   "metadata": {},
   "outputs": [
    {
     "name": "stdout",
     "output_type": "stream",
     "text": [
      "Number of features 63\n"
     ]
    },
    {
     "data": {
      "text/html": [
       "<div>\n",
       "<style scoped>\n",
       "    .dataframe tbody tr th:only-of-type {\n",
       "        vertical-align: middle;\n",
       "    }\n",
       "\n",
       "    .dataframe tbody tr th {\n",
       "        vertical-align: top;\n",
       "    }\n",
       "\n",
       "    .dataframe thead th {\n",
       "        text-align: right;\n",
       "    }\n",
       "</style>\n",
       "<table border=\"1\" class=\"dataframe\">\n",
       "  <thead>\n",
       "    <tr style=\"text-align: right;\">\n",
       "      <th></th>\n",
       "      <th>COUNT(orders)</th>\n",
       "      <th>COUNT(order_products)</th>\n",
       "      <th>PERCENT_TRUE(order_products.reordered)</th>\n",
       "      <th>NUM_UNIQUE(order_products.aisle_id)</th>\n",
       "      <th>NUM_UNIQUE(order_products.department)</th>\n",
       "      <th>NUM_UNIQUE(order_products.product_name)</th>\n",
       "      <th>DAY(first_orders_time) = 1</th>\n",
       "      <th>DAY(first_orders_time) is unknown</th>\n",
       "      <th>YEAR(first_orders_time) = 2015</th>\n",
       "      <th>YEAR(first_orders_time) is unknown</th>\n",
       "      <th>...</th>\n",
       "      <th>COUNT(order_products WHERE department = frozen)</th>\n",
       "      <th>COUNT(order_products WHERE product_name = Organic Baby Spinach)</th>\n",
       "      <th>COUNT(order_products WHERE department = dairy eggs)</th>\n",
       "      <th>COUNT(order_products WHERE product_name = Banana)</th>\n",
       "      <th>COUNT(order_products WHERE department = pantry)</th>\n",
       "      <th>COUNT(order_products WHERE department = snacks)</th>\n",
       "      <th>COUNT(order_products WHERE product_name = Organic Hass Avocado)</th>\n",
       "      <th>NUM_UNIQUE(order_products.orders.user_id)</th>\n",
       "      <th>user_id</th>\n",
       "      <th>bought_product</th>\n",
       "    </tr>\n",
       "  </thead>\n",
       "  <tbody>\n",
       "    <tr>\n",
       "      <th>0</th>\n",
       "      <td>6</td>\n",
       "      <td>400</td>\n",
       "      <td>0.280000</td>\n",
       "      <td>25</td>\n",
       "      <td>13</td>\n",
       "      <td>36</td>\n",
       "      <td>True</td>\n",
       "      <td>False</td>\n",
       "      <td>True</td>\n",
       "      <td>False</td>\n",
       "      <td>...</td>\n",
       "      <td>32.0</td>\n",
       "      <td>0.0</td>\n",
       "      <td>32.0</td>\n",
       "      <td>0.0</td>\n",
       "      <td>0.0</td>\n",
       "      <td>104.0</td>\n",
       "      <td>0.0</td>\n",
       "      <td>1</td>\n",
       "      <td>1001</td>\n",
       "      <td>False</td>\n",
       "    </tr>\n",
       "    <tr>\n",
       "      <th>1</th>\n",
       "      <td>6</td>\n",
       "      <td>118</td>\n",
       "      <td>0.203390</td>\n",
       "      <td>19</td>\n",
       "      <td>10</td>\n",
       "      <td>47</td>\n",
       "      <td>True</td>\n",
       "      <td>False</td>\n",
       "      <td>True</td>\n",
       "      <td>False</td>\n",
       "      <td>...</td>\n",
       "      <td>0.0</td>\n",
       "      <td>0.0</td>\n",
       "      <td>4.0</td>\n",
       "      <td>2.0</td>\n",
       "      <td>18.0</td>\n",
       "      <td>54.0</td>\n",
       "      <td>0.0</td>\n",
       "      <td>1</td>\n",
       "      <td>1002</td>\n",
       "      <td>False</td>\n",
       "    </tr>\n",
       "    <tr>\n",
       "      <th>2</th>\n",
       "      <td>20</td>\n",
       "      <td>1608</td>\n",
       "      <td>0.597015</td>\n",
       "      <td>20</td>\n",
       "      <td>12</td>\n",
       "      <td>81</td>\n",
       "      <td>True</td>\n",
       "      <td>False</td>\n",
       "      <td>True</td>\n",
       "      <td>False</td>\n",
       "      <td>...</td>\n",
       "      <td>32.0</td>\n",
       "      <td>0.0</td>\n",
       "      <td>56.0</td>\n",
       "      <td>0.0</td>\n",
       "      <td>24.0</td>\n",
       "      <td>8.0</td>\n",
       "      <td>0.0</td>\n",
       "      <td>1</td>\n",
       "      <td>1004</td>\n",
       "      <td>True</td>\n",
       "    </tr>\n",
       "    <tr>\n",
       "      <th>3</th>\n",
       "      <td>8</td>\n",
       "      <td>116</td>\n",
       "      <td>0.413793</td>\n",
       "      <td>21</td>\n",
       "      <td>9</td>\n",
       "      <td>34</td>\n",
       "      <td>True</td>\n",
       "      <td>False</td>\n",
       "      <td>True</td>\n",
       "      <td>False</td>\n",
       "      <td>...</td>\n",
       "      <td>0.0</td>\n",
       "      <td>4.0</td>\n",
       "      <td>18.0</td>\n",
       "      <td>0.0</td>\n",
       "      <td>10.0</td>\n",
       "      <td>12.0</td>\n",
       "      <td>2.0</td>\n",
       "      <td>1</td>\n",
       "      <td>1007</td>\n",
       "      <td>False</td>\n",
       "    </tr>\n",
       "    <tr>\n",
       "      <th>4</th>\n",
       "      <td>4</td>\n",
       "      <td>84</td>\n",
       "      <td>0.047619</td>\n",
       "      <td>22</td>\n",
       "      <td>7</td>\n",
       "      <td>40</td>\n",
       "      <td>True</td>\n",
       "      <td>False</td>\n",
       "      <td>True</td>\n",
       "      <td>False</td>\n",
       "      <td>...</td>\n",
       "      <td>12.0</td>\n",
       "      <td>0.0</td>\n",
       "      <td>18.0</td>\n",
       "      <td>0.0</td>\n",
       "      <td>4.0</td>\n",
       "      <td>16.0</td>\n",
       "      <td>0.0</td>\n",
       "      <td>1</td>\n",
       "      <td>1008</td>\n",
       "      <td>True</td>\n",
       "    </tr>\n",
       "  </tbody>\n",
       "</table>\n",
       "<p>5 rows × 65 columns</p>\n",
       "</div>"
      ],
      "text/plain": [
       "   COUNT(orders)  COUNT(order_products)  \\\n",
       "0              6                    400   \n",
       "1              6                    118   \n",
       "2             20                   1608   \n",
       "3              8                    116   \n",
       "4              4                     84   \n",
       "\n",
       "   PERCENT_TRUE(order_products.reordered)  \\\n",
       "0                                0.280000   \n",
       "1                                0.203390   \n",
       "2                                0.597015   \n",
       "3                                0.413793   \n",
       "4                                0.047619   \n",
       "\n",
       "   NUM_UNIQUE(order_products.aisle_id)  NUM_UNIQUE(order_products.department)  \\\n",
       "0                                   25                                     13   \n",
       "1                                   19                                     10   \n",
       "2                                   20                                     12   \n",
       "3                                   21                                      9   \n",
       "4                                   22                                      7   \n",
       "\n",
       "   NUM_UNIQUE(order_products.product_name)  DAY(first_orders_time) = 1  \\\n",
       "0                                       36                        True   \n",
       "1                                       47                        True   \n",
       "2                                       81                        True   \n",
       "3                                       34                        True   \n",
       "4                                       40                        True   \n",
       "\n",
       "   DAY(first_orders_time) is unknown  YEAR(first_orders_time) = 2015  \\\n",
       "0                              False                            True   \n",
       "1                              False                            True   \n",
       "2                              False                            True   \n",
       "3                              False                            True   \n",
       "4                              False                            True   \n",
       "\n",
       "   YEAR(first_orders_time) is unknown  ...  \\\n",
       "0                               False  ...   \n",
       "1                               False  ...   \n",
       "2                               False  ...   \n",
       "3                               False  ...   \n",
       "4                               False  ...   \n",
       "\n",
       "   COUNT(order_products WHERE department = frozen)  \\\n",
       "0                                             32.0   \n",
       "1                                              0.0   \n",
       "2                                             32.0   \n",
       "3                                              0.0   \n",
       "4                                             12.0   \n",
       "\n",
       "   COUNT(order_products WHERE product_name = Organic Baby Spinach)  \\\n",
       "0                                                0.0                 \n",
       "1                                                0.0                 \n",
       "2                                                0.0                 \n",
       "3                                                4.0                 \n",
       "4                                                0.0                 \n",
       "\n",
       "   COUNT(order_products WHERE department = dairy eggs)  \\\n",
       "0                                               32.0     \n",
       "1                                                4.0     \n",
       "2                                               56.0     \n",
       "3                                               18.0     \n",
       "4                                               18.0     \n",
       "\n",
       "   COUNT(order_products WHERE product_name = Banana)  \\\n",
       "0                                                0.0   \n",
       "1                                                2.0   \n",
       "2                                                0.0   \n",
       "3                                                0.0   \n",
       "4                                                0.0   \n",
       "\n",
       "   COUNT(order_products WHERE department = pantry)  \\\n",
       "0                                              0.0   \n",
       "1                                             18.0   \n",
       "2                                             24.0   \n",
       "3                                             10.0   \n",
       "4                                              4.0   \n",
       "\n",
       "   COUNT(order_products WHERE department = snacks)  \\\n",
       "0                                            104.0   \n",
       "1                                             54.0   \n",
       "2                                              8.0   \n",
       "3                                             12.0   \n",
       "4                                             16.0   \n",
       "\n",
       "   COUNT(order_products WHERE product_name = Organic Hass Avocado)  \\\n",
       "0                                                0.0                 \n",
       "1                                                0.0                 \n",
       "2                                                0.0                 \n",
       "3                                                2.0                 \n",
       "4                                                0.0                 \n",
       "\n",
       "   NUM_UNIQUE(order_products.orders.user_id)  user_id  bought_product  \n",
       "0                                          1     1001           False  \n",
       "1                                          1     1002           False  \n",
       "2                                          1     1004            True  \n",
       "3                                          1     1007           False  \n",
       "4                                          1     1008            True  \n",
       "\n",
       "[5 rows x 65 columns]"
      ]
     },
     "execution_count": 31,
     "metadata": {},
     "output_type": "execute_result"
    }
   ],
   "source": [
    "fm_encoded, features_encoded = ft.encode_features(fm,\n",
    "                                                  features)\n",
    "\n",
    "print(\"Number of features %s\" % len(features_encoded))\n",
    "fm_encoded.head()"
   ]
  },
  {
   "cell_type": "markdown",
   "metadata": {},
   "source": [
    "## Step 5. Machine Learning\n",
    "\n",
    "Using the default parameters, we generated dozens of potential features for our prediction problem. With a few simple commands, this feature matrix can be used for machine learning"
   ]
  },
  {
   "cell_type": "code",
   "execution_count": 32,
   "metadata": {},
   "outputs": [],
   "source": [
    "X = fm_encoded.drop([\"user_id\"], axis=1)\n",
    "X = X.fillna(0)\n",
    "y = X.pop(\"bought_product\").astype('bool')"
   ]
  },
  {
   "cell_type": "code",
   "execution_count": 33,
   "metadata": {},
   "outputs": [
    {
     "data": {
      "text/html": [
       "<div>\n",
       "<style scoped>\n",
       "    .dataframe tbody tr th:only-of-type {\n",
       "        vertical-align: middle;\n",
       "    }\n",
       "\n",
       "    .dataframe tbody tr th {\n",
       "        vertical-align: top;\n",
       "    }\n",
       "\n",
       "    .dataframe thead th {\n",
       "        text-align: right;\n",
       "    }\n",
       "</style>\n",
       "<table border=\"1\" class=\"dataframe\">\n",
       "  <thead>\n",
       "    <tr style=\"text-align: right;\">\n",
       "      <th></th>\n",
       "      <th>COUNT(orders)</th>\n",
       "      <th>COUNT(order_products)</th>\n",
       "      <th>PERCENT_TRUE(order_products.reordered)</th>\n",
       "      <th>NUM_UNIQUE(order_products.aisle_id)</th>\n",
       "      <th>NUM_UNIQUE(order_products.department)</th>\n",
       "      <th>NUM_UNIQUE(order_products.product_name)</th>\n",
       "      <th>DAY(first_orders_time) = 1</th>\n",
       "      <th>DAY(first_orders_time) is unknown</th>\n",
       "      <th>YEAR(first_orders_time) = 2015</th>\n",
       "      <th>YEAR(first_orders_time) is unknown</th>\n",
       "      <th>...</th>\n",
       "      <th>COUNT(order_products WHERE product_name = Large Lemon)</th>\n",
       "      <th>COUNT(order_products WHERE department = beverages)</th>\n",
       "      <th>COUNT(order_products WHERE department = frozen)</th>\n",
       "      <th>COUNT(order_products WHERE product_name = Organic Baby Spinach)</th>\n",
       "      <th>COUNT(order_products WHERE department = dairy eggs)</th>\n",
       "      <th>COUNT(order_products WHERE product_name = Banana)</th>\n",
       "      <th>COUNT(order_products WHERE department = pantry)</th>\n",
       "      <th>COUNT(order_products WHERE department = snacks)</th>\n",
       "      <th>COUNT(order_products WHERE product_name = Organic Hass Avocado)</th>\n",
       "      <th>NUM_UNIQUE(order_products.orders.user_id)</th>\n",
       "    </tr>\n",
       "  </thead>\n",
       "  <tbody>\n",
       "    <tr>\n",
       "      <th>0</th>\n",
       "      <td>6</td>\n",
       "      <td>400</td>\n",
       "      <td>0.280000</td>\n",
       "      <td>25</td>\n",
       "      <td>13</td>\n",
       "      <td>36</td>\n",
       "      <td>True</td>\n",
       "      <td>False</td>\n",
       "      <td>True</td>\n",
       "      <td>False</td>\n",
       "      <td>...</td>\n",
       "      <td>0.0</td>\n",
       "      <td>8.0</td>\n",
       "      <td>32.0</td>\n",
       "      <td>0.0</td>\n",
       "      <td>32.0</td>\n",
       "      <td>0.0</td>\n",
       "      <td>0.0</td>\n",
       "      <td>104.0</td>\n",
       "      <td>0.0</td>\n",
       "      <td>1</td>\n",
       "    </tr>\n",
       "    <tr>\n",
       "      <th>1</th>\n",
       "      <td>6</td>\n",
       "      <td>118</td>\n",
       "      <td>0.203390</td>\n",
       "      <td>19</td>\n",
       "      <td>10</td>\n",
       "      <td>47</td>\n",
       "      <td>True</td>\n",
       "      <td>False</td>\n",
       "      <td>True</td>\n",
       "      <td>False</td>\n",
       "      <td>...</td>\n",
       "      <td>0.0</td>\n",
       "      <td>6.0</td>\n",
       "      <td>0.0</td>\n",
       "      <td>0.0</td>\n",
       "      <td>4.0</td>\n",
       "      <td>2.0</td>\n",
       "      <td>18.0</td>\n",
       "      <td>54.0</td>\n",
       "      <td>0.0</td>\n",
       "      <td>1</td>\n",
       "    </tr>\n",
       "    <tr>\n",
       "      <th>2</th>\n",
       "      <td>20</td>\n",
       "      <td>1608</td>\n",
       "      <td>0.597015</td>\n",
       "      <td>20</td>\n",
       "      <td>12</td>\n",
       "      <td>81</td>\n",
       "      <td>True</td>\n",
       "      <td>False</td>\n",
       "      <td>True</td>\n",
       "      <td>False</td>\n",
       "      <td>...</td>\n",
       "      <td>0.0</td>\n",
       "      <td>56.0</td>\n",
       "      <td>32.0</td>\n",
       "      <td>0.0</td>\n",
       "      <td>56.0</td>\n",
       "      <td>0.0</td>\n",
       "      <td>24.0</td>\n",
       "      <td>8.0</td>\n",
       "      <td>0.0</td>\n",
       "      <td>1</td>\n",
       "    </tr>\n",
       "    <tr>\n",
       "      <th>3</th>\n",
       "      <td>8</td>\n",
       "      <td>116</td>\n",
       "      <td>0.413793</td>\n",
       "      <td>21</td>\n",
       "      <td>9</td>\n",
       "      <td>34</td>\n",
       "      <td>True</td>\n",
       "      <td>False</td>\n",
       "      <td>True</td>\n",
       "      <td>False</td>\n",
       "      <td>...</td>\n",
       "      <td>0.0</td>\n",
       "      <td>4.0</td>\n",
       "      <td>0.0</td>\n",
       "      <td>4.0</td>\n",
       "      <td>18.0</td>\n",
       "      <td>0.0</td>\n",
       "      <td>10.0</td>\n",
       "      <td>12.0</td>\n",
       "      <td>2.0</td>\n",
       "      <td>1</td>\n",
       "    </tr>\n",
       "    <tr>\n",
       "      <th>4</th>\n",
       "      <td>4</td>\n",
       "      <td>84</td>\n",
       "      <td>0.047619</td>\n",
       "      <td>22</td>\n",
       "      <td>7</td>\n",
       "      <td>40</td>\n",
       "      <td>True</td>\n",
       "      <td>False</td>\n",
       "      <td>True</td>\n",
       "      <td>False</td>\n",
       "      <td>...</td>\n",
       "      <td>2.0</td>\n",
       "      <td>6.0</td>\n",
       "      <td>12.0</td>\n",
       "      <td>0.0</td>\n",
       "      <td>18.0</td>\n",
       "      <td>0.0</td>\n",
       "      <td>4.0</td>\n",
       "      <td>16.0</td>\n",
       "      <td>0.0</td>\n",
       "      <td>1</td>\n",
       "    </tr>\n",
       "  </tbody>\n",
       "</table>\n",
       "<p>5 rows × 63 columns</p>\n",
       "</div>"
      ],
      "text/plain": [
       "   COUNT(orders)  COUNT(order_products)  \\\n",
       "0              6                    400   \n",
       "1              6                    118   \n",
       "2             20                   1608   \n",
       "3              8                    116   \n",
       "4              4                     84   \n",
       "\n",
       "   PERCENT_TRUE(order_products.reordered)  \\\n",
       "0                                0.280000   \n",
       "1                                0.203390   \n",
       "2                                0.597015   \n",
       "3                                0.413793   \n",
       "4                                0.047619   \n",
       "\n",
       "   NUM_UNIQUE(order_products.aisle_id)  NUM_UNIQUE(order_products.department)  \\\n",
       "0                                   25                                     13   \n",
       "1                                   19                                     10   \n",
       "2                                   20                                     12   \n",
       "3                                   21                                      9   \n",
       "4                                   22                                      7   \n",
       "\n",
       "   NUM_UNIQUE(order_products.product_name)  DAY(first_orders_time) = 1  \\\n",
       "0                                       36                        True   \n",
       "1                                       47                        True   \n",
       "2                                       81                        True   \n",
       "3                                       34                        True   \n",
       "4                                       40                        True   \n",
       "\n",
       "   DAY(first_orders_time) is unknown  YEAR(first_orders_time) = 2015  \\\n",
       "0                              False                            True   \n",
       "1                              False                            True   \n",
       "2                              False                            True   \n",
       "3                              False                            True   \n",
       "4                              False                            True   \n",
       "\n",
       "   YEAR(first_orders_time) is unknown  ...  \\\n",
       "0                               False  ...   \n",
       "1                               False  ...   \n",
       "2                               False  ...   \n",
       "3                               False  ...   \n",
       "4                               False  ...   \n",
       "\n",
       "   COUNT(order_products WHERE product_name = Large Lemon)  \\\n",
       "0                                                0.0        \n",
       "1                                                0.0        \n",
       "2                                                0.0        \n",
       "3                                                0.0        \n",
       "4                                                2.0        \n",
       "\n",
       "   COUNT(order_products WHERE department = beverages)  \\\n",
       "0                                                8.0    \n",
       "1                                                6.0    \n",
       "2                                               56.0    \n",
       "3                                                4.0    \n",
       "4                                                6.0    \n",
       "\n",
       "   COUNT(order_products WHERE department = frozen)  \\\n",
       "0                                             32.0   \n",
       "1                                              0.0   \n",
       "2                                             32.0   \n",
       "3                                              0.0   \n",
       "4                                             12.0   \n",
       "\n",
       "   COUNT(order_products WHERE product_name = Organic Baby Spinach)  \\\n",
       "0                                                0.0                 \n",
       "1                                                0.0                 \n",
       "2                                                0.0                 \n",
       "3                                                4.0                 \n",
       "4                                                0.0                 \n",
       "\n",
       "   COUNT(order_products WHERE department = dairy eggs)  \\\n",
       "0                                               32.0     \n",
       "1                                                4.0     \n",
       "2                                               56.0     \n",
       "3                                               18.0     \n",
       "4                                               18.0     \n",
       "\n",
       "   COUNT(order_products WHERE product_name = Banana)  \\\n",
       "0                                                0.0   \n",
       "1                                                2.0   \n",
       "2                                                0.0   \n",
       "3                                                0.0   \n",
       "4                                                0.0   \n",
       "\n",
       "   COUNT(order_products WHERE department = pantry)  \\\n",
       "0                                              0.0   \n",
       "1                                             18.0   \n",
       "2                                             24.0   \n",
       "3                                             10.0   \n",
       "4                                              4.0   \n",
       "\n",
       "   COUNT(order_products WHERE department = snacks)  \\\n",
       "0                                            104.0   \n",
       "1                                             54.0   \n",
       "2                                              8.0   \n",
       "3                                             12.0   \n",
       "4                                             16.0   \n",
       "\n",
       "   COUNT(order_products WHERE product_name = Organic Hass Avocado)  \\\n",
       "0                                                0.0                 \n",
       "1                                                0.0                 \n",
       "2                                                0.0                 \n",
       "3                                                2.0                 \n",
       "4                                                0.0                 \n",
       "\n",
       "   NUM_UNIQUE(order_products.orders.user_id)  \n",
       "0                                          1  \n",
       "1                                          1  \n",
       "2                                          1  \n",
       "3                                          1  \n",
       "4                                          1  \n",
       "\n",
       "[5 rows x 63 columns]"
      ]
     },
     "execution_count": 33,
     "metadata": {},
     "output_type": "execute_result"
    }
   ],
   "source": [
    "X.head()"
   ]
  },
  {
   "cell_type": "code",
   "execution_count": 34,
   "metadata": {},
   "outputs": [
    {
     "data": {
      "text/plain": [
       "0    False\n",
       "1    False\n",
       "2     True\n",
       "3    False\n",
       "4     True\n",
       "Name: bought_product, dtype: bool"
      ]
     },
     "execution_count": 34,
     "metadata": {},
     "output_type": "execute_result"
    }
   ],
   "source": [
    "y.head()"
   ]
  },
  {
   "cell_type": "markdown",
   "metadata": {},
   "source": [
    "Let's train a Random Forest and validate using 3-fold cross validation"
   ]
  },
  {
   "cell_type": "code",
   "execution_count": 35,
   "metadata": {},
   "outputs": [
    {
     "name": "stderr",
     "output_type": "stream",
     "text": [
      "[Parallel(n_jobs=1)]: Using backend SequentialBackend with 1 concurrent workers.\n",
      "[Parallel(n_jobs=1)]: Done   3 out of   3 | elapsed:    4.7s finished\n"
     ]
    },
    {
     "data": {
      "text/plain": [
       "'AUC 0.81 +/- 0.02'"
      ]
     },
     "execution_count": 35,
     "metadata": {},
     "output_type": "execute_result"
    }
   ],
   "source": [
    "clf = RandomForestClassifier(n_estimators=400, n_jobs=-1)\n",
    "scores = cross_val_score(estimator=clf,X=X, y=y, cv=3,\n",
    "                         scoring=\"roc_auc\", verbose=True)\n",
    "\n",
    "\"AUC %.2f +/- %.2f\" % (scores.mean(), scores.std())"
   ]
  },
  {
   "cell_type": "markdown",
   "metadata": {},
   "source": [
    "As you can see this model predicts the next purchase better than guessing. \n",
    "\n",
    "Next we will identify the top 20 features so we can use them to later perform machine learning on the whole dataset."
   ]
  },
  {
   "cell_type": "code",
   "execution_count": 36,
   "metadata": {},
   "outputs": [
    {
     "name": "stdout",
     "output_type": "stream",
     "text": [
      "1: Feature: COUNT(order_products WHERE product_name = Banana), 0.068\n",
      "2: Feature: COUNT(order_products WHERE product_name = Bag of Organic Bananas), 0.065\n",
      "3: Feature: COUNT(order_products WHERE department = produce), 0.041\n",
      "4: Feature: MEAN(orders.NUM_UNIQUE(order_products.product_name)), 0.034\n",
      "5: Feature: MEAN(orders.NUM_UNIQUE(order_products.aisle_id)), 0.028\n",
      "6: Feature: NUM_UNIQUE(order_products.product_name), 0.027\n",
      "7: Feature: MEAN(orders.NUM_UNIQUE(order_products.department)), 0.026\n",
      "8: Feature: STD(orders.PERCENT_TRUE(order_products.reordered)), 0.026\n",
      "9: Feature: PERCENT_TRUE(order_products.reordered), 0.026\n",
      "10: Feature: COUNT(order_products WHERE department = dairy eggs), 0.026\n",
      "11: Feature: STD(orders.NUM_UNIQUE(order_products.department)), 0.026\n",
      "12: Feature: STD(orders.NUM_UNIQUE(order_products.product_name)), 0.025\n",
      "13: Feature: MEAN(orders.PERCENT_TRUE(order_products.reordered)), 0.025\n",
      "14: Feature: MEAN(orders.COUNT(order_products)), 0.023\n",
      "15: Feature: STD(orders.COUNT(order_products)), 0.023\n",
      "16: Feature: SUM(orders.PERCENT_TRUE(order_products.reordered)), 0.023\n",
      "17: Feature: STD(orders.NUM_UNIQUE(order_products.aisle_id)), 0.023\n",
      "18: Feature: SUM(orders.NUM_UNIQUE(order_products.aisle_id)), 0.022\n",
      "19: Feature: SUM(orders.NUM_UNIQUE(order_products.product_name)), 0.021\n",
      "20: Feature: SUM(orders.NUM_UNIQUE(order_products.department)), 0.021\n"
     ]
    }
   ],
   "source": [
    "clf.fit(X, y)\n",
    "top_features = utils.feature_importances(clf, features_encoded, n=20)"
   ]
  },
  {
   "cell_type": "markdown",
   "metadata": {},
   "source": [
    "To persist these features, we can save them to disk."
   ]
  },
  {
   "cell_type": "code",
   "execution_count": 37,
   "metadata": {},
   "outputs": [],
   "source": [
    "ft.save_features(top_features, os.path.join(data_dir, \"top_features.txt\"))"
   ]
  },
  {
   "cell_type": "markdown",
   "metadata": {},
   "source": [
    "### Understanding feature engineering in Featuretools\n",
    "\n",
    "Before moving forward, take a look at the features we created. You will see that they are more than just simple transformations of columns in our raw data. Instead, they perform aggregations (and sometimes stacking of aggregations) across the relationships in our dataset. If you're curious how this works, learn about the Deep Feature Synthesis algorithm in our documentation [here](https://docs.featuretools.com/en/stable/automated_feature_engineering/afe.html).\n",
    "\n",
    "DFS is so powerful because with no manual work, the library figured out that historical purchases of bananas are important for predicting future purchases. Additionally, it surfaces that purchasing dairy or eggs and reordering behavior are important features.\n",
    "\n",
    "Even though these features are intuitive, Deep Feature Synthesis will automatically adapt as we change the prediction problem, saving us the time of manually brainstorming and implementing these data transformation."
   ]
  },
  {
   "cell_type": "markdown",
   "metadata": {},
   "source": [
    "## Step 6. Scale to Full Dataset\n",
    "\n",
    "Now that we have established the most important features, we will repeat the process of creating a feature matrix, using only these features, and then make predictions using our full dataset.\n",
    "\n",
    "To start, we will create a new entityset containing our full dataset."
   ]
  },
  {
   "cell_type": "code",
   "execution_count": 38,
   "metadata": {},
   "outputs": [
    {
     "data": {
      "text/plain": [
       "Entityset: instacart_full\n",
       "  Entities:\n",
       "    order_products [Rows: Delayed('int-20035e3b-a0eb-4b31-8a23-64ac155b5a54'), Columns: 7]\n",
       "    orders [Rows: Delayed('int-4a331aa5-235a-47e8-ba16-12a72620fb5e'), Columns: 3]\n",
       "  Relationships:\n",
       "    order_products.order_id -> orders.order_id"
      ]
     },
     "execution_count": 38,
     "metadata": {},
     "output_type": "execute_result"
    }
   ],
   "source": [
    "es = ft.EntitySet(\"instacart_full\")\n",
    "es.entity_from_dataframe(entity_id=\"order_products\",\n",
    "                         dataframe=order_products,\n",
    "                         index=\"order_product_id\",\n",
    "                         variable_types=order_products_vtypes,\n",
    "                         time_index=\"order_time\")\n",
    "\n",
    "es.entity_from_dataframe(entity_id=\"orders\",\n",
    "                         dataframe=orders,\n",
    "                         index=\"order_id\",\n",
    "                         variable_types=order_vtypes,\n",
    "                         time_index=\"order_time\")\n",
    "\n",
    "es.add_relationship(ft.Relationship(es[\"orders\"][\"order_id\"], es[\"order_products\"][\"order_id\"]))"
   ]
  },
  {
   "cell_type": "code",
   "execution_count": 39,
   "metadata": {},
   "outputs": [
    {
     "data": {
      "text/plain": [
       "Entityset: instacart_full\n",
       "  Entities:\n",
       "    order_products [Rows: Delayed('int-98e698ab-a5e3-46f6-a3ba-736ec49c30f9'), Columns: 7]\n",
       "    orders [Rows: Delayed('int-14130fbc-100a-49c2-8c9a-391d477fe7d3'), Columns: 3]\n",
       "    users [Rows: Delayed('int-d07f91a0-5eb9-4037-92be-16695dd18ec6'), Columns: 2]\n",
       "  Relationships:\n",
       "    order_products.order_id -> orders.order_id\n",
       "    orders.user_id -> users.user_id"
      ]
     },
     "execution_count": 39,
     "metadata": {},
     "output_type": "execute_result"
    }
   ],
   "source": [
    "es.normalize_entity(base_entity_id=\"orders\", new_entity_id=\"users\", index=\"user_id\")"
   ]
  },
  {
   "cell_type": "code",
   "execution_count": 40,
   "metadata": {},
   "outputs": [],
   "source": [
    "es.add_last_time_indexes()\n",
    "es[\"order_products\"][\"department\"].interesting_values = ['produce', 'dairy eggs', 'snacks', 'beverages', 'frozen', 'pantry', 'bakery', 'canned goods', 'deli', 'dry goods pasta']\n",
    "es[\"order_products\"][\"product_name\"].interesting_values = ['Banana', 'Bag of Organic Bananas', 'Organic Baby Spinach', 'Organic Strawberries', 'Organic Hass Avocado', 'Organic Avocado', 'Large Lemon', 'Limes', 'Strawberries', 'Organic Whole Milk']"
   ]
  },
  {
   "cell_type": "markdown",
   "metadata": {},
   "source": [
    "We will use our previously defined Compose label maker to create cutoff times for the full dataset."
   ]
  },
  {
   "cell_type": "code",
   "execution_count": 41,
   "metadata": {},
   "outputs": [],
   "source": [
    "df = denormalize(es).compute()"
   ]
  },
  {
   "cell_type": "code",
   "execution_count": 42,
   "metadata": {},
   "outputs": [
    {
     "name": "stdout",
     "output_type": "stream",
     "text": [
      "Elapsed: 08:29 | Remaining: 00:00 | Progress: 100%|██████████| user_id: 412418/412418   \n"
     ]
    }
   ],
   "source": [
    "label_times = lm.search(\n",
    "    df.sort_values('order_time'),\n",
    "    minimum_data='2015-03-15',\n",
    "    num_examples_per_instance=2,\n",
    "    product_name='Banana',\n",
    "    verbose=True,\n",
    ")"
   ]
  },
  {
   "cell_type": "code",
   "execution_count": 43,
   "metadata": {},
   "outputs": [
    {
     "data": {
      "text/html": [
       "<div>\n",
       "<style scoped>\n",
       "    .dataframe tbody tr th:only-of-type {\n",
       "        vertical-align: middle;\n",
       "    }\n",
       "\n",
       "    .dataframe tbody tr th {\n",
       "        vertical-align: top;\n",
       "    }\n",
       "\n",
       "    .dataframe thead th {\n",
       "        text-align: right;\n",
       "    }\n",
       "</style>\n",
       "<table border=\"1\" class=\"dataframe\">\n",
       "  <thead>\n",
       "    <tr style=\"text-align: right;\">\n",
       "      <th></th>\n",
       "      <th>user_id</th>\n",
       "      <th>time</th>\n",
       "      <th>bought_product</th>\n",
       "    </tr>\n",
       "  </thead>\n",
       "  <tbody>\n",
       "    <tr>\n",
       "      <th>0</th>\n",
       "      <td>1</td>\n",
       "      <td>2015-03-15</td>\n",
       "      <td>True</td>\n",
       "    </tr>\n",
       "    <tr>\n",
       "      <th>1</th>\n",
       "      <td>1</td>\n",
       "      <td>2015-04-12</td>\n",
       "      <td>False</td>\n",
       "    </tr>\n",
       "    <tr>\n",
       "      <th>2</th>\n",
       "      <td>2</td>\n",
       "      <td>2015-03-15</td>\n",
       "      <td>True</td>\n",
       "    </tr>\n",
       "    <tr>\n",
       "      <th>3</th>\n",
       "      <td>2</td>\n",
       "      <td>2015-04-12</td>\n",
       "      <td>True</td>\n",
       "    </tr>\n",
       "    <tr>\n",
       "      <th>4</th>\n",
       "      <td>3</td>\n",
       "      <td>2015-03-15</td>\n",
       "      <td>False</td>\n",
       "    </tr>\n",
       "  </tbody>\n",
       "</table>\n",
       "</div>"
      ],
      "text/plain": [
       "   user_id       time  bought_product\n",
       "0        1 2015-03-15            True\n",
       "1        1 2015-04-12           False\n",
       "2        2 2015-03-15            True\n",
       "3        2 2015-04-12            True\n",
       "4        3 2015-03-15           False"
      ]
     },
     "execution_count": 43,
     "metadata": {},
     "output_type": "execute_result"
    }
   ],
   "source": [
    "label_times.head()"
   ]
  },
  {
   "cell_type": "markdown",
   "metadata": {},
   "source": [
    "Next we will read in the top 20 features we identified previously and calculate a feature matrix using only these features."
   ]
  },
  {
   "cell_type": "code",
   "execution_count": 44,
   "metadata": {},
   "outputs": [
    {
     "data": {
      "text/plain": [
       "[<Feature: COUNT(order_products WHERE product_name = Banana)>,\n",
       " <Feature: COUNT(order_products WHERE product_name = Bag of Organic Bananas)>,\n",
       " <Feature: COUNT(order_products WHERE department = produce)>,\n",
       " <Feature: MEAN(orders.NUM_UNIQUE(order_products.product_name))>,\n",
       " <Feature: MEAN(orders.NUM_UNIQUE(order_products.aisle_id))>,\n",
       " <Feature: NUM_UNIQUE(order_products.product_name)>,\n",
       " <Feature: MEAN(orders.NUM_UNIQUE(order_products.department))>,\n",
       " <Feature: STD(orders.PERCENT_TRUE(order_products.reordered))>,\n",
       " <Feature: PERCENT_TRUE(order_products.reordered)>,\n",
       " <Feature: COUNT(order_products WHERE department = dairy eggs)>,\n",
       " <Feature: STD(orders.NUM_UNIQUE(order_products.department))>,\n",
       " <Feature: STD(orders.NUM_UNIQUE(order_products.product_name))>,\n",
       " <Feature: MEAN(orders.PERCENT_TRUE(order_products.reordered))>,\n",
       " <Feature: MEAN(orders.COUNT(order_products))>,\n",
       " <Feature: STD(orders.COUNT(order_products))>,\n",
       " <Feature: SUM(orders.PERCENT_TRUE(order_products.reordered))>,\n",
       " <Feature: STD(orders.NUM_UNIQUE(order_products.aisle_id))>,\n",
       " <Feature: SUM(orders.NUM_UNIQUE(order_products.aisle_id))>,\n",
       " <Feature: SUM(orders.NUM_UNIQUE(order_products.product_name))>,\n",
       " <Feature: SUM(orders.NUM_UNIQUE(order_products.department))>]"
      ]
     },
     "execution_count": 44,
     "metadata": {},
     "output_type": "execute_result"
    }
   ],
   "source": [
    "top_features= ft.load_features(os.path.join(data_dir, \"top_features.txt\"))\n",
    "top_features"
   ]
  },
  {
   "cell_type": "markdown",
   "metadata": {},
   "source": [
    "Having read in the top features we want to use, we can now create our feature matrix on the full dataset with a call to `ft.calculate_feature_matrix()`."
   ]
  },
  {
   "cell_type": "code",
   "execution_count": 45,
   "metadata": {},
   "outputs": [
    {
     "name": "stdout",
     "output_type": "stream",
     "text": [
      "Elapsed: 00:01 | Progress: 100%|██████████\n"
     ]
    }
   ],
   "source": [
    "fm = ft.calculate_feature_matrix(top_features, entityset=es, cutoff_time=label_times, verbose=True)"
   ]
  },
  {
   "cell_type": "markdown",
   "metadata": {},
   "source": [
    "Next, we will compute our feature matrix to bring the results into memory, allowing us to encode categorical features and make our predictions."
   ]
  },
  {
   "cell_type": "code",
   "execution_count": 47,
   "metadata": {},
   "outputs": [
    {
     "name": "stderr",
     "output_type": "stream",
     "text": [
      "distributed.nanny - WARNING - Restarting worker\n"
     ]
    }
   ],
   "source": [
    "fm = fm.compute()"
   ]
  },
  {
   "cell_type": "code",
   "execution_count": 48,
   "metadata": {},
   "outputs": [
    {
     "name": "stdout",
     "output_type": "stream",
     "text": [
      "Number of features 20\n"
     ]
    },
    {
     "data": {
      "text/html": [
       "<div>\n",
       "<style scoped>\n",
       "    .dataframe tbody tr th:only-of-type {\n",
       "        vertical-align: middle;\n",
       "    }\n",
       "\n",
       "    .dataframe tbody tr th {\n",
       "        vertical-align: top;\n",
       "    }\n",
       "\n",
       "    .dataframe thead th {\n",
       "        text-align: right;\n",
       "    }\n",
       "</style>\n",
       "<table border=\"1\" class=\"dataframe\">\n",
       "  <thead>\n",
       "    <tr style=\"text-align: right;\">\n",
       "      <th></th>\n",
       "      <th>COUNT(order_products WHERE product_name = Banana)</th>\n",
       "      <th>COUNT(order_products WHERE product_name = Bag of Organic Bananas)</th>\n",
       "      <th>COUNT(order_products WHERE department = produce)</th>\n",
       "      <th>MEAN(orders.NUM_UNIQUE(order_products.product_name))</th>\n",
       "      <th>MEAN(orders.NUM_UNIQUE(order_products.aisle_id))</th>\n",
       "      <th>NUM_UNIQUE(order_products.product_name)</th>\n",
       "      <th>MEAN(orders.NUM_UNIQUE(order_products.department))</th>\n",
       "      <th>STD(orders.PERCENT_TRUE(order_products.reordered))</th>\n",
       "      <th>PERCENT_TRUE(order_products.reordered)</th>\n",
       "      <th>COUNT(order_products WHERE department = dairy eggs)</th>\n",
       "      <th>...</th>\n",
       "      <th>MEAN(orders.PERCENT_TRUE(order_products.reordered))</th>\n",
       "      <th>MEAN(orders.COUNT(order_products))</th>\n",
       "      <th>STD(orders.COUNT(order_products))</th>\n",
       "      <th>SUM(orders.PERCENT_TRUE(order_products.reordered))</th>\n",
       "      <th>STD(orders.NUM_UNIQUE(order_products.aisle_id))</th>\n",
       "      <th>SUM(orders.NUM_UNIQUE(order_products.aisle_id))</th>\n",
       "      <th>SUM(orders.NUM_UNIQUE(order_products.product_name))</th>\n",
       "      <th>SUM(orders.NUM_UNIQUE(order_products.department))</th>\n",
       "      <th>user_id</th>\n",
       "      <th>bought_product</th>\n",
       "    </tr>\n",
       "  </thead>\n",
       "  <tbody>\n",
       "    <tr>\n",
       "      <th>0</th>\n",
       "      <td>0.0</td>\n",
       "      <td>4.0</td>\n",
       "      <td>4.0</td>\n",
       "      <td>5.25</td>\n",
       "      <td>4.75</td>\n",
       "      <td>10.0</td>\n",
       "      <td>4.00</td>\n",
       "      <td>0.380789</td>\n",
       "      <td>0.523810</td>\n",
       "      <td>12.0</td>\n",
       "      <td>...</td>\n",
       "      <td>0.525000</td>\n",
       "      <td>21.0</td>\n",
       "      <td>1.851640</td>\n",
       "      <td>4.200000</td>\n",
       "      <td>0.462910</td>\n",
       "      <td>38.0</td>\n",
       "      <td>42.0</td>\n",
       "      <td>32.0</td>\n",
       "      <td>1</td>\n",
       "      <td>True</td>\n",
       "    </tr>\n",
       "    <tr>\n",
       "      <th>1</th>\n",
       "      <td>0.0</td>\n",
       "      <td>0.0</td>\n",
       "      <td>2.0</td>\n",
       "      <td>5.75</td>\n",
       "      <td>5.75</td>\n",
       "      <td>20.0</td>\n",
       "      <td>4.75</td>\n",
       "      <td>0.163299</td>\n",
       "      <td>0.130435</td>\n",
       "      <td>2.0</td>\n",
       "      <td>...</td>\n",
       "      <td>0.133333</td>\n",
       "      <td>11.5</td>\n",
       "      <td>1.914854</td>\n",
       "      <td>0.533333</td>\n",
       "      <td>0.957427</td>\n",
       "      <td>23.0</td>\n",
       "      <td>23.0</td>\n",
       "      <td>19.0</td>\n",
       "      <td>189579</td>\n",
       "      <td>False</td>\n",
       "    </tr>\n",
       "    <tr>\n",
       "      <th>2</th>\n",
       "      <td>2.0</td>\n",
       "      <td>0.0</td>\n",
       "      <td>118.0</td>\n",
       "      <td>28.50</td>\n",
       "      <td>12.25</td>\n",
       "      <td>94.0</td>\n",
       "      <td>5.25</td>\n",
       "      <td>0.194873</td>\n",
       "      <td>0.175439</td>\n",
       "      <td>22.0</td>\n",
       "      <td>...</td>\n",
       "      <td>0.157082</td>\n",
       "      <td>57.0</td>\n",
       "      <td>34.273410</td>\n",
       "      <td>0.628327</td>\n",
       "      <td>6.701990</td>\n",
       "      <td>49.0</td>\n",
       "      <td>114.0</td>\n",
       "      <td>21.0</td>\n",
       "      <td>10</td>\n",
       "      <td>False</td>\n",
       "    </tr>\n",
       "    <tr>\n",
       "      <th>3</th>\n",
       "      <td>4.0</td>\n",
       "      <td>0.0</td>\n",
       "      <td>8.0</td>\n",
       "      <td>3.00</td>\n",
       "      <td>3.00</td>\n",
       "      <td>9.0</td>\n",
       "      <td>2.80</td>\n",
       "      <td>0.235807</td>\n",
       "      <td>0.400000</td>\n",
       "      <td>0.0</td>\n",
       "      <td>...</td>\n",
       "      <td>0.413333</td>\n",
       "      <td>12.0</td>\n",
       "      <td>4.618802</td>\n",
       "      <td>4.133333</td>\n",
       "      <td>1.154701</td>\n",
       "      <td>30.0</td>\n",
       "      <td>30.0</td>\n",
       "      <td>28.0</td>\n",
       "      <td>189587</td>\n",
       "      <td>False</td>\n",
       "    </tr>\n",
       "    <tr>\n",
       "      <th>4</th>\n",
       "      <td>0.0</td>\n",
       "      <td>0.0</td>\n",
       "      <td>20.0</td>\n",
       "      <td>12.75</td>\n",
       "      <td>9.75</td>\n",
       "      <td>31.0</td>\n",
       "      <td>6.75</td>\n",
       "      <td>0.319572</td>\n",
       "      <td>0.392157</td>\n",
       "      <td>48.0</td>\n",
       "      <td>...</td>\n",
       "      <td>0.382692</td>\n",
       "      <td>51.0</td>\n",
       "      <td>7.634508</td>\n",
       "      <td>3.061538</td>\n",
       "      <td>1.581139</td>\n",
       "      <td>78.0</td>\n",
       "      <td>102.0</td>\n",
       "      <td>54.0</td>\n",
       "      <td>11</td>\n",
       "      <td>False</td>\n",
       "    </tr>\n",
       "  </tbody>\n",
       "</table>\n",
       "<p>5 rows × 22 columns</p>\n",
       "</div>"
      ],
      "text/plain": [
       "   COUNT(order_products WHERE product_name = Banana)  \\\n",
       "0                                                0.0   \n",
       "1                                                0.0   \n",
       "2                                                2.0   \n",
       "3                                                4.0   \n",
       "4                                                0.0   \n",
       "\n",
       "   COUNT(order_products WHERE product_name = Bag of Organic Bananas)  \\\n",
       "0                                                4.0                   \n",
       "1                                                0.0                   \n",
       "2                                                0.0                   \n",
       "3                                                0.0                   \n",
       "4                                                0.0                   \n",
       "\n",
       "   COUNT(order_products WHERE department = produce)  \\\n",
       "0                                               4.0   \n",
       "1                                               2.0   \n",
       "2                                             118.0   \n",
       "3                                               8.0   \n",
       "4                                              20.0   \n",
       "\n",
       "   MEAN(orders.NUM_UNIQUE(order_products.product_name))  \\\n",
       "0                                               5.25      \n",
       "1                                               5.75      \n",
       "2                                              28.50      \n",
       "3                                               3.00      \n",
       "4                                              12.75      \n",
       "\n",
       "   MEAN(orders.NUM_UNIQUE(order_products.aisle_id))  \\\n",
       "0                                              4.75   \n",
       "1                                              5.75   \n",
       "2                                             12.25   \n",
       "3                                              3.00   \n",
       "4                                              9.75   \n",
       "\n",
       "   NUM_UNIQUE(order_products.product_name)  \\\n",
       "0                                     10.0   \n",
       "1                                     20.0   \n",
       "2                                     94.0   \n",
       "3                                      9.0   \n",
       "4                                     31.0   \n",
       "\n",
       "   MEAN(orders.NUM_UNIQUE(order_products.department))  \\\n",
       "0                                               4.00    \n",
       "1                                               4.75    \n",
       "2                                               5.25    \n",
       "3                                               2.80    \n",
       "4                                               6.75    \n",
       "\n",
       "   STD(orders.PERCENT_TRUE(order_products.reordered))  \\\n",
       "0                                           0.380789    \n",
       "1                                           0.163299    \n",
       "2                                           0.194873    \n",
       "3                                           0.235807    \n",
       "4                                           0.319572    \n",
       "\n",
       "   PERCENT_TRUE(order_products.reordered)  \\\n",
       "0                                0.523810   \n",
       "1                                0.130435   \n",
       "2                                0.175439   \n",
       "3                                0.400000   \n",
       "4                                0.392157   \n",
       "\n",
       "   COUNT(order_products WHERE department = dairy eggs)  ...  \\\n",
       "0                                               12.0    ...   \n",
       "1                                                2.0    ...   \n",
       "2                                               22.0    ...   \n",
       "3                                                0.0    ...   \n",
       "4                                               48.0    ...   \n",
       "\n",
       "   MEAN(orders.PERCENT_TRUE(order_products.reordered))  \\\n",
       "0                                           0.525000     \n",
       "1                                           0.133333     \n",
       "2                                           0.157082     \n",
       "3                                           0.413333     \n",
       "4                                           0.382692     \n",
       "\n",
       "   MEAN(orders.COUNT(order_products))  STD(orders.COUNT(order_products))  \\\n",
       "0                                21.0                           1.851640   \n",
       "1                                11.5                           1.914854   \n",
       "2                                57.0                          34.273410   \n",
       "3                                12.0                           4.618802   \n",
       "4                                51.0                           7.634508   \n",
       "\n",
       "   SUM(orders.PERCENT_TRUE(order_products.reordered))  \\\n",
       "0                                           4.200000    \n",
       "1                                           0.533333    \n",
       "2                                           0.628327    \n",
       "3                                           4.133333    \n",
       "4                                           3.061538    \n",
       "\n",
       "   STD(orders.NUM_UNIQUE(order_products.aisle_id))  \\\n",
       "0                                         0.462910   \n",
       "1                                         0.957427   \n",
       "2                                         6.701990   \n",
       "3                                         1.154701   \n",
       "4                                         1.581139   \n",
       "\n",
       "   SUM(orders.NUM_UNIQUE(order_products.aisle_id))  \\\n",
       "0                                             38.0   \n",
       "1                                             23.0   \n",
       "2                                             49.0   \n",
       "3                                             30.0   \n",
       "4                                             78.0   \n",
       "\n",
       "   SUM(orders.NUM_UNIQUE(order_products.product_name))  \\\n",
       "0                                               42.0     \n",
       "1                                               23.0     \n",
       "2                                              114.0     \n",
       "3                                               30.0     \n",
       "4                                              102.0     \n",
       "\n",
       "   SUM(orders.NUM_UNIQUE(order_products.department))  user_id  bought_product  \n",
       "0                                               32.0        1            True  \n",
       "1                                               19.0   189579           False  \n",
       "2                                               21.0       10           False  \n",
       "3                                               28.0   189587           False  \n",
       "4                                               54.0       11           False  \n",
       "\n",
       "[5 rows x 22 columns]"
      ]
     },
     "execution_count": 48,
     "metadata": {},
     "output_type": "execute_result"
    }
   ],
   "source": [
    "fm_encoded, features_encoded = ft.encode_features(fm, top_features)\n",
    "\n",
    "print(\"Number of features %s\" % len(features_encoded))\n",
    "fm_encoded.head()"
   ]
  },
  {
   "cell_type": "code",
   "execution_count": 49,
   "metadata": {},
   "outputs": [],
   "source": [
    "X = fm_encoded.drop([\"user_id\"], axis=1)\n",
    "X = X.fillna(0)\n",
    "y = X.pop(\"bought_product\").astype('bool')"
   ]
  },
  {
   "cell_type": "code",
   "execution_count": 50,
   "metadata": {},
   "outputs": [
    {
     "name": "stderr",
     "output_type": "stream",
     "text": [
      "[Parallel(n_jobs=1)]: Using backend SequentialBackend with 1 concurrent workers.\n",
      "[Parallel(n_jobs=1)]: Done   3 out of   3 | elapsed:  2.8min finished\n"
     ]
    },
    {
     "data": {
      "text/plain": [
       "'AUC 0.83 +/- 0.00'"
      ]
     },
     "execution_count": 50,
     "metadata": {},
     "output_type": "execute_result"
    }
   ],
   "source": [
    "clf = RandomForestClassifier(n_estimators=400, n_jobs=-1)\n",
    "scores = cross_val_score(estimator=clf,X=X, y=y, cv=3,\n",
    "                         scoring=\"roc_auc\", verbose=True)\n",
    "\n",
    "\"AUC %.2f +/- %.2f\" % (scores.mean(), scores.std())"
   ]
  },
  {
   "cell_type": "code",
   "execution_count": 51,
   "metadata": {},
   "outputs": [
    {
     "name": "stdout",
     "output_type": "stream",
     "text": [
      "1: Feature: COUNT(order_products WHERE product_name = Banana), 0.143\n",
      "2: Feature: COUNT(order_products WHERE product_name = Bag of Organic Bananas), 0.103\n",
      "3: Feature: COUNT(order_products WHERE department = produce), 0.061\n",
      "4: Feature: MEAN(orders.NUM_UNIQUE(order_products.product_name)), 0.050\n",
      "5: Feature: PERCENT_TRUE(order_products.reordered), 0.045\n",
      "6: Feature: STD(orders.PERCENT_TRUE(order_products.reordered)), 0.045\n",
      "7: Feature: MEAN(orders.PERCENT_TRUE(order_products.reordered)), 0.045\n",
      "8: Feature: STD(orders.NUM_UNIQUE(order_products.aisle_id)), 0.042\n",
      "9: Feature: SUM(orders.PERCENT_TRUE(order_products.reordered)), 0.042\n",
      "10: Feature: STD(orders.NUM_UNIQUE(order_products.product_name)), 0.041\n",
      "11: Feature: MEAN(orders.NUM_UNIQUE(order_products.aisle_id)), 0.041\n",
      "12: Feature: NUM_UNIQUE(order_products.product_name), 0.041\n",
      "13: Feature: STD(orders.NUM_UNIQUE(order_products.department)), 0.041\n",
      "14: Feature: STD(orders.COUNT(order_products)), 0.040\n",
      "15: Feature: SUM(orders.NUM_UNIQUE(order_products.product_name)), 0.040\n",
      "16: Feature: COUNT(order_products WHERE department = dairy eggs), 0.038\n",
      "17: Feature: MEAN(orders.NUM_UNIQUE(order_products.department)), 0.037\n",
      "18: Feature: MEAN(orders.COUNT(order_products)), 0.037\n",
      "19: Feature: SUM(orders.NUM_UNIQUE(order_products.aisle_id)), 0.036\n",
      "20: Feature: SUM(orders.NUM_UNIQUE(order_products.department)), 0.032\n"
     ]
    }
   ],
   "source": [
    "clf.fit(X, y)\n",
    "top_features = utils.feature_importances(clf, top_features, n=20)"
   ]
  },
  {
   "cell_type": "markdown",
   "metadata": {},
   "source": [
    "We can see the top features have shifted around some, but the most important features have remained the same."
   ]
  },
  {
   "cell_type": "markdown",
   "metadata": {},
   "source": [
    "Now that we have finished, we can close our Dask client."
   ]
  },
  {
   "cell_type": "code",
   "execution_count": 52,
   "metadata": {},
   "outputs": [],
   "source": [
    "client.close()"
   ]
  },
  {
   "cell_type": "markdown",
   "metadata": {},
   "source": [
    "## Next Steps\n",
    "\n",
    "While this is an end-to-end example of going from raw data to a trained machine learning model, it is necessary to do further exploration before claiming we've built something impactful.\n",
    "\n",
    "Fortunately, Featuretools makes it easy to build structured data science pipeline. As a next steps, you could\n",
    "\n",
    "- Further validate these results by creating feature vectors at different cutoff times\n",
    "- Perform feature selection on a larger subset of the original data to improve results\n",
    "- Define other prediction problems for this dataset (you can even change the entity you are making predictions on!)\n",
    "- Save feature matrices to disk as CSVs so they can be reused with different problems without recalculating\n",
    "- Experiment with parameters to Deep Feature Synthesis"
   ]
  },
  {
   "cell_type": "code",
   "execution_count": null,
   "metadata": {},
   "outputs": [],
   "source": []
  }
 ],
 "metadata": {
  "kernelspec": {
   "display_name": "Python 3.7.4 64-bit ('env': venv)",
   "language": "python",
   "name": "python37464bitenvvenvb0576f6089f14bba82265783ef39e793"
  },
  "language_info": {
   "codemirror_mode": {
    "name": "ipython",
    "version": 3
   },
   "file_extension": ".py",
   "mimetype": "text/x-python",
   "name": "python",
   "nbconvert_exporter": "python",
   "pygments_lexer": "ipython3",
   "version": "3.7.4"
  }
 },
 "nbformat": 4,
 "nbformat_minor": 4
}
